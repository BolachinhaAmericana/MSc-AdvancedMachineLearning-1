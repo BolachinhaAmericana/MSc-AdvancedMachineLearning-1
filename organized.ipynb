{
 "cells": [
  {
   "cell_type": "code",
   "execution_count": 1,
   "metadata": {},
   "outputs": [],
   "source": [
    "import pandas as pd\n",
    "import numpy as np\n",
    "import random\n",
    "import matplotlib.pyplot as plt\n",
    "\n",
    "from pgmpy.models import BayesianNetwork\n",
    "\n",
    "from pgmpy.estimators import ParameterEstimator\n",
    "from pgmpy.estimators import MaximumLikelihoodEstimator\n",
    "from pgmpy.estimators import BayesianEstimator\n",
    "from pgmpy.factors.discrete.CPD import TabularCPD\n",
    "\n",
    "# Structure Learning\n",
    "from pgmpy.base import DAG\n",
    "from pgmpy.estimators import HillClimbSearch\n",
    "from pgmpy.estimators import BDeuScore\n",
    "import networkx as nx\n",
    "\n",
    "from sklearn.metrics import classification_report, confusion_matrix\n",
    "\n",
    "from pgmpy.inference import VariableElimination\n",
    "\n",
    "from imblearn.under_sampling import RandomUnderSampler\n",
    "from imblearn.over_sampling import SMOTENC\n",
    "from sklearn.preprocessing import LabelEncoder"
   ]
  },
  {
   "cell_type": "markdown",
   "metadata": {},
   "source": [
    "# Loading Data"
   ]
  },
  {
   "cell_type": "code",
   "execution_count": 2,
   "metadata": {},
   "outputs": [],
   "source": [
    "df_train = pd.read_csv('./Data/cardiovascular_train.csv')\n",
    "df_test = pd.read_csv('./Data/cardiovascular_test.csv')"
   ]
  },
  {
   "cell_type": "markdown",
   "metadata": {},
   "source": [
    "### Applying SMOTE to Diabetes Column"
   ]
  },
  {
   "cell_type": "code",
   "execution_count": 3,
   "metadata": {},
   "outputs": [],
   "source": [
    "categorical_columns = ['Age', 'Anxiety', 'BodyMassIndex', 'Depression', 'Diabetes',   # All Exept SocioeconomicStatus\n",
    "       'EducationLevel', 'Hypercholesterolemia', 'Hypertension',\n",
    "       'PhysicalActivity', 'Sex', 'SleepDuration', 'SmokerProfile']\n",
    "\n",
    "encoders = {col: LabelEncoder() for col in categorical_columns}"
   ]
  },
  {
   "cell_type": "code",
   "execution_count": 4,
   "metadata": {},
   "outputs": [],
   "source": [
    "# Apply label encoding to each column\n",
    "for col in categorical_columns:\n",
    "    df_train[col] = encoders[col].fit_transform(df_train[col])\n",
    "    df_test[col] = encoders[col].transform(df_test[col])\n",
    "\n",
    "X_train = df_train.drop('Diabetes', axis=1)\n",
    "y_train = df_train['Diabetes']\n",
    "X_test = df_test.drop('Diabetes', axis=1)\n",
    "y_test = df_test['Diabetes']"
   ]
  },
  {
   "cell_type": "code",
   "execution_count": 5,
   "metadata": {},
   "outputs": [
    {
     "data": {
      "text/plain": [
       "Diabetes\n",
       "0    3669\n",
       "1     733\n",
       "Name: count, dtype: int64"
      ]
     },
     "execution_count": 5,
     "metadata": {},
     "output_type": "execute_result"
    }
   ],
   "source": [
    "categorical_feature_indices = [X_train.columns.get_loc(col) for col in categorical_columns if col != 'Diabetes']\n",
    "\n",
    "smote_nc = SMOTENC(categorical_features=categorical_feature_indices, random_state=42, sampling_strategy=0.2)\n",
    "\n",
    "X_train_resampled, y_resampled = smote_nc.fit_resample(X_train, y_train)\n",
    "y_resampled.value_counts()"
   ]
  },
  {
   "cell_type": "markdown",
   "metadata": {},
   "source": [
    "# Visualizing Data"
   ]
  },
  {
   "cell_type": "code",
   "execution_count": 6,
   "metadata": {},
   "outputs": [
    {
     "name": "stdout",
     "output_type": "stream",
     "text": [
      "Index(['Age', 'Anxiety', 'BodyMassIndex', 'Depression', 'Diabetes',\n",
      "       'EducationLevel', 'Hypercholesterolemia', 'Hypertension',\n",
      "       'PhysicalActivity', 'Sex', 'SleepDuration', 'SmokerProfile',\n",
      "       'SocioeconomicStatus'],\n",
      "      dtype='object')\n"
     ]
    },
    {
     "data": {
      "text/html": [
       "<div>\n",
       "<style scoped>\n",
       "    .dataframe tbody tr th:only-of-type {\n",
       "        vertical-align: middle;\n",
       "    }\n",
       "\n",
       "    .dataframe tbody tr th {\n",
       "        vertical-align: top;\n",
       "    }\n",
       "\n",
       "    .dataframe thead th {\n",
       "        text-align: right;\n",
       "    }\n",
       "</style>\n",
       "<table border=\"1\" class=\"dataframe\">\n",
       "  <thead>\n",
       "    <tr style=\"text-align: right;\">\n",
       "      <th></th>\n",
       "      <th>Age</th>\n",
       "      <th>Anxiety</th>\n",
       "      <th>BodyMassIndex</th>\n",
       "      <th>Depression</th>\n",
       "      <th>Diabetes</th>\n",
       "      <th>EducationLevel</th>\n",
       "      <th>Hypercholesterolemia</th>\n",
       "      <th>Hypertension</th>\n",
       "      <th>PhysicalActivity</th>\n",
       "      <th>Sex</th>\n",
       "      <th>SleepDuration</th>\n",
       "      <th>SmokerProfile</th>\n",
       "      <th>SocioeconomicStatus</th>\n",
       "    </tr>\n",
       "  </thead>\n",
       "  <tbody>\n",
       "    <tr>\n",
       "      <th>0</th>\n",
       "      <td>4</td>\n",
       "      <td>0</td>\n",
       "      <td>2</td>\n",
       "      <td>0</td>\n",
       "      <td>0</td>\n",
       "      <td>1</td>\n",
       "      <td>0</td>\n",
       "      <td>0</td>\n",
       "      <td>1</td>\n",
       "      <td>1</td>\n",
       "      <td>0</td>\n",
       "      <td>2</td>\n",
       "      <td>3</td>\n",
       "    </tr>\n",
       "    <tr>\n",
       "      <th>1</th>\n",
       "      <td>1</td>\n",
       "      <td>0</td>\n",
       "      <td>1</td>\n",
       "      <td>0</td>\n",
       "      <td>0</td>\n",
       "      <td>2</td>\n",
       "      <td>1</td>\n",
       "      <td>0</td>\n",
       "      <td>1</td>\n",
       "      <td>0</td>\n",
       "      <td>0</td>\n",
       "      <td>1</td>\n",
       "      <td>3</td>\n",
       "    </tr>\n",
       "    <tr>\n",
       "      <th>2</th>\n",
       "      <td>1</td>\n",
       "      <td>0</td>\n",
       "      <td>2</td>\n",
       "      <td>0</td>\n",
       "      <td>0</td>\n",
       "      <td>1</td>\n",
       "      <td>0</td>\n",
       "      <td>0</td>\n",
       "      <td>0</td>\n",
       "      <td>1</td>\n",
       "      <td>0</td>\n",
       "      <td>1</td>\n",
       "      <td>1</td>\n",
       "    </tr>\n",
       "    <tr>\n",
       "      <th>3</th>\n",
       "      <td>2</td>\n",
       "      <td>0</td>\n",
       "      <td>2</td>\n",
       "      <td>0</td>\n",
       "      <td>0</td>\n",
       "      <td>1</td>\n",
       "      <td>1</td>\n",
       "      <td>1</td>\n",
       "      <td>1</td>\n",
       "      <td>1</td>\n",
       "      <td>1</td>\n",
       "      <td>1</td>\n",
       "      <td>3</td>\n",
       "    </tr>\n",
       "    <tr>\n",
       "      <th>4</th>\n",
       "      <td>3</td>\n",
       "      <td>0</td>\n",
       "      <td>2</td>\n",
       "      <td>0</td>\n",
       "      <td>1</td>\n",
       "      <td>1</td>\n",
       "      <td>0</td>\n",
       "      <td>1</td>\n",
       "      <td>1</td>\n",
       "      <td>0</td>\n",
       "      <td>0</td>\n",
       "      <td>2</td>\n",
       "      <td>3</td>\n",
       "    </tr>\n",
       "  </tbody>\n",
       "</table>\n",
       "</div>"
      ],
      "text/plain": [
       "   Age  Anxiety  BodyMassIndex  Depression  Diabetes  EducationLevel  \\\n",
       "0    4        0              2           0         0               1   \n",
       "1    1        0              1           0         0               2   \n",
       "2    1        0              2           0         0               1   \n",
       "3    2        0              2           0         0               1   \n",
       "4    3        0              2           0         1               1   \n",
       "\n",
       "   Hypercholesterolemia  Hypertension  PhysicalActivity  Sex  SleepDuration  \\\n",
       "0                     0             0                 1    1              0   \n",
       "1                     1             0                 1    0              0   \n",
       "2                     0             0                 0    1              0   \n",
       "3                     1             1                 1    1              1   \n",
       "4                     0             1                 1    0              0   \n",
       "\n",
       "   SmokerProfile  SocioeconomicStatus  \n",
       "0              2                    3  \n",
       "1              1                    3  \n",
       "2              1                    1  \n",
       "3              1                    3  \n",
       "4              2                    3  "
      ]
     },
     "execution_count": 6,
     "metadata": {},
     "output_type": "execute_result"
    }
   ],
   "source": [
    "print(df_train.columns)\n",
    "df_train.head()"
   ]
  },
  {
   "cell_type": "markdown",
   "metadata": {},
   "source": [
    "# Structure Learning - Creating a DAG"
   ]
  },
  {
   "cell_type": "markdown",
   "metadata": {},
   "source": [
    "## With No SMOTE"
   ]
  },
  {
   "cell_type": "code",
   "execution_count": 7,
   "metadata": {},
   "outputs": [],
   "source": [
    "nodes = set(df_train.columns)\n",
    "root_nodes = ['Age', 'Sex']\n",
    "impossible_connections = []\n",
    "\n",
    "for root_node in root_nodes:\n",
    "    for node in nodes:\n",
    "        connection = (node, root_node)\n",
    "        impossible_connections.append(connection)\n",
    "\n",
    "blacklist = set(impossible_connections)"
   ]
  },
  {
   "cell_type": "code",
   "execution_count": 8,
   "metadata": {},
   "outputs": [],
   "source": [
    "def initialize_graph(nodes, p=1, blacklist=[]):\n",
    "    G = DAG()\n",
    "    G.add_nodes_from(nodes=nodes)\n",
    "    init = G.get_random(n_nodes=len(nodes), edge_prob=p)\n",
    "    ls = []\n",
    "    mapping = {k: nodes[k] for k in range(len(nodes))}\n",
    "    for i, j in init.edges:\n",
    "        edge = (mapping[i], mapping[j])\n",
    "        if edge not in blacklist:\n",
    "            ls.append(edge)\n",
    "    G.add_edges_from(ebunch=ls)\n",
    "    return G"
   ]
  },
  {
   "cell_type": "code",
   "execution_count": 9,
   "metadata": {},
   "outputs": [],
   "source": [
    "score_metric = BDeuScore(df_train)\n",
    "es = HillClimbSearch(df_train)"
   ]
  },
  {
   "cell_type": "code",
   "execution_count": 10,
   "metadata": {},
   "outputs": [
    {
     "data": {
      "application/vnd.jupyter.widget-view+json": {
       "model_id": "dac8bc61b80a4582bda1baeb9fecb349",
       "version_major": 2,
       "version_minor": 0
      },
      "text/plain": [
       "  0%|          | 0/1000000 [00:00<?, ?it/s]"
      ]
     },
     "metadata": {},
     "output_type": "display_data"
    },
    {
     "name": "stdout",
     "output_type": "stream",
     "text": [
      "-31606.253508188867\n"
     ]
    },
    {
     "data": {
      "application/vnd.jupyter.widget-view+json": {
       "model_id": "87dd1ac9c1574e8ca1885c7c4b4be149",
       "version_major": 2,
       "version_minor": 0
      },
      "text/plain": [
       "  0%|          | 0/1000000 [00:00<?, ?it/s]"
      ]
     },
     "metadata": {},
     "output_type": "display_data"
    },
    {
     "name": "stdout",
     "output_type": "stream",
     "text": [
      "-31558.94390192463\n"
     ]
    },
    {
     "data": {
      "application/vnd.jupyter.widget-view+json": {
       "model_id": "76803ffd69234650b34e61317af9ce87",
       "version_major": 2,
       "version_minor": 0
      },
      "text/plain": [
       "  0%|          | 0/1000000 [00:00<?, ?it/s]"
      ]
     },
     "metadata": {},
     "output_type": "display_data"
    },
    {
     "name": "stdout",
     "output_type": "stream",
     "text": [
      "-31740.617068477128\n"
     ]
    },
    {
     "data": {
      "application/vnd.jupyter.widget-view+json": {
       "model_id": "44498a66a4a247ff9b5b4665bd5b0e5a",
       "version_major": 2,
       "version_minor": 0
      },
      "text/plain": [
       "  0%|          | 0/1000000 [00:00<?, ?it/s]"
      ]
     },
     "metadata": {},
     "output_type": "display_data"
    },
    {
     "name": "stdout",
     "output_type": "stream",
     "text": [
      "-31537.85383520286\n"
     ]
    },
    {
     "data": {
      "application/vnd.jupyter.widget-view+json": {
       "model_id": "ae3888e13a4e4feda64034fa234d22bd",
       "version_major": 2,
       "version_minor": 0
      },
      "text/plain": [
       "  0%|          | 0/1000000 [00:00<?, ?it/s]"
      ]
     },
     "metadata": {},
     "output_type": "display_data"
    },
    {
     "name": "stdout",
     "output_type": "stream",
     "text": [
      "-31541.948505997258\n"
     ]
    },
    {
     "data": {
      "application/vnd.jupyter.widget-view+json": {
       "model_id": "1778f8075ce64ddd9bbaf739cb15c8fc",
       "version_major": 2,
       "version_minor": 0
      },
      "text/plain": [
       "  0%|          | 0/1000000 [00:00<?, ?it/s]"
      ]
     },
     "metadata": {},
     "output_type": "display_data"
    },
    {
     "name": "stdout",
     "output_type": "stream",
     "text": [
      "-31620.365805919697\n"
     ]
    },
    {
     "data": {
      "application/vnd.jupyter.widget-view+json": {
       "model_id": "c7b74f00004c4180b5a7d62a4ead15e2",
       "version_major": 2,
       "version_minor": 0
      },
      "text/plain": [
       "  0%|          | 0/1000000 [00:00<?, ?it/s]"
      ]
     },
     "metadata": {},
     "output_type": "display_data"
    },
    {
     "name": "stdout",
     "output_type": "stream",
     "text": [
      "-31688.767063841977\n"
     ]
    },
    {
     "data": {
      "application/vnd.jupyter.widget-view+json": {
       "model_id": "23538eb036ba45cfa0f50dbaecf084d7",
       "version_major": 2,
       "version_minor": 0
      },
      "text/plain": [
       "  0%|          | 0/1000000 [00:00<?, ?it/s]"
      ]
     },
     "metadata": {},
     "output_type": "display_data"
    },
    {
     "name": "stdout",
     "output_type": "stream",
     "text": [
      "-31625.598996946195\n"
     ]
    },
    {
     "data": {
      "application/vnd.jupyter.widget-view+json": {
       "model_id": "57525d2f0bc844c8a8801926545705ed",
       "version_major": 2,
       "version_minor": 0
      },
      "text/plain": [
       "  0%|          | 0/1000000 [00:00<?, ?it/s]"
      ]
     },
     "metadata": {},
     "output_type": "display_data"
    },
    {
     "name": "stdout",
     "output_type": "stream",
     "text": [
      "-31654.373608079317\n"
     ]
    },
    {
     "data": {
      "application/vnd.jupyter.widget-view+json": {
       "model_id": "257e8095adb9476fbc7389a37794b103",
       "version_major": 2,
       "version_minor": 0
      },
      "text/plain": [
       "  0%|          | 0/1000000 [00:00<?, ?it/s]"
      ]
     },
     "metadata": {},
     "output_type": "display_data"
    },
    {
     "name": "stdout",
     "output_type": "stream",
     "text": [
      "-31537.10971385091\n"
     ]
    },
    {
     "data": {
      "application/vnd.jupyter.widget-view+json": {
       "model_id": "050e6cb1f7a843dd8539a48e3d66b638",
       "version_major": 2,
       "version_minor": 0
      },
      "text/plain": [
       "  0%|          | 0/1000000 [00:00<?, ?it/s]"
      ]
     },
     "metadata": {},
     "output_type": "display_data"
    },
    {
     "name": "stdout",
     "output_type": "stream",
     "text": [
      "-31619.391007874103\n"
     ]
    },
    {
     "data": {
      "application/vnd.jupyter.widget-view+json": {
       "model_id": "e1def65c948a42b0ab06579834b032c3",
       "version_major": 2,
       "version_minor": 0
      },
      "text/plain": [
       "  0%|          | 0/1000000 [00:00<?, ?it/s]"
      ]
     },
     "metadata": {},
     "output_type": "display_data"
    },
    {
     "name": "stdout",
     "output_type": "stream",
     "text": [
      "-31556.38789626751\n"
     ]
    },
    {
     "data": {
      "application/vnd.jupyter.widget-view+json": {
       "model_id": "775d005e449f4f4f850ef485b8b8c84a",
       "version_major": 2,
       "version_minor": 0
      },
      "text/plain": [
       "  0%|          | 0/1000000 [00:00<?, ?it/s]"
      ]
     },
     "metadata": {},
     "output_type": "display_data"
    },
    {
     "name": "stdout",
     "output_type": "stream",
     "text": [
      "-31559.27350371092\n"
     ]
    },
    {
     "data": {
      "application/vnd.jupyter.widget-view+json": {
       "model_id": "7762acd3f28d4e51ac0332aaad665cad",
       "version_major": 2,
       "version_minor": 0
      },
      "text/plain": [
       "  0%|          | 0/1000000 [00:00<?, ?it/s]"
      ]
     },
     "metadata": {},
     "output_type": "display_data"
    },
    {
     "name": "stdout",
     "output_type": "stream",
     "text": [
      "-31620.365805919693\n"
     ]
    },
    {
     "data": {
      "application/vnd.jupyter.widget-view+json": {
       "model_id": "143f9af67a374f16afa9e81f0c682c52",
       "version_major": 2,
       "version_minor": 0
      },
      "text/plain": [
       "  0%|          | 0/1000000 [00:00<?, ?it/s]"
      ]
     },
     "metadata": {},
     "output_type": "display_data"
    },
    {
     "name": "stdout",
     "output_type": "stream",
     "text": [
      "-31682.090637422116\n",
      "-31740.617068477128\n"
     ]
    }
   ],
   "source": [
    "rand_list = [random.randrange(3, 7) for _ in range(0,15)]\n",
    "rand_list = [x/10 for x in rand_list]\n",
    "best_eval = 0\n",
    "for x, y in zip(range(0,15), rand_list):\n",
    "    current_model = es.estimate(scoring_method=score_metric, black_list=blacklist, start_dag=initialize_graph(nodes=list(nodes), p=y, blacklist=blacklist))\n",
    "    curr_eval = score_metric.score(current_model)\n",
    "    print(curr_eval)\n",
    "    if curr_eval < best_eval:\n",
    "        best_eval = curr_eval\n",
    "        best_model = current_model\n",
    "\n",
    "print(best_eval)"
   ]
  },
  {
   "cell_type": "code",
   "execution_count": 11,
   "metadata": {},
   "outputs": [
    {
     "name": "stdout",
     "output_type": "stream",
     "text": [
      "[('Sex', 'SocioeconomicStatus'), ('Sex', 'Hypercholesterolemia'), ('Sex', 'Anxiety'), ('Sex', 'Diabetes'), ('Hypertension', 'PhysicalActivity'), ('Hypertension', 'Anxiety'), ('SleepDuration', 'Depression'), ('Age', 'SocioeconomicStatus'), ('Age', 'Hypercholesterolemia'), ('Age', 'SmokerProfile'), ('Age', 'BodyMassIndex'), ('Age', 'SleepDuration'), ('Hypercholesterolemia', 'SmokerProfile'), ('Hypercholesterolemia', 'Hypertension'), ('Hypercholesterolemia', 'SleepDuration'), ('Hypercholesterolemia', 'Diabetes'), ('Depression', 'EducationLevel'), ('SmokerProfile', 'BodyMassIndex'), ('SmokerProfile', 'PhysicalActivity'), ('BodyMassIndex', 'PhysicalActivity'), ('PhysicalActivity', 'EducationLevel'), ('PhysicalActivity', 'Diabetes')]\n"
     ]
    },
    {
     "data": {
      "image/png": "[encoded data removed]",
      "text/plain": [
       "<Figure size 800x800 with 1 Axes>"
      ]
     },
     "metadata": {},
     "output_type": "display_data"
    }
   ],
   "source": [
    "plt.figure(figsize=(8, 8))\n",
    "nx.draw(nx.DiGraph(best_model.edges()), with_labels=True)\n",
    "plt.draw()\n",
    "print(best_model.edges())"
   ]
  },
  {
   "cell_type": "markdown",
   "metadata": {},
   "source": [
    "## With SMOTE"
   ]
  },
  {
   "cell_type": "code",
   "execution_count": 12,
   "metadata": {},
   "outputs": [],
   "source": [
    "df_resampled = X_train_resampled\n",
    "df_resampled['Diabetes'] = y_resampled"
   ]
  },
  {
   "cell_type": "code",
   "execution_count": 13,
   "metadata": {},
   "outputs": [
    {
     "data": {
      "text/html": [
       "<div>\n",
       "<style scoped>\n",
       "    .dataframe tbody tr th:only-of-type {\n",
       "        vertical-align: middle;\n",
       "    }\n",
       "\n",
       "    .dataframe tbody tr th {\n",
       "        vertical-align: top;\n",
       "    }\n",
       "\n",
       "    .dataframe thead th {\n",
       "        text-align: right;\n",
       "    }\n",
       "</style>\n",
       "<table border=\"1\" class=\"dataframe\">\n",
       "  <thead>\n",
       "    <tr style=\"text-align: right;\">\n",
       "      <th></th>\n",
       "      <th>Age</th>\n",
       "      <th>Anxiety</th>\n",
       "      <th>BodyMassIndex</th>\n",
       "      <th>Depression</th>\n",
       "      <th>EducationLevel</th>\n",
       "      <th>Hypercholesterolemia</th>\n",
       "      <th>Hypertension</th>\n",
       "      <th>PhysicalActivity</th>\n",
       "      <th>Sex</th>\n",
       "      <th>SleepDuration</th>\n",
       "      <th>SmokerProfile</th>\n",
       "      <th>SocioeconomicStatus</th>\n",
       "      <th>Diabetes</th>\n",
       "    </tr>\n",
       "  </thead>\n",
       "  <tbody>\n",
       "    <tr>\n",
       "      <th>0</th>\n",
       "      <td>4</td>\n",
       "      <td>0</td>\n",
       "      <td>2</td>\n",
       "      <td>0</td>\n",
       "      <td>1</td>\n",
       "      <td>0</td>\n",
       "      <td>0</td>\n",
       "      <td>1</td>\n",
       "      <td>1</td>\n",
       "      <td>0</td>\n",
       "      <td>2</td>\n",
       "      <td>3</td>\n",
       "      <td>0</td>\n",
       "    </tr>\n",
       "    <tr>\n",
       "      <th>1</th>\n",
       "      <td>1</td>\n",
       "      <td>0</td>\n",
       "      <td>1</td>\n",
       "      <td>0</td>\n",
       "      <td>2</td>\n",
       "      <td>1</td>\n",
       "      <td>0</td>\n",
       "      <td>1</td>\n",
       "      <td>0</td>\n",
       "      <td>0</td>\n",
       "      <td>1</td>\n",
       "      <td>3</td>\n",
       "      <td>0</td>\n",
       "    </tr>\n",
       "    <tr>\n",
       "      <th>2</th>\n",
       "      <td>1</td>\n",
       "      <td>0</td>\n",
       "      <td>2</td>\n",
       "      <td>0</td>\n",
       "      <td>1</td>\n",
       "      <td>0</td>\n",
       "      <td>0</td>\n",
       "      <td>0</td>\n",
       "      <td>1</td>\n",
       "      <td>0</td>\n",
       "      <td>1</td>\n",
       "      <td>1</td>\n",
       "      <td>0</td>\n",
       "    </tr>\n",
       "    <tr>\n",
       "      <th>3</th>\n",
       "      <td>2</td>\n",
       "      <td>0</td>\n",
       "      <td>2</td>\n",
       "      <td>0</td>\n",
       "      <td>1</td>\n",
       "      <td>1</td>\n",
       "      <td>1</td>\n",
       "      <td>1</td>\n",
       "      <td>1</td>\n",
       "      <td>1</td>\n",
       "      <td>1</td>\n",
       "      <td>3</td>\n",
       "      <td>0</td>\n",
       "    </tr>\n",
       "    <tr>\n",
       "      <th>4</th>\n",
       "      <td>3</td>\n",
       "      <td>0</td>\n",
       "      <td>2</td>\n",
       "      <td>0</td>\n",
       "      <td>1</td>\n",
       "      <td>0</td>\n",
       "      <td>1</td>\n",
       "      <td>1</td>\n",
       "      <td>0</td>\n",
       "      <td>0</td>\n",
       "      <td>2</td>\n",
       "      <td>3</td>\n",
       "      <td>1</td>\n",
       "    </tr>\n",
       "  </tbody>\n",
       "</table>\n",
       "</div>"
      ],
      "text/plain": [
       "   Age  Anxiety  BodyMassIndex  Depression  EducationLevel  \\\n",
       "0    4        0              2           0               1   \n",
       "1    1        0              1           0               2   \n",
       "2    1        0              2           0               1   \n",
       "3    2        0              2           0               1   \n",
       "4    3        0              2           0               1   \n",
       "\n",
       "   Hypercholesterolemia  Hypertension  PhysicalActivity  Sex  SleepDuration  \\\n",
       "0                     0             0                 1    1              0   \n",
       "1                     1             0                 1    0              0   \n",
       "2                     0             0                 0    1              0   \n",
       "3                     1             1                 1    1              1   \n",
       "4                     0             1                 1    0              0   \n",
       "\n",
       "   SmokerProfile  SocioeconomicStatus  Diabetes  \n",
       "0              2                    3         0  \n",
       "1              1                    3         0  \n",
       "2              1                    1         0  \n",
       "3              1                    3         0  \n",
       "4              2                    3         1  "
      ]
     },
     "execution_count": 13,
     "metadata": {},
     "output_type": "execute_result"
    }
   ],
   "source": [
    "df_resampled.head()"
   ]
  },
  {
   "cell_type": "code",
   "execution_count": 14,
   "metadata": {},
   "outputs": [],
   "source": [
    "score_metric = BDeuScore(df_resampled)\n",
    "es = HillClimbSearch(df_resampled)"
   ]
  },
  {
   "cell_type": "code",
   "execution_count": 15,
   "metadata": {},
   "outputs": [
    {
     "data": {
      "application/vnd.jupyter.widget-view+json": {
       "model_id": "35b21492de2c41f38ff0a8e1b6da8e78",
       "version_major": 2,
       "version_minor": 0
      },
      "text/plain": [
       "  0%|          | 0/1000000 [00:00<?, ?it/s]"
      ]
     },
     "metadata": {},
     "output_type": "display_data"
    },
    {
     "name": "stdout",
     "output_type": "stream",
     "text": [
      "-40237.78229577239\n"
     ]
    },
    {
     "data": {
      "application/vnd.jupyter.widget-view+json": {
       "model_id": "5db7124f8e5b4b3082c9a0bbd99858c7",
       "version_major": 2,
       "version_minor": 0
      },
      "text/plain": [
       "  0%|          | 0/1000000 [00:00<?, ?it/s]"
      ]
     },
     "metadata": {},
     "output_type": "display_data"
    },
    {
     "name": "stdout",
     "output_type": "stream",
     "text": [
      "-40323.51641560772\n"
     ]
    },
    {
     "data": {
      "application/vnd.jupyter.widget-view+json": {
       "model_id": "564b1f3067334e9fbcfe64339fe70097",
       "version_major": 2,
       "version_minor": 0
      },
      "text/plain": [
       "  0%|          | 0/1000000 [00:00<?, ?it/s]"
      ]
     },
     "metadata": {},
     "output_type": "display_data"
    },
    {
     "name": "stdout",
     "output_type": "stream",
     "text": [
      "-40292.05329713743\n"
     ]
    },
    {
     "data": {
      "application/vnd.jupyter.widget-view+json": {
       "model_id": "25ae039646194b5dbcd0555e2b6bd2de",
       "version_major": 2,
       "version_minor": 0
      },
      "text/plain": [
       "  0%|          | 0/1000000 [00:00<?, ?it/s]"
      ]
     },
     "metadata": {},
     "output_type": "display_data"
    },
    {
     "name": "stdout",
     "output_type": "stream",
     "text": [
      "-40372.55791069651\n"
     ]
    },
    {
     "data": {
      "application/vnd.jupyter.widget-view+json": {
       "model_id": "afbff7d3fc38495088ab0b3b8f8f522a",
       "version_major": 2,
       "version_minor": 0
      },
      "text/plain": [
       "  0%|          | 0/1000000 [00:00<?, ?it/s]"
      ]
     },
     "metadata": {},
     "output_type": "display_data"
    },
    {
     "name": "stdout",
     "output_type": "stream",
     "text": [
      "-40350.7424061256\n"
     ]
    },
    {
     "data": {
      "application/vnd.jupyter.widget-view+json": {
       "model_id": "e63f70d387c44f38a3e901c745652a1f",
       "version_major": 2,
       "version_minor": 0
      },
      "text/plain": [
       "  0%|          | 0/1000000 [00:00<?, ?it/s]"
      ]
     },
     "metadata": {},
     "output_type": "display_data"
    },
    {
     "name": "stdout",
     "output_type": "stream",
     "text": [
      "-40273.95401493411\n"
     ]
    },
    {
     "data": {
      "application/vnd.jupyter.widget-view+json": {
       "model_id": "00a5006dbbe34b2b8f443857efa92cb8",
       "version_major": 2,
       "version_minor": 0
      },
      "text/plain": [
       "  0%|          | 0/1000000 [00:00<?, ?it/s]"
      ]
     },
     "metadata": {},
     "output_type": "display_data"
    },
    {
     "name": "stdout",
     "output_type": "stream",
     "text": [
      "-40384.57971588798\n"
     ]
    },
    {
     "data": {
      "application/vnd.jupyter.widget-view+json": {
       "model_id": "101e62ed3a314a89881bf4e75734a048",
       "version_major": 2,
       "version_minor": 0
      },
      "text/plain": [
       "  0%|          | 0/1000000 [00:00<?, ?it/s]"
      ]
     },
     "metadata": {},
     "output_type": "display_data"
    },
    {
     "name": "stdout",
     "output_type": "stream",
     "text": [
      "-40365.7618705292\n"
     ]
    },
    {
     "data": {
      "application/vnd.jupyter.widget-view+json": {
       "model_id": "27d96d79abd7465a83df9f12006a2736",
       "version_major": 2,
       "version_minor": 0
      },
      "text/plain": [
       "  0%|          | 0/1000000 [00:00<?, ?it/s]"
      ]
     },
     "metadata": {},
     "output_type": "display_data"
    },
    {
     "name": "stdout",
     "output_type": "stream",
     "text": [
      "-40211.147695346335\n"
     ]
    },
    {
     "data": {
      "application/vnd.jupyter.widget-view+json": {
       "model_id": "8c94e22b059445429476ec9a0aa66294",
       "version_major": 2,
       "version_minor": 0
      },
      "text/plain": [
       "  0%|          | 0/1000000 [00:00<?, ?it/s]"
      ]
     },
     "metadata": {},
     "output_type": "display_data"
    },
    {
     "name": "stdout",
     "output_type": "stream",
     "text": [
      "-40193.14329394883\n"
     ]
    },
    {
     "data": {
      "application/vnd.jupyter.widget-view+json": {
       "model_id": "cff4cd0ec78c4bb3a9be356c263ff905",
       "version_major": 2,
       "version_minor": 0
      },
      "text/plain": [
       "  0%|          | 0/1000000 [00:00<?, ?it/s]"
      ]
     },
     "metadata": {},
     "output_type": "display_data"
    },
    {
     "name": "stdout",
     "output_type": "stream",
     "text": [
      "-40319.90210470327\n"
     ]
    },
    {
     "data": {
      "application/vnd.jupyter.widget-view+json": {
       "model_id": "a89b527f85424354bc730e0a51d451eb",
       "version_major": 2,
       "version_minor": 0
      },
      "text/plain": [
       "  0%|          | 0/1000000 [00:00<?, ?it/s]"
      ]
     },
     "metadata": {},
     "output_type": "display_data"
    },
    {
     "name": "stdout",
     "output_type": "stream",
     "text": [
      "-40509.056784247136\n"
     ]
    },
    {
     "data": {
      "application/vnd.jupyter.widget-view+json": {
       "model_id": "0ff5c056f5c64c32a2cce2820a500642",
       "version_major": 2,
       "version_minor": 0
      },
      "text/plain": [
       "  0%|          | 0/1000000 [00:00<?, ?it/s]"
      ]
     },
     "metadata": {},
     "output_type": "display_data"
    },
    {
     "name": "stdout",
     "output_type": "stream",
     "text": [
      "-40191.455353312514\n"
     ]
    },
    {
     "data": {
      "application/vnd.jupyter.widget-view+json": {
       "model_id": "4f368ba85c374549a306e8fb9935d5b6",
       "version_major": 2,
       "version_minor": 0
      },
      "text/plain": [
       "  0%|          | 0/1000000 [00:00<?, ?it/s]"
      ]
     },
     "metadata": {},
     "output_type": "display_data"
    },
    {
     "name": "stdout",
     "output_type": "stream",
     "text": [
      "-40267.861134322164\n"
     ]
    },
    {
     "data": {
      "application/vnd.jupyter.widget-view+json": {
       "model_id": "51f54a6713804f5e8ecd7246e962f685",
       "version_major": 2,
       "version_minor": 0
      },
      "text/plain": [
       "  0%|          | 0/1000000 [00:00<?, ?it/s]"
      ]
     },
     "metadata": {},
     "output_type": "display_data"
    },
    {
     "name": "stdout",
     "output_type": "stream",
     "text": [
      "-40414.48247586103\n",
      "-40509.056784247136\n"
     ]
    }
   ],
   "source": [
    "best_eval_balanced = 0\n",
    "for x, y in zip(range(0,15), rand_list):\n",
    "    current_balanced_model = es.estimate(scoring_method=score_metric, black_list=blacklist, start_dag=initialize_graph(nodes=list(nodes), p=y, blacklist=blacklist))\n",
    "    curr_balanced_eval = score_metric.score(current_balanced_model)\n",
    "    print(curr_balanced_eval)\n",
    "    if curr_balanced_eval < best_eval_balanced:\n",
    "        best_eval_balanced = curr_balanced_eval\n",
    "        best_balanced_model = current_balanced_model\n",
    "\n",
    "print(best_eval_balanced)"
   ]
  },
  {
   "cell_type": "code",
   "execution_count": 16,
   "metadata": {},
   "outputs": [
    {
     "name": "stdout",
     "output_type": "stream",
     "text": [
      "[('Sex', 'Diabetes'), ('Sex', 'PhysicalActivity'), ('Sex', 'Anxiety'), ('Hypertension', 'BodyMassIndex'), ('Hypertension', 'Anxiety'), ('SleepDuration', 'EducationLevel'), ('Age', 'Hypercholesterolemia'), ('Age', 'PhysicalActivity'), ('Age', 'Diabetes'), ('Hypercholesterolemia', 'Hypertension'), ('Depression', 'SleepDuration'), ('Depression', 'EducationLevel'), ('BodyMassIndex', 'SocioeconomicStatus'), ('BodyMassIndex', 'SmokerProfile'), ('Diabetes', 'PhysicalActivity'), ('Diabetes', 'EducationLevel'), ('Diabetes', 'Anxiety'), ('Diabetes', 'BodyMassIndex'), ('Diabetes', 'SmokerProfile'), ('Diabetes', 'Hypertension'), ('Diabetes', 'SleepDuration'), ('Diabetes', 'Depression'), ('Diabetes', 'Hypercholesterolemia'), ('PhysicalActivity', 'BodyMassIndex'), ('PhysicalActivity', 'Hypertension'), ('PhysicalActivity', 'SmokerProfile'), ('Anxiety', 'SleepDuration'), ('Anxiety', 'Depression'), ('EducationLevel', 'SocioeconomicStatus')]\n"
     ]
    },
    {
     "data": {
      "image/png": "[encoded data removed]",
      "text/plain": [
       "<Figure size 800x800 with 1 Axes>"
      ]
     },
     "metadata": {},
     "output_type": "display_data"
    }
   ],
   "source": [
    "plt.figure(figsize=(8, 8))\n",
    "nx.draw(nx.DiGraph(best_balanced_model.edges()), with_labels=True)\n",
    "plt.draw()\n",
    "print(best_balanced_model.edges())"
   ]
  },
  {
   "cell_type": "markdown",
   "metadata": {},
   "source": [
    "# Paramether Learning - Using the DAG to get the BPDs"
   ]
  },
  {
   "cell_type": "markdown",
   "metadata": {},
   "source": [
    "### No SMOTE"
   ]
  },
  {
   "cell_type": "code",
   "execution_count": 17,
   "metadata": {},
   "outputs": [],
   "source": [
    "bm = BayesianNetwork()\n",
    "bm.add_nodes_from(nodes)\n",
    "bm.add_edges_from(best_model.edges)"
   ]
  },
  {
   "cell_type": "code",
   "execution_count": 18,
   "metadata": {},
   "outputs": [],
   "source": [
    "for col in categorical_columns:\n",
    "    df_train[col] = encoders[col].inverse_transform(df_train[col])\n",
    "\n",
    "bm.fit(df_train, estimator=BayesianEstimator, prior_type='dirichlet', pseudo_counts=1)"
   ]
  },
  {
   "cell_type": "code",
   "execution_count": 19,
   "metadata": {},
   "outputs": [
    {
     "name": "stdout",
     "output_type": "stream",
     "text": [
      "+-------------+---------+\n",
      "| Sex(Female) | 0.31921 |\n",
      "+-------------+---------+\n",
      "| Sex(Male)   | 0.68079 |\n",
      "+-------------+---------+\n",
      "+----------------------+--------------------------+---------------------------+\n",
      "| Hypercholesterolemia | Hypercholesterolemia(No) | Hypercholesterolemia(Yes) |\n",
      "+----------------------+--------------------------+---------------------------+\n",
      "| Hypertension(No)     | 0.8839779005524862       | 0.6878342245989305        |\n",
      "+----------------------+--------------------------+---------------------------+\n",
      "| Hypertension(Yes)    | 0.11602209944751381      | 0.31216577540106955       |\n",
      "+----------------------+--------------------------+---------------------------+\n",
      "+-------------------------+--------------------------+---------------------------+--------------------------+---------------------------+--------------------------+---------------------------+--------------------------+---------------------------+--------------------------+---------------------------+--------------------------+---------------------------+\n",
      "| Age                     | Age(18-24)               | Age(18-24)                | Age(24-34)               | Age(24-34)                | Age(34-44)               | Age(34-44)                | Age(44-54)               | Age(44-54)                | Age(54-64)               | Age(54-64)                | Age(64-74)               | Age(64-74)                |\n",
      "+-------------------------+--------------------------+---------------------------+--------------------------+---------------------------+--------------------------+---------------------------+--------------------------+---------------------------+--------------------------+---------------------------+--------------------------+---------------------------+\n",
      "| Hypercholesterolemia    | Hypercholesterolemia(No) | Hypercholesterolemia(Yes) | Hypercholesterolemia(No) | Hypercholesterolemia(Yes) | Hypercholesterolemia(No) | Hypercholesterolemia(Yes) | Hypercholesterolemia(No) | Hypercholesterolemia(Yes) | Hypercholesterolemia(No) | Hypercholesterolemia(Yes) | Hypercholesterolemia(No) | Hypercholesterolemia(Yes) |\n",
      "+-------------------------+--------------------------+---------------------------+--------------------------+---------------------------+--------------------------+---------------------------+--------------------------+---------------------------+--------------------------+---------------------------+--------------------------+---------------------------+\n",
      "| SleepDuration(6-9hours) | 0.9230769230769231       | 0.75                      | 0.9621380846325167       | 0.8820754716981132        | 0.9141304347826087       | 0.8953722334004024        | 0.8111658456486043       | 0.944954128440367         | 0.8105849582172702       | 0.8589211618257261        | 0.6666666666666666       | 0.6666666666666666        |\n",
      "+-------------------------+--------------------------+---------------------------+--------------------------+---------------------------+--------------------------+---------------------------+--------------------------+---------------------------+--------------------------+---------------------------+--------------------------+---------------------------+\n",
      "| SleepDuration(<6hours)  | 0.038461538461538464     | 0.125                     | 0.035634743875278395     | 0.10849056603773585       | 0.08369565217391305      | 0.10261569416498995       | 0.18555008210180624      | 0.05137614678899083       | 0.18662952646239556      | 0.13692946058091288       | 0.16666666666666666      | 0.2222222222222222        |\n",
      "+-------------------------+--------------------------+---------------------------+--------------------------+---------------------------+--------------------------+---------------------------+--------------------------+---------------------------+--------------------------+---------------------------+--------------------------+---------------------------+\n",
      "| SleepDuration(>9hours)  | 0.038461538461538464     | 0.125                     | 0.0022271714922048997    | 0.009433962264150943      | 0.002173913043478261     | 0.002012072434607646      | 0.003284072249589491     | 0.003669724770642202      | 0.002785515320334262     | 0.004149377593360996      | 0.16666666666666666      | 0.1111111111111111        |\n",
      "+-------------------------+--------------------------+---------------------------+--------------------------+---------------------------+--------------------------+---------------------------+--------------------------+---------------------------+--------------------------+---------------------------+--------------------------+---------------------------+\n",
      "+------------+------------+\n",
      "| Age(18-24) | 0.00753051 |\n",
      "+------------+------------+\n",
      "| Age(24-34) | 0.170345   |\n",
      "+------------+------------+\n",
      "| Age(34-44) | 0.366658   |\n",
      "+------------+------------+\n",
      "| Age(44-54) | 0.298364   |\n",
      "+------------+------------+\n",
      "| Age(54-64) | 0.154505   |\n",
      "+------------+------------+\n",
      "| Age(64-74) | 0.00259673 |\n",
      "+------------+------------+\n",
      "+------------------------+--------------------+---------------------+---------------------+---------------------+---------------------+---------------------+--------------------+---------------------+---------------------+---------------------+--------------------+--------------------+\n",
      "| Age                    | Age(18-24)         | Age(18-24)          | Age(24-34)          | Age(24-34)          | Age(34-44)          | Age(34-44)          | Age(44-54)         | Age(44-54)          | Age(54-64)          | Age(54-64)          | Age(64-74)         | Age(64-74)         |\n",
      "+------------------------+--------------------+---------------------+---------------------+---------------------+---------------------+---------------------+--------------------+---------------------+---------------------+---------------------+--------------------+--------------------+\n",
      "| Sex                    | Sex(Female)        | Sex(Male)           | Sex(Female)         | Sex(Male)           | Sex(Female)         | Sex(Male)           | Sex(Female)        | Sex(Male)           | Sex(Female)         | Sex(Male)           | Sex(Female)        | Sex(Male)          |\n",
      "+------------------------+--------------------+---------------------+---------------------+---------------------+---------------------+---------------------+--------------------+---------------------+---------------------+---------------------+--------------------+--------------------+\n",
      "| SocioeconomicStatus(1) | 0.25               | 0.22727272727272727 | 0.16267942583732056 | 0.28761061946902655 | 0.45054945054945056 | 0.29625779625779625 | 0.2717391304347826 | 0.3371501272264631  | 0.3641025641025641  | 0.25679012345679014 | 0.3333333333333333 | 0.2222222222222222 |\n",
      "+------------------------+--------------------+---------------------+---------------------+---------------------+---------------------+---------------------+--------------------+---------------------+---------------------+---------------------+--------------------+--------------------+\n",
      "| SocioeconomicStatus(2) | 0.4166666666666667 | 0.45454545454545453 | 0.2583732057416268  | 0.3053097345132743  | 0.3252747252747253  | 0.31185031185031187 | 0.3125             | 0.39567430025445294 | 0.36923076923076925 | 0.2419753086419753  | 0.3333333333333333 | 0.5555555555555556 |\n",
      "+------------------------+--------------------+---------------------+---------------------+---------------------+---------------------+---------------------+--------------------+---------------------+---------------------+---------------------+--------------------+--------------------+\n",
      "| SocioeconomicStatus(3) | 0.3333333333333333 | 0.3181818181818182  | 0.5789473684210527  | 0.40707964601769914 | 0.22417582417582418 | 0.3918918918918919  | 0.4157608695652174 | 0.26717557251908397 | 0.26666666666666666 | 0.5012345679012346  | 0.3333333333333333 | 0.2222222222222222 |\n",
      "+------------------------+--------------------+---------------------+---------------------+---------------------+---------------------+---------------------+--------------------+---------------------+---------------------+---------------------+--------------------+--------------------+\n",
      "+---------------------------+---------------------+---------------------+---------------------+--------------------+---------------------+--------------------+--------------------+-------------------+---------------------+--------------------+-------------+------------+\n",
      "| Age                       | Age(18-24)          | Age(18-24)          | Age(24-34)          | Age(24-34)         | Age(34-44)          | Age(34-44)         | Age(44-54)         | Age(44-54)        | Age(54-64)          | Age(54-64)         | Age(64-74)  | Age(64-74) |\n",
      "+---------------------------+---------------------+---------------------+---------------------+--------------------+---------------------+--------------------+--------------------+-------------------+---------------------+--------------------+-------------+------------+\n",
      "| Sex                       | Sex(Female)         | Sex(Male)           | Sex(Female)         | Sex(Male)          | Sex(Female)         | Sex(Male)          | Sex(Female)        | Sex(Male)         | Sex(Female)         | Sex(Male)          | Sex(Female) | Sex(Male)  |\n",
      "+---------------------------+---------------------+---------------------+---------------------+--------------------+---------------------+--------------------+--------------------+-------------------+---------------------+--------------------+-------------+------------+\n",
      "| Hypercholesterolemia(No)  | 0.6363636363636364  | 0.8571428571428571  | 0.8365384615384616  | 0.6075388026607539 | 0.6718061674008811  | 0.6389177939646202 | 0.5177111716621253 | 0.532484076433121 | 0.6804123711340206  | 0.5594059405940595 | 0.2         | 0.5        |\n",
      "+---------------------------+---------------------+---------------------+---------------------+--------------------+---------------------+--------------------+--------------------+-------------------+---------------------+--------------------+-------------+------------+\n",
      "| Hypercholesterolemia(Yes) | 0.36363636363636365 | 0.14285714285714285 | 0.16346153846153846 | 0.3924611973392461 | 0.32819383259911894 | 0.3610822060353798 | 0.4822888283378747 | 0.467515923566879 | 0.31958762886597936 | 0.4405940594059406 | 0.8         | 0.5        |\n",
      "+---------------------------+---------------------+---------------------+---------------------+--------------------+---------------------+--------------------+--------------------+-------------------+---------------------+--------------------+-------------+------------+\n",
      "+-----------------+-------------------------+------------------------+------------------------+\n",
      "| SleepDuration   | SleepDuration(6-9hours) | SleepDuration(<6hours) | SleepDuration(>9hours) |\n",
      "+-----------------+-------------------------+------------------------+------------------------+\n",
      "| Depression(No)  | 0.9938988959907031      | 0.9950372208436724     | 0.8333333333333334     |\n",
      "+-----------------+-------------------------+------------------------+------------------------+\n",
      "| Depression(Yes) | 0.00610110400929692     | 0.004962779156327543   | 0.16666666666666666    |\n",
      "+-----------------+-------------------------+------------------------+------------------------+\n",
      "+---------------------------+--------------------------+---------------------------+--------------------------+---------------------------+--------------------------+---------------------------+--------------------------+---------------------------+--------------------------+---------------------------+--------------------------+---------------------------+\n",
      "| Age                       | Age(18-24)               | Age(18-24)                | Age(24-34)               | Age(24-34)                | Age(34-44)               | Age(34-44)                | Age(44-54)               | Age(44-54)                | Age(54-64)               | Age(54-64)                | Age(64-74)               | Age(64-74)                |\n",
      "+---------------------------+--------------------------+---------------------------+--------------------------+---------------------------+--------------------------+---------------------------+--------------------------+---------------------------+--------------------------+---------------------------+--------------------------+---------------------------+\n",
      "| Hypercholesterolemia      | Hypercholesterolemia(No) | Hypercholesterolemia(Yes) | Hypercholesterolemia(No) | Hypercholesterolemia(Yes) | Hypercholesterolemia(No) | Hypercholesterolemia(Yes) | Hypercholesterolemia(No) | Hypercholesterolemia(Yes) | Hypercholesterolemia(No) | Hypercholesterolemia(Yes) | Hypercholesterolemia(No) | Hypercholesterolemia(Yes) |\n",
      "+---------------------------+--------------------------+---------------------------+--------------------------+---------------------------+--------------------------+---------------------------+--------------------------+---------------------------+--------------------------+---------------------------+--------------------------+---------------------------+\n",
      "| SmokerProfile(Ex_Smoker)  | 0.07692307692307693      | 0.375                     | 0.18040089086859687      | 0.22641509433962265       | 0.15543478260869564      | 0.24748490945674045       | 0.1116584564860427       | 0.07706422018348624       | 0.17548746518105848      | 0.27800829875518673       | 0.3333333333333333       | 0.2222222222222222        |\n",
      "+---------------------------+--------------------------+---------------------------+--------------------------+---------------------------+--------------------------+---------------------------+--------------------------+---------------------------+--------------------------+---------------------------+--------------------------+---------------------------+\n",
      "| SmokerProfile(Non_Smoker) | 0.6153846153846154       | 0.25                      | 0.6414253897550112       | 0.33962264150943394       | 0.6706521739130434       | 0.5513078470824949        | 0.5024630541871922       | 0.5577981651376147        | 0.5515320334261838       | 0.4315352697095436        | 0.5                      | 0.3333333333333333        |\n",
      "+---------------------------+--------------------------+---------------------------+--------------------------+---------------------------+--------------------------+---------------------------+--------------------------+---------------------------+--------------------------+---------------------------+--------------------------+---------------------------+\n",
      "| SmokerProfile(Smoker)     | 0.3076923076923077       | 0.375                     | 0.17817371937639198      | 0.4339622641509434        | 0.17391304347826086      | 0.2012072434607646        | 0.38587848932676516      | 0.3651376146788991        | 0.27298050139275765      | 0.29045643153526973       | 0.16666666666666666      | 0.4444444444444444        |\n",
      "+---------------------------+--------------------------+---------------------------+--------------------------+---------------------------+--------------------------+---------------------------+--------------------------+---------------------------+--------------------------+---------------------------+--------------------------+---------------------------+\n",
      "+----------------------------+--------------------------+---------------------------+-----------------------+--------------------------+---------------------------+-----------------------+--------------------------+---------------------------+-----------------------+--------------------------+---------------------------+-----------------------+--------------------------+---------------------------+-----------------------+--------------------------+---------------------------+-----------------------+\n",
      "| Age                        | Age(18-24)               | Age(18-24)                | Age(18-24)            | Age(24-34)               | Age(24-34)                | Age(24-34)            | Age(34-44)               | Age(34-44)                | Age(34-44)            | Age(44-54)               | Age(44-54)                | Age(44-54)            | Age(54-64)               | Age(54-64)                | Age(54-64)            | Age(64-74)               | Age(64-74)                | Age(64-74)            |\n",
      "+----------------------------+--------------------------+---------------------------+-----------------------+--------------------------+---------------------------+-----------------------+--------------------------+---------------------------+-----------------------+--------------------------+---------------------------+-----------------------+--------------------------+---------------------------+-----------------------+--------------------------+---------------------------+-----------------------+\n",
      "| SmokerProfile              | SmokerProfile(Ex_Smoker) | SmokerProfile(Non_Smoker) | SmokerProfile(Smoker) | SmokerProfile(Ex_Smoker) | SmokerProfile(Non_Smoker) | SmokerProfile(Smoker) | SmokerProfile(Ex_Smoker) | SmokerProfile(Non_Smoker) | SmokerProfile(Smoker) | SmokerProfile(Ex_Smoker) | SmokerProfile(Non_Smoker) | SmokerProfile(Smoker) | SmokerProfile(Ex_Smoker) | SmokerProfile(Non_Smoker) | SmokerProfile(Smoker) | SmokerProfile(Ex_Smoker) | SmokerProfile(Non_Smoker) | SmokerProfile(Smoker) |\n",
      "+----------------------------+--------------------------+---------------------------+-----------------------+--------------------------+---------------------------+-----------------------+--------------------------+---------------------------+-----------------------+--------------------------+---------------------------+-----------------------+--------------------------+---------------------------+-----------------------+--------------------------+---------------------------+-----------------------+\n",
      "| BodyMassIndex(Normal)      | 0.2857142857142857       | 0.3                       | 0.23076923076923078   | 0.4961832061068702       | 0.15469613259668508       | 0.4540229885057471    | 0.45149253731343286      | 0.16349384098544234       | 0.21374045801526717   | 0.24107142857142858      | 0.6519607843137255        | 0.3486238532110092    | 0.24242424242424243      | 0.5526315789473685        | 0.2529411764705882    | 0.3333333333333333       | 0.375                     | 0.2857142857142857    |\n",
      "+----------------------------+--------------------------+---------------------------+-----------------------+--------------------------+---------------------------+-----------------------+--------------------------+---------------------------+-----------------------+--------------------------+---------------------------+-----------------------+--------------------------+---------------------------+-----------------------+--------------------------+---------------------------+-----------------------+\n",
      "| BodyMassIndex(Obese)       | 0.14285714285714285      | 0.25                      | 0.3076923076923077    | 0.15267175572519084      | 0.4723756906077348        | 0.1724137931034483    | 0.1828358208955224       | 0.3807390817469205        | 0.33587786259541985   | 0.2767857142857143       | 0.032679738562091505      | 0.2706422018348624    | 0.25                     | 0.06907894736842106       | 0.29411764705882354   | 0.3333333333333333       | 0.25                      | 0.14285714285714285   |\n",
      "+----------------------------+--------------------------+---------------------------+-----------------------+--------------------------+---------------------------+-----------------------+--------------------------+---------------------------+-----------------------+--------------------------+---------------------------+-----------------------+--------------------------+---------------------------+-----------------------+--------------------------+---------------------------+-----------------------+\n",
      "| BodyMassIndex(Overweight)  | 0.42857142857142855      | 0.35                      | 0.38461538461538464   | 0.31297709923664124      | 0.3701657458563536        | 0.3505747126436782    | 0.34701492537313433      | 0.4501679731243001        | 0.21374045801526717   | 0.4732142857142857       | 0.30392156862745096       | 0.37155963302752293   | 0.5                      | 0.3519736842105263        | 0.4470588235294118    | 0.16666666666666666      | 0.25                      | 0.42857142857142855   |\n",
      "+----------------------------+--------------------------+---------------------------+-----------------------+--------------------------+---------------------------+-----------------------+--------------------------+---------------------------+-----------------------+--------------------------+---------------------------+-----------------------+--------------------------+---------------------------+-----------------------+--------------------------+---------------------------+-----------------------+\n",
      "| BodyMassIndex(Underweight) | 0.14285714285714285      | 0.1                       | 0.07692307692307693   | 0.03816793893129771      | 0.0027624309392265192     | 0.022988505747126436  | 0.018656716417910446     | 0.005599104143337066      | 0.2366412213740458    | 0.008928571428571428     | 0.011437908496732025      | 0.009174311926605505  | 0.007575757575757576     | 0.02631578947368421       | 0.0058823529411764705 | 0.16666666666666666      | 0.125                     | 0.14285714285714285   |\n",
      "+----------------------------+--------------------------+---------------------------+-----------------------+--------------------------+---------------------------+-----------------------+--------------------------+---------------------------+-----------------------+--------------------------+---------------------------+-----------------------+--------------------------+---------------------------+-----------------------+--------------------------+---------------------------+-----------------------+\n",
      "+----------------------+-----------------------------------------+-----------------------------------------+------------------------------------+------------------------------------+-----------------------------------------+-----------------------------------------+------------------------------------+------------------------------------+\n",
      "| Hypercholesterolemia | Hypercholesterolemia(No)                | Hypercholesterolemia(No)                | Hypercholesterolemia(No)           | Hypercholesterolemia(No)           | Hypercholesterolemia(Yes)               | Hypercholesterolemia(Yes)               | Hypercholesterolemia(Yes)          | Hypercholesterolemia(Yes)          |\n",
      "+----------------------+-----------------------------------------+-----------------------------------------+------------------------------------+------------------------------------+-----------------------------------------+-----------------------------------------+------------------------------------+------------------------------------+\n",
      "| PhysicalActivity     | PhysicalActivity(Insufficiently Active) | PhysicalActivity(Insufficiently Active) | PhysicalActivity(Regularly Active) | PhysicalActivity(Regularly Active) | PhysicalActivity(Insufficiently Active) | PhysicalActivity(Insufficiently Active) | PhysicalActivity(Regularly Active) | PhysicalActivity(Regularly Active) |\n",
      "+----------------------+-----------------------------------------+-----------------------------------------+------------------------------------+------------------------------------+-----------------------------------------+-----------------------------------------+------------------------------------+------------------------------------+\n",
      "| Sex                  | Sex(Female)                             | Sex(Male)                               | Sex(Female)                        | Sex(Male)                          | Sex(Female)                             | Sex(Male)                               | Sex(Female)                        | Sex(Male)                          |\n",
      "+----------------------+-----------------------------------------+-----------------------------------------+------------------------------------+------------------------------------+-----------------------------------------+-----------------------------------------+------------------------------------+------------------------------------+\n",
      "| Diabetes(No)         | 0.9416809605488851                      | 0.98861646234676                        | 0.96875                            | 0.8780487804878049                 | 0.9384615384615385                      | 0.9520807061790668                      | 0.9107142857142857                 | 0.9608540925266904                 |\n",
      "+----------------------+-----------------------------------------+-----------------------------------------+------------------------------------+------------------------------------+-----------------------------------------+-----------------------------------------+------------------------------------+------------------------------------+\n",
      "| Diabetes(Yes)        | 0.058319039451114926                    | 0.01138353765323993                     | 0.03125                            | 0.12195121951219512                | 0.06153846153846154                     | 0.04791929382093316                     | 0.08928571428571429                | 0.03914590747330961                |\n",
      "+----------------------+-----------------------------------------+-----------------------------------------+------------------------------------+------------------------------------+-----------------------------------------+-----------------------------------------+------------------------------------+------------------------------------+\n",
      "+-----------------------------------------+--------------------------+---------------------------+-----------------------+--------------------------+---------------------------+-----------------------+--------------------------+---------------------------+-----------------------+--------------------------+---------------------------+-----------------------+---------------------------+---------------------------+---------------------------+---------------------------+---------------------------+---------------------------+----------------------------+----------------------------+----------------------------+----------------------------+----------------------------+----------------------------+\n",
      "| BodyMassIndex                           | BodyMassIndex(Normal)    | BodyMassIndex(Normal)     | BodyMassIndex(Normal) | BodyMassIndex(Normal)    | BodyMassIndex(Normal)     | BodyMassIndex(Normal) | BodyMassIndex(Obese)     | BodyMassIndex(Obese)      | BodyMassIndex(Obese)  | BodyMassIndex(Obese)     | BodyMassIndex(Obese)      | BodyMassIndex(Obese)  | BodyMassIndex(Overweight) | BodyMassIndex(Overweight) | BodyMassIndex(Overweight) | BodyMassIndex(Overweight) | BodyMassIndex(Overweight) | BodyMassIndex(Overweight) | BodyMassIndex(Underweight) | BodyMassIndex(Underweight) | BodyMassIndex(Underweight) | BodyMassIndex(Underweight) | BodyMassIndex(Underweight) | BodyMassIndex(Underweight) |\n",
      "+-----------------------------------------+--------------------------+---------------------------+-----------------------+--------------------------+---------------------------+-----------------------+--------------------------+---------------------------+-----------------------+--------------------------+---------------------------+-----------------------+---------------------------+---------------------------+---------------------------+---------------------------+---------------------------+---------------------------+----------------------------+----------------------------+----------------------------+----------------------------+----------------------------+----------------------------+\n",
      "| Hypertension                            | Hypertension(No)         | Hypertension(No)          | Hypertension(No)      | Hypertension(Yes)        | Hypertension(Yes)         | Hypertension(Yes)     | Hypertension(No)         | Hypertension(No)          | Hypertension(No)      | Hypertension(Yes)        | Hypertension(Yes)         | Hypertension(Yes)     | Hypertension(No)          | Hypertension(No)          | Hypertension(No)          | Hypertension(Yes)         | Hypertension(Yes)         | Hypertension(Yes)         | Hypertension(No)           | Hypertension(No)           | Hypertension(No)           | Hypertension(Yes)          | Hypertension(Yes)          | Hypertension(Yes)          |\n",
      "+-----------------------------------------+--------------------------+---------------------------+-----------------------+--------------------------+---------------------------+-----------------------+--------------------------+---------------------------+-----------------------+--------------------------+---------------------------+-----------------------+---------------------------+---------------------------+---------------------------+---------------------------+---------------------------+---------------------------+----------------------------+----------------------------+----------------------------+----------------------------+----------------------------+----------------------------+\n",
      "| SmokerProfile                           | SmokerProfile(Ex_Smoker) | SmokerProfile(Non_Smoker) | SmokerProfile(Smoker) | SmokerProfile(Ex_Smoker) | SmokerProfile(Non_Smoker) | SmokerProfile(Smoker) | SmokerProfile(Ex_Smoker) | SmokerProfile(Non_Smoker) | SmokerProfile(Smoker) | SmokerProfile(Ex_Smoker) | SmokerProfile(Non_Smoker) | SmokerProfile(Smoker) | SmokerProfile(Ex_Smoker)  | SmokerProfile(Non_Smoker) | SmokerProfile(Smoker)     | SmokerProfile(Ex_Smoker)  | SmokerProfile(Non_Smoker) | SmokerProfile(Smoker)     | SmokerProfile(Ex_Smoker)   | SmokerProfile(Non_Smoker)  | SmokerProfile(Smoker)      | SmokerProfile(Ex_Smoker)   | SmokerProfile(Non_Smoker)  | SmokerProfile(Smoker)      |\n",
      "+-----------------------------------------+--------------------------+---------------------------+-----------------------+--------------------------+---------------------------+-----------------------+--------------------------+---------------------------+-----------------------+--------------------------+---------------------------+-----------------------+---------------------------+---------------------------+---------------------------+---------------------------+---------------------------+---------------------------+----------------------------+----------------------------+----------------------------+----------------------------+----------------------------+----------------------------+\n",
      "| PhysicalActivity(Insufficiently Active) | 0.8743961352657005       | 0.7208538587848933        | 0.7333333333333333    | 0.65                     | 0.4550898203592814        | 0.3968253968253968    | 0.7524752475247525       | 0.7692307692307693        | 0.6056338028169014    | 0.8484848484848485       | 0.8956521739130435        | 0.8026315789473685    | 0.8125                    | 0.7963483146067416        | 0.6370106761565836        | 0.41935483870967744       | 0.4596774193548387        | 0.3875                    | 0.8333333333333334         | 0.5333333333333333         | 0.9019607843137255         | 0.6666666666666666         | 0.2857142857142857         | 0.9                        |\n",
      "+-----------------------------------------+--------------------------+---------------------------+-----------------------+--------------------------+---------------------------+-----------------------+--------------------------+---------------------------+-----------------------+--------------------------+---------------------------+-----------------------+---------------------------+---------------------------+---------------------------+---------------------------+---------------------------+---------------------------+----------------------------+----------------------------+----------------------------+----------------------------+----------------------------+----------------------------+\n",
      "| PhysicalActivity(Regularly Active)      | 0.12560386473429952      | 0.2791461412151067        | 0.26666666666666666   | 0.35                     | 0.5449101796407185        | 0.6031746031746031    | 0.24752475247524752      | 0.23076923076923078       | 0.39436619718309857   | 0.15151515151515152      | 0.10434782608695652       | 0.19736842105263158   | 0.1875                    | 0.20365168539325842       | 0.36298932384341637       | 0.5806451612903226        | 0.5403225806451613        | 0.6125                    | 0.16666666666666666        | 0.4666666666666667         | 0.09803921568627451        | 0.3333333333333333         | 0.7142857142857143         | 0.1                        |\n",
      "+-----------------------------------------+--------------------------+---------------------------+-----------------------+--------------------------+---------------------------+-----------------------+--------------------------+---------------------------+-----------------------+--------------------------+---------------------------+-----------------------+---------------------------+---------------------------+---------------------------+---------------------------+---------------------------+---------------------------+----------------------------+----------------------------+----------------------------+----------------------------+----------------------------+----------------------------+\n",
      "+--------------+---------------------+---------------------+---------------------+--------------------+\n",
      "| Hypertension | Hypertension(No)    | Hypertension(No)    | Hypertension(Yes)   | Hypertension(Yes)  |\n",
      "+--------------+---------------------+---------------------+---------------------+--------------------+\n",
      "| Sex          | Sex(Female)         | Sex(Male)           | Sex(Female)         | Sex(Male)          |\n",
      "+--------------+---------------------+---------------------+---------------------+--------------------+\n",
      "| Anxiety(No)  | 0.9604060913705583  | 0.8838193791157103  | 0.8780487804878049  | 0.8407258064516129 |\n",
      "+--------------+---------------------+---------------------+---------------------+--------------------+\n",
      "| Anxiety(Yes) | 0.03959390862944162 | 0.11618062088428975 | 0.12195121951219512 | 0.1592741935483871 |\n",
      "+--------------+---------------------+---------------------+---------------------+--------------------+\n",
      "+-------------------+-----------------------------------------+------------------------------------+-----------------------------------------+------------------------------------+\n",
      "| Depression        | Depression(No)                          | Depression(No)                     | Depression(Yes)                         | Depression(Yes)                    |\n",
      "+-------------------+-----------------------------------------+------------------------------------+-----------------------------------------+------------------------------------+\n",
      "| PhysicalActivity  | PhysicalActivity(Insufficiently Active) | PhysicalActivity(Regularly Active) | PhysicalActivity(Insufficiently Active) | PhysicalActivity(Regularly Active) |\n",
      "+-------------------+-----------------------------------------+------------------------------------+-----------------------------------------+------------------------------------+\n",
      "| EducationLevel(1) | 0.0014524328249818446                   | 0.0027881040892193307              | 0.045454545454545456                    | 0.2                                |\n",
      "+-------------------+-----------------------------------------+------------------------------------+-----------------------------------------+------------------------------------+\n",
      "| EducationLevel(2) | 0.7461873638344226                      | 0.7825278810408922                 | 0.8636363636363636                      | 0.4                                |\n",
      "+-------------------+-----------------------------------------+------------------------------------+-----------------------------------------+------------------------------------+\n",
      "| EducationLevel(3) | 0.2523602033405955                      | 0.21468401486988847                | 0.09090909090909091                     | 0.4                                |\n",
      "+-------------------+-----------------------------------------+------------------------------------+-----------------------------------------+------------------------------------+\n"
     ]
    }
   ],
   "source": [
    "def print_full(cpd):\n",
    "    backup = TabularCPD._truncate_strtable\n",
    "    TabularCPD._truncate_strtable = lambda self, x: x\n",
    "    print(cpd)\n",
    "    TabularCPD._truncate_strtable = backup\n",
    "\n",
    "for c in bm.get_cpds():\n",
    "    print_full(c)\n"
   ]
  },
  {
   "cell_type": "code",
   "execution_count": 20,
   "metadata": {},
   "outputs": [
    {
     "name": "stdout",
     "output_type": "stream",
     "text": [
      "54-64\n",
      "+-------------------------+----------------------+\n",
      "| SleepDuration           |   phi(SleepDuration) |\n",
      "+=========================+======================+\n",
      "| SleepDuration(6-9hours) |               0.8300 |\n",
      "+-------------------------+----------------------+\n",
      "| SleepDuration(<6hours)  |               0.1667 |\n",
      "+-------------------------+----------------------+\n",
      "| SleepDuration(>9hours)  |               0.0033 |\n",
      "+-------------------------+----------------------+\n",
      "24-34\n",
      "+-------------------------+----------------------+\n",
      "| SleepDuration           |   phi(SleepDuration) |\n",
      "+=========================+======================+\n",
      "| SleepDuration(6-9hours) |               0.9366 |\n",
      "+-------------------------+----------------------+\n",
      "| SleepDuration(<6hours)  |               0.0589 |\n",
      "+-------------------------+----------------------+\n",
      "| SleepDuration(>9hours)  |               0.0045 |\n",
      "+-------------------------+----------------------+\n",
      "34-44\n",
      "+-------------------------+----------------------+\n",
      "| SleepDuration           |   phi(SleepDuration) |\n",
      "+=========================+======================+\n",
      "| SleepDuration(6-9hours) |               0.9076 |\n",
      "+-------------------------+----------------------+\n",
      "| SleepDuration(<6hours)  |               0.0903 |\n",
      "+-------------------------+----------------------+\n",
      "| SleepDuration(>9hours)  |               0.0021 |\n",
      "+-------------------------+----------------------+\n",
      "44-54\n",
      "+-------------------------+----------------------+\n",
      "| SleepDuration           |   phi(SleepDuration) |\n",
      "+=========================+======================+\n",
      "| SleepDuration(6-9hours) |               0.8743 |\n",
      "+-------------------------+----------------------+\n",
      "| SleepDuration(<6hours)  |               0.1222 |\n",
      "+-------------------------+----------------------+\n",
      "| SleepDuration(>9hours)  |               0.0035 |\n",
      "+-------------------------+----------------------+\n",
      "64-74\n",
      "+-------------------------+----------------------+\n",
      "| SleepDuration           |   phi(SleepDuration) |\n",
      "+=========================+======================+\n",
      "| SleepDuration(6-9hours) |               0.6667 |\n",
      "+-------------------------+----------------------+\n",
      "| SleepDuration(<6hours)  |               0.1998 |\n",
      "+-------------------------+----------------------+\n",
      "| SleepDuration(>9hours)  |               0.1336 |\n",
      "+-------------------------+----------------------+\n",
      "18-24\n",
      "+-------------------------+----------------------+\n",
      "| SleepDuration           |   phi(SleepDuration) |\n",
      "+=========================+======================+\n",
      "| SleepDuration(6-9hours) |               0.8862 |\n",
      "+-------------------------+----------------------+\n",
      "| SleepDuration(<6hours)  |               0.0569 |\n",
      "+-------------------------+----------------------+\n",
      "| SleepDuration(>9hours)  |               0.0569 |\n",
      "+-------------------------+----------------------+\n"
     ]
    }
   ],
   "source": [
    "infer = VariableElimination(bm)\n",
    "\n",
    "for Age in df_train['Age'].unique(): # sem relacao, justificar. # Pesquisa Cotas a dormir\n",
    "    print(Age)\n",
    "    print(infer.query(['SleepDuration'], evidence={'Age': Age}))"
   ]
  },
  {
   "cell_type": "code",
   "execution_count": 21,
   "metadata": {},
   "outputs": [
    {
     "name": "stdout",
     "output_type": "stream",
     "text": [
      "Smoker Diabetes\n",
      "+---------------+-----------------+\n",
      "| Diabetes      |   phi(Diabetes) |\n",
      "+===============+=================+\n",
      "| Diabetes(No)  |          0.9496 |\n",
      "+---------------+-----------------+\n",
      "| Diabetes(Yes) |          0.0504 |\n",
      "+---------------+-----------------+\n",
      "Non_Smoker Diabetes\n",
      "+---------------+-----------------+\n",
      "| Diabetes      |   phi(Diabetes) |\n",
      "+===============+=================+\n",
      "| Diabetes(No)  |          0.9531 |\n",
      "+---------------+-----------------+\n",
      "| Diabetes(Yes) |          0.0469 |\n",
      "+---------------+-----------------+\n",
      "Ex_Smoker Diabetes\n",
      "+---------------+-----------------+\n",
      "| Diabetes      |   phi(Diabetes) |\n",
      "+===============+=================+\n",
      "| Diabetes(No)  |          0.9546 |\n",
      "+---------------+-----------------+\n",
      "| Diabetes(Yes) |          0.0454 |\n",
      "+---------------+-----------------+\n",
      "Smoker Hypercholesterolemia\n",
      "+---------------------------+-----------------------------+\n",
      "| Hypercholesterolemia      |   phi(Hypercholesterolemia) |\n",
      "+===========================+=============================+\n",
      "| Hypercholesterolemia(No)  |                      0.5551 |\n",
      "+---------------------------+-----------------------------+\n",
      "| Hypercholesterolemia(Yes) |                      0.4449 |\n",
      "+---------------------------+-----------------------------+\n",
      "Non_Smoker Hypercholesterolemia\n",
      "+---------------------------+-----------------------------+\n",
      "| Hypercholesterolemia      |   phi(Hypercholesterolemia) |\n",
      "+===========================+=============================+\n",
      "| Hypercholesterolemia(No)  |                      0.6531 |\n",
      "+---------------------------+-----------------------------+\n",
      "| Hypercholesterolemia(Yes) |                      0.3469 |\n",
      "+---------------------------+-----------------------------+\n",
      "Ex_Smoker Hypercholesterolemia\n",
      "+---------------------------+-----------------------------+\n",
      "| Hypercholesterolemia      |   phi(Hypercholesterolemia) |\n",
      "+===========================+=============================+\n",
      "| Hypercholesterolemia(No)  |                      0.5583 |\n",
      "+---------------------------+-----------------------------+\n",
      "| Hypercholesterolemia(Yes) |                      0.4417 |\n",
      "+---------------------------+-----------------------------+\n",
      "Smoker Hypertension\n",
      "+-------------------+---------------------+\n",
      "| Hypertension      |   phi(Hypertension) |\n",
      "+===================+=====================+\n",
      "| Hypertension(No)  |              0.7967 |\n",
      "+-------------------+---------------------+\n",
      "| Hypertension(Yes) |              0.2033 |\n",
      "+-------------------+---------------------+\n",
      "Non_Smoker Hypertension\n",
      "+-------------------+---------------------+\n",
      "| Hypertension      |   phi(Hypertension) |\n",
      "+===================+=====================+\n",
      "| Hypertension(No)  |              0.8159 |\n",
      "+-------------------+---------------------+\n",
      "| Hypertension(Yes) |              0.1841 |\n",
      "+-------------------+---------------------+\n",
      "Ex_Smoker Hypertension\n",
      "+-------------------+---------------------+\n",
      "| Hypertension      |   phi(Hypertension) |\n",
      "+===================+=====================+\n",
      "| Hypertension(No)  |              0.7973 |\n",
      "+-------------------+---------------------+\n",
      "| Hypertension(Yes) |              0.2027 |\n",
      "+-------------------+---------------------+\n"
     ]
    }
   ],
   "source": [
    "for Profile in df_train['SmokerProfile'].unique():\n",
    "    print(Profile, 'Diabetes')\n",
    "    print(infer.query(['Diabetes'], evidence={'SmokerProfile': Profile}))\n",
    "\n",
    "for Profile in df_train['SmokerProfile'].unique():\n",
    "    print(Profile, 'Hypercholesterolemia')\n",
    "    print(infer.query(['Hypercholesterolemia'], evidence={'SmokerProfile': Profile}))\n",
    "\n",
    "for Profile in df_train['SmokerProfile'].unique():\n",
    "    print(Profile, 'Hypertension')\n",
    "    print(infer.query(['Hypertension'], evidence={'SmokerProfile': Profile}))"
   ]
  },
  {
   "cell_type": "code",
   "execution_count": 22,
   "metadata": {},
   "outputs": [
    {
     "name": "stdout",
     "output_type": "stream",
     "text": [
      "Overweight Diabetes\n",
      "+---------------+-----------------+\n",
      "| Diabetes      |   phi(Diabetes) |\n",
      "+===============+=================+\n",
      "| Diabetes(No)  |          0.9523 |\n",
      "+---------------+-----------------+\n",
      "| Diabetes(Yes) |          0.0477 |\n",
      "+---------------+-----------------+\n",
      "Obese Diabetes\n",
      "+---------------+-----------------+\n",
      "| Diabetes      |   phi(Diabetes) |\n",
      "+===============+=================+\n",
      "| Diabetes(No)  |          0.9532 |\n",
      "+---------------+-----------------+\n",
      "| Diabetes(Yes) |          0.0468 |\n",
      "+---------------+-----------------+\n",
      "Normal Diabetes\n",
      "+---------------+-----------------+\n",
      "| Diabetes      |   phi(Diabetes) |\n",
      "+===============+=================+\n",
      "| Diabetes(No)  |          0.9517 |\n",
      "+---------------+-----------------+\n",
      "| Diabetes(Yes) |          0.0483 |\n",
      "+---------------+-----------------+\n",
      "Underweight Diabetes\n",
      "+---------------+-----------------+\n",
      "| Diabetes      |   phi(Diabetes) |\n",
      "+===============+=================+\n",
      "| Diabetes(No)  |          0.9553 |\n",
      "+---------------+-----------------+\n",
      "| Diabetes(Yes) |          0.0447 |\n",
      "+---------------+-----------------+\n",
      "Overweight Hypercholesterolemia\n",
      "+---------------------------+-----------------------------+\n",
      "| Hypercholesterolemia      |   phi(Hypercholesterolemia) |\n",
      "+===========================+=============================+\n",
      "| Hypercholesterolemia(No)  |                      0.6165 |\n",
      "+---------------------------+-----------------------------+\n",
      "| Hypercholesterolemia(Yes) |                      0.3835 |\n",
      "+---------------------------+-----------------------------+\n",
      "Obese Hypercholesterolemia\n",
      "+---------------------------+-----------------------------+\n",
      "| Hypercholesterolemia      |   phi(Hypercholesterolemia) |\n",
      "+===========================+=============================+\n",
      "| Hypercholesterolemia(No)  |                      0.6513 |\n",
      "+---------------------------+-----------------------------+\n",
      "| Hypercholesterolemia(Yes) |                      0.3487 |\n",
      "+---------------------------+-----------------------------+\n",
      "Normal Hypercholesterolemia\n",
      "+---------------------------+-----------------------------+\n",
      "| Hypercholesterolemia      |   phi(Hypercholesterolemia) |\n",
      "+===========================+=============================+\n",
      "| Hypercholesterolemia(No)  |                      0.5761 |\n",
      "+---------------------------+-----------------------------+\n",
      "| Hypercholesterolemia(Yes) |                      0.4239 |\n",
      "+---------------------------+-----------------------------+\n",
      "Underweight Hypercholesterolemia\n",
      "+---------------------------+-----------------------------+\n",
      "| Hypercholesterolemia      |   phi(Hypercholesterolemia) |\n",
      "+===========================+=============================+\n",
      "| Hypercholesterolemia(No)  |                      0.6050 |\n",
      "+---------------------------+-----------------------------+\n",
      "| Hypercholesterolemia(Yes) |                      0.3950 |\n",
      "+---------------------------+-----------------------------+\n",
      "Overweight Hypertension Sex\n",
      "+-------------------+---------------------+\n",
      "| Hypertension      |   phi(Hypertension) |\n",
      "+===================+=====================+\n",
      "| Hypertension(No)  |              0.8088 |\n",
      "+-------------------+---------------------+\n",
      "| Hypertension(Yes) |              0.1912 |\n",
      "+-------------------+---------------------+\n",
      "Obese Hypertension Sex\n",
      "+-------------------+---------------------+\n",
      "| Hypertension      |   phi(Hypertension) |\n",
      "+===================+=====================+\n",
      "| Hypertension(No)  |              0.8156 |\n",
      "+-------------------+---------------------+\n",
      "| Hypertension(Yes) |              0.1844 |\n",
      "+-------------------+---------------------+\n",
      "Normal Hypertension Sex\n",
      "+-------------------+---------------------+\n",
      "| Hypertension      |   phi(Hypertension) |\n",
      "+===================+=====================+\n",
      "| Hypertension(No)  |              0.8008 |\n",
      "+-------------------+---------------------+\n",
      "| Hypertension(Yes) |              0.1992 |\n",
      "+-------------------+---------------------+\n",
      "Underweight Hypertension Sex\n",
      "+-------------------+---------------------+\n",
      "| Hypertension      |   phi(Hypertension) |\n",
      "+===================+=====================+\n",
      "| Hypertension(No)  |              0.8065 |\n",
      "+-------------------+---------------------+\n",
      "| Hypertension(Yes) |              0.1935 |\n",
      "+-------------------+---------------------+\n"
     ]
    }
   ],
   "source": [
    "# Dar ganda lengalenga\n",
    "\n",
    "for Profile in df_train['BodyMassIndex'].unique():\n",
    "    print(Profile, 'Diabetes')\n",
    "    print(infer.query(['Diabetes'], evidence={'BodyMassIndex': Profile}))\n",
    "\n",
    "for Profile in df_train['BodyMassIndex'].unique():\n",
    "    print(Profile, 'Hypercholesterolemia')\n",
    "    print(infer.query(['Hypercholesterolemia'], evidence={'BodyMassIndex': Profile}))\n",
    "\n",
    "for Profile in df_train['BodyMassIndex'].unique():\n",
    "    print(Profile, 'Hypertension Sex')\n",
    "    print(infer.query(['Hypertension'], evidence={'BodyMassIndex': Profile}))"
   ]
  },
  {
   "cell_type": "code",
   "execution_count": 23,
   "metadata": {},
   "outputs": [
    {
     "name": "stdout",
     "output_type": "stream",
     "text": [
      "2 3\n",
      "+-----------------+-------------------+\n",
      "| Depression      |   phi(Depression) |\n",
      "+=================+===================+\n",
      "| Depression(No)  |            0.9936 |\n",
      "+-----------------+-------------------+\n",
      "| Depression(Yes) |            0.0064 |\n",
      "+-----------------+-------------------+\n",
      "2 1\n",
      "+-----------------+-------------------+\n",
      "| Depression      |   phi(Depression) |\n",
      "+=================+===================+\n",
      "| Depression(No)  |            0.9937 |\n",
      "+-----------------+-------------------+\n",
      "| Depression(Yes) |            0.0063 |\n",
      "+-----------------+-------------------+\n",
      "2 2\n",
      "+-----------------+-------------------+\n",
      "| Depression      |   phi(Depression) |\n",
      "+=================+===================+\n",
      "| Depression(No)  |            0.9936 |\n",
      "+-----------------+-------------------+\n",
      "| Depression(Yes) |            0.0064 |\n",
      "+-----------------+-------------------+\n",
      "3 3\n",
      "+-----------------+-------------------+\n",
      "| Depression      |   phi(Depression) |\n",
      "+=================+===================+\n",
      "| Depression(No)  |            0.9951 |\n",
      "+-----------------+-------------------+\n",
      "| Depression(Yes) |            0.0049 |\n",
      "+-----------------+-------------------+\n",
      "3 1\n",
      "+-----------------+-------------------+\n",
      "| Depression      |   phi(Depression) |\n",
      "+=================+===================+\n",
      "| Depression(No)  |            0.9951 |\n",
      "+-----------------+-------------------+\n",
      "| Depression(Yes) |            0.0049 |\n",
      "+-----------------+-------------------+\n",
      "3 2\n",
      "+-----------------+-------------------+\n",
      "| Depression      |   phi(Depression) |\n",
      "+=================+===================+\n",
      "| Depression(No)  |            0.9950 |\n",
      "+-----------------+-------------------+\n",
      "| Depression(Yes) |            0.0050 |\n",
      "+-----------------+-------------------+\n",
      "1 3\n",
      "+-----------------+-------------------+\n",
      "| Depression      |   phi(Depression) |\n",
      "+=================+===================+\n",
      "| Depression(No)  |            0.7548 |\n",
      "+-----------------+-------------------+\n",
      "| Depression(Yes) |            0.2452 |\n",
      "+-----------------+-------------------+\n",
      "1 1\n",
      "+-----------------+-------------------+\n",
      "| Depression      |   phi(Depression) |\n",
      "+=================+===================+\n",
      "| Depression(No)  |            0.7554 |\n",
      "+-----------------+-------------------+\n",
      "| Depression(Yes) |            0.2446 |\n",
      "+-----------------+-------------------+\n",
      "1 2\n",
      "+-----------------+-------------------+\n",
      "| Depression      |   phi(Depression) |\n",
      "+=================+===================+\n",
      "| Depression(No)  |            0.7525 |\n",
      "+-----------------+-------------------+\n",
      "| Depression(Yes) |            0.2475 |\n",
      "+-----------------+-------------------+\n",
      "starts\n",
      "3\n",
      "+-----------------+-------------------+\n",
      "| Depression      |   phi(Depression) |\n",
      "+=================+===================+\n",
      "| Depression(No)  |            0.9950 |\n",
      "+-----------------+-------------------+\n",
      "| Depression(Yes) |            0.0050 |\n",
      "+-----------------+-------------------+\n",
      "1\n",
      "+-----------------+-------------------+\n",
      "| Depression      |   phi(Depression) |\n",
      "+=================+===================+\n",
      "| Depression(No)  |            0.7525 |\n",
      "+-----------------+-------------------+\n",
      "| Depression(Yes) |            0.2475 |\n",
      "+-----------------+-------------------+\n",
      "2\n",
      "+-----------------+-------------------+\n",
      "| Depression      |   phi(Depression) |\n",
      "+=================+===================+\n",
      "| Depression(No)  |            0.9936 |\n",
      "+-----------------+-------------------+\n",
      "| Depression(Yes) |            0.0064 |\n",
      "+-----------------+-------------------+\n"
     ]
    }
   ],
   "source": [
    "for Level in df_train['EducationLevel'].unique():\n",
    "    for status in df_train['SocioeconomicStatus'].unique():\n",
    "        print(Level, status)\n",
    "        print(infer.query(['Depression'], evidence={'EducationLevel': Level, 'SocioeconomicStatus': status}))\n",
    "\n",
    "print(\"starts\")\n",
    "for Level in df_train['SocioeconomicStatus'].unique():\n",
    "    print(Level)\n",
    "    print(infer.query(['Depression'], evidence={'EducationLevel': Level, 'SocioeconomicStatus': status}))"
   ]
  },
  {
   "cell_type": "markdown",
   "metadata": {},
   "source": [
    "### With SMOTE"
   ]
  },
  {
   "cell_type": "code",
   "execution_count": 32,
   "metadata": {},
   "outputs": [],
   "source": [
    "bm_resampled = BayesianNetwork()\n",
    "bm_resampled.add_nodes_from(nodes)\n",
    "bm_resampled.add_edges_from(best_model.edges)"
   ]
  },
  {
   "cell_type": "code",
   "execution_count": 33,
   "metadata": {},
   "outputs": [],
   "source": [
    "bm_resampled.fit(df_resampled, estimator=BayesianEstimator, prior_type='dirichlet', pseudo_counts=1)"
   ]
  },
  {
   "cell_type": "code",
   "execution_count": 34,
   "metadata": {},
   "outputs": [
    {
     "name": "stdout",
     "output_type": "stream",
     "text": [
      "+------------------+----------------------+\n",
      "| SleepDuration    |   phi(SleepDuration) |\n",
      "+==================+======================+\n",
      "| SleepDuration(0) |               0.7496 |\n",
      "+------------------+----------------------+\n",
      "| SleepDuration(1) |               0.2039 |\n",
      "+------------------+----------------------+\n",
      "| SleepDuration(2) |               0.0464 |\n",
      "+------------------+----------------------+\n",
      "+------------------+----------------------+\n",
      "| SleepDuration    |   phi(SleepDuration) |\n",
      "+==================+======================+\n",
      "| SleepDuration(0) |               0.8639 |\n",
      "+------------------+----------------------+\n",
      "| SleepDuration(1) |               0.0943 |\n",
      "+------------------+----------------------+\n",
      "| SleepDuration(2) |               0.0418 |\n",
      "+------------------+----------------------+\n",
      "+------------------+----------------------+\n",
      "| SleepDuration    |   phi(SleepDuration) |\n",
      "+==================+======================+\n",
      "| SleepDuration(0) |               0.8718 |\n",
      "+------------------+----------------------+\n",
      "| SleepDuration(1) |               0.1077 |\n",
      "+------------------+----------------------+\n",
      "| SleepDuration(2) |               0.0205 |\n",
      "+------------------+----------------------+\n",
      "+------------------+----------------------+\n",
      "| SleepDuration    |   phi(SleepDuration) |\n",
      "+==================+======================+\n",
      "| SleepDuration(0) |               0.8336 |\n",
      "+------------------+----------------------+\n",
      "| SleepDuration(1) |               0.1381 |\n",
      "+------------------+----------------------+\n",
      "| SleepDuration(2) |               0.0283 |\n",
      "+------------------+----------------------+\n",
      "+------------------+----------------------+\n",
      "| SleepDuration    |   phi(SleepDuration) |\n",
      "+==================+======================+\n",
      "| SleepDuration(0) |               0.3611 |\n",
      "+------------------+----------------------+\n",
      "| SleepDuration(1) |               0.3518 |\n",
      "+------------------+----------------------+\n",
      "| SleepDuration(2) |               0.2871 |\n",
      "+------------------+----------------------+\n",
      "+------------------+----------------------+\n",
      "| SleepDuration    |   phi(SleepDuration) |\n",
      "+==================+======================+\n",
      "| SleepDuration(0) |               0.5291 |\n",
      "+------------------+----------------------+\n",
      "| SleepDuration(1) |               0.2821 |\n",
      "+------------------+----------------------+\n",
      "| SleepDuration(2) |               0.1887 |\n",
      "+------------------+----------------------+\n"
     ]
    }
   ],
   "source": [
    "infer = VariableElimination(bm_resampled) # We can not easily decode the data...\n",
    "\n",
    "for Age in df_resampled['Age'].unique(): \n",
    "    print(infer.query(['SleepDuration'], evidence={'Age': Age}))"
   ]
  },
  {
   "cell_type": "markdown",
   "metadata": {},
   "source": [
    "Inference with smote isn't working due to an issue with the way we are encoding our values."
   ]
  },
  {
   "cell_type": "markdown",
   "metadata": {},
   "source": [
    "# Evaluating The Network"
   ]
  },
  {
   "cell_type": "markdown",
   "metadata": {},
   "source": [
    "## No Smote"
   ]
  },
  {
   "cell_type": "code",
   "execution_count": 35,
   "metadata": {},
   "outputs": [],
   "source": [
    "for col in categorical_columns:\n",
    "    df_test[col] = encoders[col].inverse_transform(df_test[col])"
   ]
  },
  {
   "cell_type": "code",
   "execution_count": 36,
   "metadata": {},
   "outputs": [
    {
     "data": {
      "application/vnd.jupyter.widget-view+json": {
       "model_id": "bbca95615efe4189a5f4b56397e89033",
       "version_major": 2,
       "version_minor": 0
      },
      "text/plain": [
       "  0%|          | 0/808 [00:00<?, ?it/s]"
      ]
     },
     "metadata": {},
     "output_type": "display_data"
    },
    {
     "name": "stdout",
     "output_type": "stream",
     "text": [
      "              precision    recall  f1-score   support\n",
      "\n",
      "          No       0.95      1.00      0.98      1224\n",
      "         Yes       0.00      0.00      0.00        58\n",
      "\n",
      "    accuracy                           0.95      1282\n",
      "   macro avg       0.48      0.50      0.49      1282\n",
      "weighted avg       0.91      0.95      0.93      1282\n",
      "\n",
      "[[1224    0]\n",
      " [  58    0]]\n"
     ]
    }
   ],
   "source": [
    "X_test_diabetes = df_test.drop(columns='Diabetes')\n",
    "y_test_diabetes = df_test['Diabetes']\n",
    "\n",
    "X_train_diabetes = df_train.drop(columns='Diabetes')\n",
    "y_train_diabetes = df_test['Diabetes']\n",
    "\n",
    "y_pred = bm.predict(X_test_diabetes)\n",
    "\n",
    "print(classification_report(y_test_diabetes, y_pred, zero_division=False))\n",
    "print(confusion_matrix(y_test_diabetes, y_pred))"
   ]
  },
  {
   "cell_type": "code",
   "execution_count": 37,
   "metadata": {},
   "outputs": [
    {
     "data": {
      "application/vnd.jupyter.widget-view+json": {
       "model_id": "be7794f06e1f4f21a85cbb12859b7360",
       "version_major": 2,
       "version_minor": 0
      },
      "text/plain": [
       "  0%|          | 0/741 [00:00<?, ?it/s]"
      ]
     },
     "metadata": {},
     "output_type": "display_data"
    },
    {
     "name": "stdout",
     "output_type": "stream",
     "text": [
      "              precision    recall  f1-score   support\n",
      "\n",
      "          No       0.84      0.98      0.90      1052\n",
      "         Yes       0.53      0.12      0.20       230\n",
      "\n",
      "    accuracy                           0.82      1282\n",
      "   macro avg       0.68      0.55      0.55      1282\n",
      "weighted avg       0.78      0.82      0.77      1282\n",
      "\n",
      "[[1027   25]\n",
      " [ 202   28]]\n"
     ]
    }
   ],
   "source": [
    "X_test_hypertension = df_test.drop(columns='Hypertension')\n",
    "y_test_hypertension = df_test['Hypertension']\n",
    "y_pred = bm.predict(X_test_hypertension)\n",
    "\n",
    "print(classification_report(y_test_hypertension, y_pred))\n",
    "print(confusion_matrix(y_test_hypertension, y_pred))\n"
   ]
  },
  {
   "cell_type": "code",
   "execution_count": 38,
   "metadata": {},
   "outputs": [
    {
     "data": {
      "application/vnd.jupyter.widget-view+json": {
       "model_id": "98bd6ea2c7cd4743ba568e8018c9acff",
       "version_major": 2,
       "version_minor": 0
      },
      "text/plain": [
       "  0%|          | 0/704 [00:00<?, ?it/s]"
      ]
     },
     "metadata": {},
     "output_type": "display_data"
    },
    {
     "name": "stdout",
     "output_type": "stream",
     "text": [
      "              precision    recall  f1-score   support\n",
      "\n",
      "          No       0.70      0.90      0.79       795\n",
      "         Yes       0.68      0.37      0.48       487\n",
      "\n",
      "    accuracy                           0.70      1282\n",
      "   macro avg       0.69      0.63      0.63      1282\n",
      "weighted avg       0.69      0.70      0.67      1282\n",
      "\n",
      "[[712  83]\n",
      " [307 180]]\n"
     ]
    }
   ],
   "source": [
    "X_test_cholesterolemia = df_test.drop(columns='Hypercholesterolemia')\n",
    "y_test_cholesterolemia = df_test['Hypercholesterolemia']\n",
    "y_pred = bm.predict(X_test_cholesterolemia)\n",
    "print(classification_report(y_test_cholesterolemia, y_pred))\n",
    "print(confusion_matrix(y_test_cholesterolemia, y_pred))"
   ]
  },
  {
   "cell_type": "markdown",
   "metadata": {},
   "source": [
    "## With SMOTE"
   ]
  },
  {
   "cell_type": "code",
   "execution_count": 39,
   "metadata": {},
   "outputs": [],
   "source": [
    "for col in categorical_columns:\n",
    "    df_test[col] = encoders[col].transform(df_test[col])"
   ]
  },
  {
   "cell_type": "code",
   "execution_count": 40,
   "metadata": {},
   "outputs": [],
   "source": [
    "X_test_diabetes = df_test.drop(columns='Diabetes')\n",
    "y_test_diabetes = df_test['Diabetes']"
   ]
  },
  {
   "cell_type": "code",
   "execution_count": 41,
   "metadata": {},
   "outputs": [
    {
     "data": {
      "application/vnd.jupyter.widget-view+json": {
       "model_id": "fbf2163144044e92b675278026a9eb5e",
       "version_major": 2,
       "version_minor": 0
      },
      "text/plain": [
       "  0%|          | 0/808 [00:00<?, ?it/s]"
      ]
     },
     "metadata": {},
     "output_type": "display_data"
    },
    {
     "name": "stdout",
     "output_type": "stream",
     "text": [
      "              precision    recall  f1-score   support\n",
      "\n",
      "           0       0.95      1.00      0.98      1224\n",
      "           1       0.00      0.00      0.00        58\n",
      "\n",
      "    accuracy                           0.95      1282\n",
      "   macro avg       0.48      0.50      0.49      1282\n",
      "weighted avg       0.91      0.95      0.93      1282\n",
      "\n",
      "[[1224    0]\n",
      " [  58    0]]\n"
     ]
    }
   ],
   "source": [
    "X_resampled_diabetes = df_resampled.drop(columns='Diabetes')\n",
    "y_test_diabetes = df_test['Diabetes']\n",
    "\n",
    "y_pred = bm_resampled.predict(X_test_diabetes)\n",
    "\n",
    "print(classification_report(y_test_diabetes, y_pred, zero_division=False))\n",
    "print(confusion_matrix(y_test_diabetes, y_pred))"
   ]
  },
  {
   "cell_type": "code",
   "execution_count": 42,
   "metadata": {},
   "outputs": [
    {
     "data": {
      "application/vnd.jupyter.widget-view+json": {
       "model_id": "b813526049024675a84073af587a830e",
       "version_major": 2,
       "version_minor": 0
      },
      "text/plain": [
       "  0%|          | 0/741 [00:00<?, ?it/s]"
      ]
     },
     "metadata": {},
     "output_type": "display_data"
    },
    {
     "name": "stdout",
     "output_type": "stream",
     "text": [
      "              precision    recall  f1-score   support\n",
      "\n",
      "           0       0.84      0.97      0.90      1052\n",
      "           1       0.53      0.14      0.23       230\n",
      "\n",
      "    accuracy                           0.82      1282\n",
      "   macro avg       0.69      0.56      0.56      1282\n",
      "weighted avg       0.78      0.82      0.78      1282\n",
      "\n",
      "[[1023   29]\n",
      " [ 197   33]]\n"
     ]
    }
   ],
   "source": [
    "X_test_hypertension = df_test.drop(columns='Hypertension')\n",
    "y_test_hypertension = df_test['Hypertension']\n",
    "y_pred = bm_resampled.predict(X_test_hypertension)\n",
    "\n",
    "print(classification_report(y_test_hypertension, y_pred))\n",
    "print(confusion_matrix(y_test_hypertension, y_pred))"
   ]
  },
  {
   "cell_type": "code",
   "execution_count": 43,
   "metadata": {},
   "outputs": [
    {
     "data": {
      "application/vnd.jupyter.widget-view+json": {
       "model_id": "14824a509ec94c29966a50319b7c56f1",
       "version_major": 2,
       "version_minor": 0
      },
      "text/plain": [
       "  0%|          | 0/704 [00:00<?, ?it/s]"
      ]
     },
     "metadata": {},
     "output_type": "display_data"
    },
    {
     "name": "stdout",
     "output_type": "stream",
     "text": [
      "              precision    recall  f1-score   support\n",
      "\n",
      "           0       0.68      0.95      0.79       795\n",
      "           1       0.75      0.26      0.39       487\n",
      "\n",
      "    accuracy                           0.69      1282\n",
      "   macro avg       0.71      0.60      0.59      1282\n",
      "weighted avg       0.71      0.69      0.64      1282\n",
      "\n",
      "[[753  42]\n",
      " [360 127]]\n"
     ]
    }
   ],
   "source": [
    "X_test_cholesterolemia = df_test.drop(columns='Hypercholesterolemia')\n",
    "y_test_cholesterolemia = df_test['Hypercholesterolemia']\n",
    "y_pred = bm_resampled.predict(X_test_cholesterolemia)\n",
    "print(classification_report(y_test_cholesterolemia, y_pred))\n",
    "print(confusion_matrix(y_test_cholesterolemia, y_pred))"
   ]
  }
 ],
 "metadata": {
  "kernelspec": {
   "display_name": "base",
   "language": "python",
   "name": "python3"
  },
  "language_info": {
   "codemirror_mode": {
    "name": "ipython",
    "version": 3
   },
   "file_extension": ".py",
   "mimetype": "text/x-python",
   "name": "python",
   "nbconvert_exporter": "python",
   "pygments_lexer": "ipython3",
   "version": "3.12.2"
  }
 },
 "nbformat": 4,
 "nbformat_minor": 2
}
