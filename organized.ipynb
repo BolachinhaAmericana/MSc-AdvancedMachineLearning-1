{
 "cells": [
  {
   "cell_type": "code",
   "execution_count": 30,
   "metadata": {},
   "outputs": [],
   "source": [
    "import pandas as pd\n",
    "import numpy as np\n",
    "import random\n",
    "import matplotlib.pyplot as plt\n",
    "\n",
    "from pgmpy.models import BayesianNetwork\n",
    "\n",
    "from pgmpy.estimators import ParameterEstimator\n",
    "from pgmpy.estimators import MaximumLikelihoodEstimator\n",
    "from pgmpy.estimators import BayesianEstimator\n",
    "from pgmpy.factors.discrete.CPD import TabularCPD\n",
    "\n",
    "# Structure Learning\n",
    "from pgmpy.base import DAG\n",
    "from pgmpy.estimators import HillClimbSearch\n",
    "from pgmpy.estimators import BDeuScore\n",
    "import networkx as nx\n",
    "\n",
    "from sklearn.metrics import classification_report, confusion_matrix\n",
    "\n",
    "from pgmpy.inference import VariableElimination\n"
   ]
  },
  {
   "cell_type": "code",
   "execution_count": 2,
   "metadata": {},
   "outputs": [],
   "source": [
    "train_df = pd.read_csv('./Data/cardiovascular_train.csv')\n",
    "nodes = set(train_df.columns)"
   ]
  },
  {
   "cell_type": "code",
   "execution_count": 41,
   "metadata": {},
   "outputs": [
    {
     "data": {
      "text/plain": [
       "Index(['Age', 'Anxiety', 'BodyMassIndex', 'Depression', 'Diabetes',\n",
       "       'EducationLevel', 'Hypercholesterolemia', 'Hypertension',\n",
       "       'PhysicalActivity', 'Sex', 'SleepDuration', 'SmokerProfile',\n",
       "       'SocioeconomicStatus'],\n",
       "      dtype='object')"
      ]
     },
     "execution_count": 41,
     "metadata": {},
     "output_type": "execute_result"
    }
   ],
   "source": [
    "train_df.columns"
   ]
  },
  {
   "cell_type": "code",
   "execution_count": 3,
   "metadata": {},
   "outputs": [],
   "source": [
    "root_nodes = ['Age', 'Sex']\n",
    "impossible_connections = []\n",
    "\n",
    "for root_node in root_nodes:\n",
    "    for node in nodes:\n",
    "        connection = (node, root_node)\n",
    "        impossible_connections.append(connection)"
   ]
  },
  {
   "cell_type": "code",
   "execution_count": 4,
   "metadata": {},
   "outputs": [],
   "source": [
    "blacklist = set(impossible_connections)"
   ]
  },
  {
   "cell_type": "code",
   "execution_count": 5,
   "metadata": {},
   "outputs": [],
   "source": [
    "def initialize_graph(nodes, p=1, blacklist=[]):\n",
    "    G = DAG()\n",
    "    G.add_nodes_from(nodes=nodes)\n",
    "    init = G.get_random(n_nodes=len(nodes), edge_prob=p)\n",
    "    ls = []\n",
    "    mapping = {k: nodes[k] for k in range(len(nodes))}\n",
    "    for i, j in init.edges:\n",
    "        edge = (mapping[i], mapping[j])\n",
    "        if edge not in blacklist:\n",
    "            ls.append(edge)\n",
    "    G.add_edges_from(ebunch=ls)\n",
    "    return G"
   ]
  },
  {
   "cell_type": "code",
   "execution_count": 6,
   "metadata": {},
   "outputs": [],
   "source": [
    "score_metric = BDeuScore(train_df)\n",
    "es = HillClimbSearch(train_df)"
   ]
  },
  {
   "cell_type": "code",
   "execution_count": 7,
   "metadata": {},
   "outputs": [
    {
     "name": "stderr",
     "output_type": "stream",
     "text": [
      "  0%|          | 41/1000000 [00:01<7:31:10, 36.94it/s] \n"
     ]
    },
    {
     "name": "stdout",
     "output_type": "stream",
     "text": [
      "-31740.87406429782\n"
     ]
    },
    {
     "name": "stderr",
     "output_type": "stream",
     "text": [
      "  0%|          | 43/1000000 [00:01<8:04:34, 34.39it/s] \n"
     ]
    },
    {
     "name": "stdout",
     "output_type": "stream",
     "text": [
      "-31583.80302359296\n"
     ]
    },
    {
     "name": "stderr",
     "output_type": "stream",
     "text": [
      "  0%|          | 42/1000000 [00:01<7:24:26, 37.50it/s]\n"
     ]
    },
    {
     "name": "stdout",
     "output_type": "stream",
     "text": [
      "-31774.564660532764\n"
     ]
    },
    {
     "name": "stderr",
     "output_type": "stream",
     "text": [
      "  0%|          | 35/1000000 [00:01<8:10:36, 33.97it/s]\n"
     ]
    },
    {
     "name": "stdout",
     "output_type": "stream",
     "text": [
      "-31644.49752524252\n"
     ]
    },
    {
     "name": "stderr",
     "output_type": "stream",
     "text": [
      "  0%|          | 42/1000000 [00:01<7:12:00, 38.58it/s]\n"
     ]
    },
    {
     "name": "stdout",
     "output_type": "stream",
     "text": [
      "-31722.98084669125\n"
     ]
    },
    {
     "name": "stderr",
     "output_type": "stream",
     "text": [
      "  0%|          | 41/1000000 [00:01<7:24:01, 37.53it/s]\n"
     ]
    },
    {
     "name": "stdout",
     "output_type": "stream",
     "text": [
      "-31673.6443852191\n"
     ]
    },
    {
     "name": "stderr",
     "output_type": "stream",
     "text": [
      "  0%|          | 39/1000000 [00:01<7:39:59, 36.23it/s]\n"
     ]
    },
    {
     "name": "stdout",
     "output_type": "stream",
     "text": [
      "-31647.637305337343\n"
     ]
    },
    {
     "name": "stderr",
     "output_type": "stream",
     "text": [
      "  0%|          | 35/1000000 [00:01<8:24:19, 33.05it/s]\n"
     ]
    },
    {
     "name": "stdout",
     "output_type": "stream",
     "text": [
      "-31594.807124769082\n"
     ]
    },
    {
     "name": "stderr",
     "output_type": "stream",
     "text": [
      "  0%|          | 36/1000000 [00:01<8:07:29, 34.19it/s] \n"
     ]
    },
    {
     "name": "stdout",
     "output_type": "stream",
     "text": [
      "-31646.993250796815\n"
     ]
    },
    {
     "name": "stderr",
     "output_type": "stream",
     "text": [
      "  0%|          | 37/1000000 [00:01<8:13:43, 33.76it/s]\n"
     ]
    },
    {
     "name": "stdout",
     "output_type": "stream",
     "text": [
      "-31628.057887707768\n"
     ]
    },
    {
     "name": "stderr",
     "output_type": "stream",
     "text": [
      "  0%|          | 48/1000000 [00:01<7:15:15, 38.29it/s] \n"
     ]
    },
    {
     "name": "stdout",
     "output_type": "stream",
     "text": [
      "-31630.66676933132\n"
     ]
    },
    {
     "name": "stderr",
     "output_type": "stream",
     "text": [
      "  0%|          | 30/1000000 [00:00<8:55:52, 31.10it/s] \n"
     ]
    },
    {
     "name": "stdout",
     "output_type": "stream",
     "text": [
      "-31641.583505710478\n"
     ]
    },
    {
     "name": "stderr",
     "output_type": "stream",
     "text": [
      "  0%|          | 37/1000000 [00:01<8:16:12, 33.59it/s]\n"
     ]
    },
    {
     "name": "stdout",
     "output_type": "stream",
     "text": [
      "-31649.650647144128\n"
     ]
    },
    {
     "name": "stderr",
     "output_type": "stream",
     "text": [
      "  0%|          | 28/1000000 [00:00<9:04:58, 30.58it/s]\n"
     ]
    },
    {
     "name": "stdout",
     "output_type": "stream",
     "text": [
      "-31574.353135610043\n"
     ]
    },
    {
     "name": "stderr",
     "output_type": "stream",
     "text": [
      "  0%|          | 36/1000000 [00:01<7:54:47, 35.10it/s]\n"
     ]
    },
    {
     "name": "stdout",
     "output_type": "stream",
     "text": [
      "-31628.05788770776\n",
      "-31774.564660532764\n"
     ]
    }
   ],
   "source": [
    "rand_list = [random.randrange(3, 7) for _ in range(0,15)]\n",
    "rand_list = [x/10 for x in rand_list]\n",
    "best_eval = 0\n",
    "for x, y in zip(range(0,15), rand_list):\n",
    "    current_model = es.estimate(scoring_method=score_metric, black_list=blacklist, start_dag=initialize_graph(nodes=list(nodes), p=y, blacklist=blacklist))\n",
    "    curr_eval = score_metric.score(current_model)\n",
    "    print(curr_eval)\n",
    "    if curr_eval < best_eval:\n",
    "        best_eval = curr_eval\n",
    "        best_model = current_model\n",
    "\n",
    "print(best_eval)"
   ]
  },
  {
   "cell_type": "code",
   "execution_count": 8,
   "metadata": {},
   "outputs": [
    {
     "data": {
      "text/plain": [
       "OutEdgeView([('Depression', 'SleepDuration'), ('SocioeconomicStatus', 'BodyMassIndex'), ('SocioeconomicStatus', 'EducationLevel'), ('Hypertension', 'SleepDuration'), ('Hypertension', 'Anxiety'), ('Age', 'PhysicalActivity'), ('Age', 'Hypercholesterolemia'), ('Age', 'SmokerProfile'), ('Age', 'SocioeconomicStatus'), ('Diabetes', 'PhysicalActivity'), ('Hypercholesterolemia', 'Hypertension'), ('Sex', 'PhysicalActivity'), ('Sex', 'Anxiety'), ('Sex', 'SocioeconomicStatus'), ('BodyMassIndex', 'Hypertension'), ('BodyMassIndex', 'SmokerProfile'), ('PhysicalActivity', 'SmokerProfile'), ('PhysicalActivity', 'SleepDuration'), ('PhysicalActivity', 'EducationLevel'), ('PhysicalActivity', 'Hypertension'), ('PhysicalActivity', 'Depression'), ('SmokerProfile', 'Hypercholesterolemia'), ('EducationLevel', 'BodyMassIndex'), ('EducationLevel', 'Depression')])"
      ]
     },
     "execution_count": 8,
     "metadata": {},
     "output_type": "execute_result"
    }
   ],
   "source": [
    "best_model.edges"
   ]
  },
  {
   "cell_type": "code",
   "execution_count": 37,
   "metadata": {},
   "outputs": [
    {
     "name": "stdout",
     "output_type": "stream",
     "text": [
      "[('Depression', 'SleepDuration'), ('SocioeconomicStatus', 'BodyMassIndex'), ('SocioeconomicStatus', 'EducationLevel'), ('Hypertension', 'SleepDuration'), ('Hypertension', 'Anxiety'), ('Age', 'PhysicalActivity'), ('Age', 'Hypercholesterolemia'), ('Age', 'SmokerProfile'), ('Age', 'SocioeconomicStatus'), ('Diabetes', 'PhysicalActivity'), ('Hypercholesterolemia', 'Hypertension'), ('Sex', 'PhysicalActivity'), ('Sex', 'Anxiety'), ('Sex', 'SocioeconomicStatus'), ('BodyMassIndex', 'Hypertension'), ('BodyMassIndex', 'SmokerProfile'), ('PhysicalActivity', 'SmokerProfile'), ('PhysicalActivity', 'SleepDuration'), ('PhysicalActivity', 'EducationLevel'), ('PhysicalActivity', 'Hypertension'), ('PhysicalActivity', 'Depression'), ('SmokerProfile', 'Hypercholesterolemia'), ('EducationLevel', 'BodyMassIndex'), ('EducationLevel', 'Depression')]\n"
     ]
    },
    {
     "data": {
      "image/png": "[encoded data removed]",
      "text/plain": [
       "<Figure size 800x800 with 1 Axes>"
      ]
     },
     "metadata": {},
     "output_type": "display_data"
    }
   ],
   "source": [
    "plt.figure(figsize=(8, 8))\n",
    "nx.draw(nx.DiGraph(best_model.edges()), with_labels=True)\n",
    "plt.draw()\n",
    "print(best_model.edges())"
   ]
  },
  {
   "cell_type": "code",
   "execution_count": 10,
   "metadata": {},
   "outputs": [],
   "source": [
    "bm = BayesianNetwork()\n",
    "bm.add_nodes_from(nodes)\n",
    "bm.add_edges_from(best_model.edges)"
   ]
  },
  {
   "cell_type": "code",
   "execution_count": 25,
   "metadata": {},
   "outputs": [],
   "source": [
    "def print_full(cpd):\n",
    "    backup = TabularCPD._truncate_strtable\n",
    "    TabularCPD._truncate_strtable = lambda self, x: x\n",
    "    print(cpd)\n",
    "    TabularCPD._truncate_strtable = backup"
   ]
  },
  {
   "cell_type": "code",
   "execution_count": 23,
   "metadata": {},
   "outputs": [],
   "source": [
    "bm.fit(train_df, estimator=BayesianEstimator, prior_type='dirichlet', pseudo_counts=1)"
   ]
  },
  {
   "cell_type": "code",
   "execution_count": 27,
   "metadata": {},
   "outputs": [
    {
     "name": "stdout",
     "output_type": "stream",
     "text": [
      "+------------------+-----------------------------------------+------------------------------------+-----------------------------------------+------------------------------------+-----------------------------------------+------------------------------------+\n",
      "| EducationLevel   | EducationLevel(1)                       | EducationLevel(1)                  | EducationLevel(2)                       | EducationLevel(2)                  | EducationLevel(3)                       | EducationLevel(3)                  |\n",
      "+------------------+-----------------------------------------+------------------------------------+-----------------------------------------+------------------------------------+-----------------------------------------+------------------------------------+\n",
      "| PhysicalActivity | PhysicalActivity(Insufficiently Active) | PhysicalActivity(Regularly Active) | PhysicalActivity(Insufficiently Active) | PhysicalActivity(Regularly Active) | PhysicalActivity(Insufficiently Active) | PhysicalActivity(Regularly Active) |\n",
      "+------------------+-----------------------------------------+------------------------------------+-----------------------------------------+------------------------------------+-----------------------------------------+------------------------------------+\n",
      "| Depression(No)   | 0.8                                     | 0.75                               | 0.9908389585342333                      | 0.9976303317535545                 | 0.9971305595408895                      | 0.9914163090128756                 |\n",
      "+------------------+-----------------------------------------+------------------------------------+-----------------------------------------+------------------------------------+-----------------------------------------+------------------------------------+\n",
      "| Depression(Yes)  | 0.2                                     | 0.25                               | 0.009161041465766635                    | 0.002369668246445498               | 0.0028694404591104736                   | 0.008583690987124463               |\n",
      "+------------------+-----------------------------------------+------------------------------------+-----------------------------------------+------------------------------------+-----------------------------------------+------------------------------------+\n",
      "+------------------------+--------------------+---------------------+---------------------+---------------------+---------------------+---------------------+--------------------+---------------------+---------------------+---------------------+--------------------+--------------------+\n",
      "| Age                    | Age(18-24)         | Age(18-24)          | Age(24-34)          | Age(24-34)          | Age(34-44)          | Age(34-44)          | Age(44-54)         | Age(44-54)          | Age(54-64)          | Age(54-64)          | Age(64-74)         | Age(64-74)         |\n",
      "+------------------------+--------------------+---------------------+---------------------+---------------------+---------------------+---------------------+--------------------+---------------------+---------------------+---------------------+--------------------+--------------------+\n",
      "| Sex                    | Sex(Female)        | Sex(Male)           | Sex(Female)         | Sex(Male)           | Sex(Female)         | Sex(Male)           | Sex(Female)        | Sex(Male)           | Sex(Female)         | Sex(Male)           | Sex(Female)        | Sex(Male)          |\n",
      "+------------------------+--------------------+---------------------+---------------------+---------------------+---------------------+---------------------+--------------------+---------------------+---------------------+---------------------+--------------------+--------------------+\n",
      "| SocioeconomicStatus(1) | 0.25               | 0.22727272727272727 | 0.16267942583732056 | 0.28761061946902655 | 0.45054945054945056 | 0.29625779625779625 | 0.2717391304347826 | 0.3371501272264631  | 0.3641025641025641  | 0.25679012345679014 | 0.3333333333333333 | 0.2222222222222222 |\n",
      "+------------------------+--------------------+---------------------+---------------------+---------------------+---------------------+---------------------+--------------------+---------------------+---------------------+---------------------+--------------------+--------------------+\n",
      "| SocioeconomicStatus(2) | 0.4166666666666667 | 0.45454545454545453 | 0.2583732057416268  | 0.3053097345132743  | 0.3252747252747253  | 0.31185031185031187 | 0.3125             | 0.39567430025445294 | 0.36923076923076925 | 0.2419753086419753  | 0.3333333333333333 | 0.5555555555555556 |\n",
      "+------------------------+--------------------+---------------------+---------------------+---------------------+---------------------+---------------------+--------------------+---------------------+---------------------+---------------------+--------------------+--------------------+\n",
      "| SocioeconomicStatus(3) | 0.3333333333333333 | 0.3181818181818182  | 0.5789473684210527  | 0.40707964601769914 | 0.22417582417582418 | 0.3918918918918919  | 0.4157608695652174 | 0.26717557251908397 | 0.26666666666666666 | 0.5012345679012346  | 0.3333333333333333 | 0.2222222222222222 |\n",
      "+------------------------+--------------------+---------------------+---------------------+---------------------+---------------------+---------------------+--------------------+---------------------+---------------------+---------------------+--------------------+--------------------+\n",
      "+----------------------+-----------------------------------------+------------------------------------+-----------------------------------------+------------------------------------+-----------------------------------------+------------------------------------+-----------------------------------------+------------------------------------+-----------------------------------------+------------------------------------+-----------------------------------------+------------------------------------+-----------------------------------------+------------------------------------+-----------------------------------------+------------------------------------+\n",
      "| BodyMassIndex        | BodyMassIndex(Normal)                   | BodyMassIndex(Normal)              | BodyMassIndex(Normal)                   | BodyMassIndex(Normal)              | BodyMassIndex(Obese)                    | BodyMassIndex(Obese)               | BodyMassIndex(Obese)                    | BodyMassIndex(Obese)               | BodyMassIndex(Overweight)               | BodyMassIndex(Overweight)          | BodyMassIndex(Overweight)               | BodyMassIndex(Overweight)          | BodyMassIndex(Underweight)              | BodyMassIndex(Underweight)         | BodyMassIndex(Underweight)              | BodyMassIndex(Underweight)         |\n",
      "+----------------------+-----------------------------------------+------------------------------------+-----------------------------------------+------------------------------------+-----------------------------------------+------------------------------------+-----------------------------------------+------------------------------------+-----------------------------------------+------------------------------------+-----------------------------------------+------------------------------------+-----------------------------------------+------------------------------------+-----------------------------------------+------------------------------------+\n",
      "| Hypercholesterolemia | Hypercholesterolemia(No)                | Hypercholesterolemia(No)           | Hypercholesterolemia(Yes)               | Hypercholesterolemia(Yes)          | Hypercholesterolemia(No)                | Hypercholesterolemia(No)           | Hypercholesterolemia(Yes)               | Hypercholesterolemia(Yes)          | Hypercholesterolemia(No)                | Hypercholesterolemia(No)           | Hypercholesterolemia(Yes)               | Hypercholesterolemia(Yes)          | Hypercholesterolemia(No)                | Hypercholesterolemia(No)           | Hypercholesterolemia(Yes)               | Hypercholesterolemia(Yes)          |\n",
      "+----------------------+-----------------------------------------+------------------------------------+-----------------------------------------+------------------------------------+-----------------------------------------+------------------------------------+-----------------------------------------+------------------------------------+-----------------------------------------+------------------------------------+-----------------------------------------+------------------------------------+-----------------------------------------+------------------------------------+-----------------------------------------+------------------------------------+\n",
      "| PhysicalActivity     | PhysicalActivity(Insufficiently Active) | PhysicalActivity(Regularly Active) | PhysicalActivity(Insufficiently Active) | PhysicalActivity(Regularly Active) | PhysicalActivity(Insufficiently Active) | PhysicalActivity(Regularly Active) | PhysicalActivity(Insufficiently Active) | PhysicalActivity(Regularly Active) | PhysicalActivity(Insufficiently Active) | PhysicalActivity(Regularly Active) | PhysicalActivity(Insufficiently Active) | PhysicalActivity(Regularly Active) | PhysicalActivity(Insufficiently Active) | PhysicalActivity(Regularly Active) | PhysicalActivity(Insufficiently Active) | PhysicalActivity(Regularly Active) |\n",
      "+----------------------+-----------------------------------------+------------------------------------+-----------------------------------------+------------------------------------+-----------------------------------------+------------------------------------+-----------------------------------------+------------------------------------+-----------------------------------------+------------------------------------+-----------------------------------------+------------------------------------+-----------------------------------------+------------------------------------+-----------------------------------------+------------------------------------+\n",
      "| Hypertension(No)     | 0.9333333333333333                      | 0.7510917030567685                 | 0.770618556701031                       | 0.5277777777777778                 | 0.8305785123966942                      | 0.9310344827586207                 | 0.5657370517928287                      | 0.78125                            | 0.9474497681607419                      | 0.8063241106719368                 | 0.8263157894736842                      | 0.5                                | 0.7906976744186046                      | 0.8181818181818182                 | 0.631578947368421                       | 0.3333333333333333                 |\n",
      "+----------------------+-----------------------------------------+------------------------------------+-----------------------------------------+------------------------------------+-----------------------------------------+------------------------------------+-----------------------------------------+------------------------------------+-----------------------------------------+------------------------------------+-----------------------------------------+------------------------------------+-----------------------------------------+------------------------------------+-----------------------------------------+------------------------------------+\n",
      "| Hypertension(Yes)    | 0.06666666666666667                     | 0.24890829694323144                | 0.22938144329896906                     | 0.4722222222222222                 | 0.16942148760330578                     | 0.06896551724137931                | 0.4342629482071713                      | 0.21875                            | 0.05255023183925812                     | 0.19367588932806323                | 0.1736842105263158                      | 0.5                                | 0.20930232558139536                     | 0.18181818181818182                | 0.3684210526315789                      | 0.6666666666666666                 |\n",
      "+----------------------+-----------------------------------------+------------------------------------+-----------------------------------------+------------------------------------+-----------------------------------------+------------------------------------+-----------------------------------------+------------------------------------+-----------------------------------------+------------------------------------+-----------------------------------------+------------------------------------+-----------------------------------------+------------------------------------+-----------------------------------------+------------------------------------+\n",
      "+------------+------------+\n",
      "| Age(18-24) | 0.00753051 |\n",
      "+------------+------------+\n",
      "| Age(24-34) | 0.170345   |\n",
      "+------------+------------+\n",
      "| Age(34-44) | 0.366658   |\n",
      "+------------+------------+\n",
      "| Age(44-54) | 0.298364   |\n",
      "+------------+------------+\n",
      "| Age(54-64) | 0.154505   |\n",
      "+------------+------------+\n",
      "| Age(64-74) | 0.00259673 |\n",
      "+------------+------------+\n",
      "+---------------+-----------+\n",
      "| Diabetes(No)  | 0.95399   |\n",
      "+---------------+-----------+\n",
      "| Diabetes(Yes) | 0.0460099 |\n",
      "+---------------+-----------+\n",
      "+---------------------------+--------------------------+---------------------------+-----------------------+--------------------------+---------------------------+-----------------------+--------------------------+---------------------------+-----------------------+--------------------------+---------------------------+-----------------------+--------------------------+---------------------------+-----------------------+--------------------------+---------------------------+-----------------------+\n",
      "| Age                       | Age(18-24)               | Age(18-24)                | Age(18-24)            | Age(24-34)               | Age(24-34)                | Age(24-34)            | Age(34-44)               | Age(34-44)                | Age(34-44)            | Age(44-54)               | Age(44-54)                | Age(44-54)            | Age(54-64)               | Age(54-64)                | Age(54-64)            | Age(64-74)               | Age(64-74)                | Age(64-74)            |\n",
      "+---------------------------+--------------------------+---------------------------+-----------------------+--------------------------+---------------------------+-----------------------+--------------------------+---------------------------+-----------------------+--------------------------+---------------------------+-----------------------+--------------------------+---------------------------+-----------------------+--------------------------+---------------------------+-----------------------+\n",
      "| SmokerProfile             | SmokerProfile(Ex_Smoker) | SmokerProfile(Non_Smoker) | SmokerProfile(Smoker) | SmokerProfile(Ex_Smoker) | SmokerProfile(Non_Smoker) | SmokerProfile(Smoker) | SmokerProfile(Ex_Smoker) | SmokerProfile(Non_Smoker) | SmokerProfile(Smoker) | SmokerProfile(Ex_Smoker) | SmokerProfile(Non_Smoker) | SmokerProfile(Smoker) | SmokerProfile(Ex_Smoker) | SmokerProfile(Non_Smoker) | SmokerProfile(Smoker) | SmokerProfile(Ex_Smoker) | SmokerProfile(Non_Smoker) | SmokerProfile(Smoker) |\n",
      "+---------------------------+--------------------------+---------------------------+-----------------------+--------------------------+---------------------------+-----------------------+--------------------------+---------------------------+-----------------------+--------------------------+---------------------------+-----------------------+--------------------------+---------------------------+-----------------------+--------------------------+---------------------------+-----------------------+\n",
      "| Hypercholesterolemia(No)  | 0.4                      | 0.8888888888888888        | 0.7272727272727273    | 0.627906976744186        | 0.8                       | 0.46511627906976744   | 0.5375939849624061       | 0.6924803591470258        | 0.6153846153846154    | 0.6181818181818182       | 0.5016393442622951        | 0.5414746543778802    | 0.4846153846153846       | 0.6556291390728477        | 0.5833333333333334    | 0.5                      | 0.5                       | 0.2                   |\n",
      "+---------------------------+--------------------------+---------------------------+-----------------------+--------------------------+---------------------------+-----------------------+--------------------------+---------------------------+-----------------------+--------------------------+---------------------------+-----------------------+--------------------------+---------------------------+-----------------------+--------------------------+---------------------------+-----------------------+\n",
      "| Hypercholesterolemia(Yes) | 0.6                      | 0.1111111111111111        | 0.2727272727272727    | 0.37209302325581395      | 0.2                       | 0.5348837209302325    | 0.462406015037594        | 0.3075196408529742        | 0.38461538461538464   | 0.38181818181818183      | 0.49836065573770494       | 0.45852534562211983   | 0.5153846153846153       | 0.3443708609271523        | 0.4166666666666667    | 0.5                      | 0.5                       | 0.8                   |\n",
      "+---------------------------+--------------------------+---------------------------+-----------------------+--------------------------+---------------------------+-----------------------+--------------------------+---------------------------+-----------------------+--------------------------+---------------------------+-----------------------+--------------------------+---------------------------+-----------------------+--------------------------+---------------------------+-----------------------+\n",
      "+-------------+---------+\n",
      "| Sex(Female) | 0.31921 |\n",
      "+-------------+---------+\n",
      "| Sex(Male)   | 0.68079 |\n",
      "+-------------+---------+\n",
      "+----------------------------+------------------------+------------------------+------------------------+------------------------+------------------------+------------------------+------------------------+------------------------+------------------------+\n",
      "| EducationLevel             | EducationLevel(1)      | EducationLevel(1)      | EducationLevel(1)      | EducationLevel(2)      | EducationLevel(2)      | EducationLevel(2)      | EducationLevel(3)      | EducationLevel(3)      | EducationLevel(3)      |\n",
      "+----------------------------+------------------------+------------------------+------------------------+------------------------+------------------------+------------------------+------------------------+------------------------+------------------------+\n",
      "| SocioeconomicStatus        | SocioeconomicStatus(1) | SocioeconomicStatus(2) | SocioeconomicStatus(3) | SocioeconomicStatus(1) | SocioeconomicStatus(2) | SocioeconomicStatus(3) | SocioeconomicStatus(1) | SocioeconomicStatus(2) | SocioeconomicStatus(3) |\n",
      "+----------------------------+------------------------+------------------------+------------------------+------------------------+------------------------+------------------------+------------------------+------------------------+------------------------+\n",
      "| BodyMassIndex(Normal)      | 0.5714285714285714     | 0.2                    | 0.2                    | 0.4647058823529412     | 0.29890764647467727    | 0.32179607109448083    | 0.2349570200573066     | 0.3170731707317073     | 0.42857142857142855    |\n",
      "+----------------------------+------------------------+------------------------+------------------------+------------------------+------------------------+------------------------+------------------------+------------------------+------------------------+\n",
      "| BodyMassIndex(Obese)       | 0.14285714285714285    | 0.2                    | 0.4                    | 0.23058823529411765    | 0.23038728897715988    | 0.27034611786716556    | 0.4154727793696275     | 0.21138211382113822    | 0.17201166180758018    |\n",
      "+----------------------------+------------------------+------------------------+------------------------+------------------------+------------------------+------------------------+------------------------+------------------------+------------------------+\n",
      "| BodyMassIndex(Overweight)  | 0.14285714285714285    | 0.4                    | 0.2                    | 0.28705882352941176    | 0.44885799404170806    | 0.3713751169317119     | 0.32664756446991405    | 0.43902439024390244    | 0.37900874635568516    |\n",
      "+----------------------------+------------------------+------------------------+------------------------+------------------------+------------------------+------------------------+------------------------+------------------------+------------------------+\n",
      "| BodyMassIndex(Underweight) | 0.14285714285714285    | 0.2                    | 0.2                    | 0.01764705882352941    | 0.021847070506454815   | 0.03648269410664172    | 0.022922636103151862   | 0.032520325203252036   | 0.02040816326530612    |\n",
      "+----------------------------+------------------------+------------------------+------------------------+------------------------+------------------------+------------------------+------------------------+------------------------+------------------------+\n",
      "+-----------------------------------------+---------------------+---------------------+---------------+---------------+---------------------+---------------------+--------------------+---------------------+---------------------+--------------------+----------------------+---------------+--------------------+---------------------+---------------------+---------------------+--------------------+---------------------+---------------------+---------------+--------------+--------------+--------------------+---------------+\n",
      "| Age                                     | Age(18-24)          | Age(18-24)          | Age(18-24)    | Age(18-24)    | Age(24-34)          | Age(24-34)          | Age(24-34)         | Age(24-34)          | Age(34-44)          | Age(34-44)         | Age(34-44)           | Age(34-44)    | Age(44-54)         | Age(44-54)          | Age(44-54)          | Age(44-54)          | Age(54-64)         | Age(54-64)          | Age(54-64)          | Age(54-64)    | Age(64-74)   | Age(64-74)   | Age(64-74)         | Age(64-74)    |\n",
      "+-----------------------------------------+---------------------+---------------------+---------------+---------------+---------------------+---------------------+--------------------+---------------------+---------------------+--------------------+----------------------+---------------+--------------------+---------------------+---------------------+---------------------+--------------------+---------------------+---------------------+---------------+--------------+--------------+--------------------+---------------+\n",
      "| Diabetes                                | Diabetes(No)        | Diabetes(No)        | Diabetes(Yes) | Diabetes(Yes) | Diabetes(No)        | Diabetes(No)        | Diabetes(Yes)      | Diabetes(Yes)       | Diabetes(No)        | Diabetes(No)       | Diabetes(Yes)        | Diabetes(Yes) | Diabetes(No)       | Diabetes(No)        | Diabetes(Yes)       | Diabetes(Yes)       | Diabetes(No)       | Diabetes(No)        | Diabetes(Yes)       | Diabetes(Yes) | Diabetes(No) | Diabetes(No) | Diabetes(Yes)      | Diabetes(Yes) |\n",
      "+-----------------------------------------+---------------------+---------------------+---------------+---------------+---------------------+---------------------+--------------------+---------------------+---------------------+--------------------+----------------------+---------------+--------------------+---------------------+---------------------+---------------------+--------------------+---------------------+---------------------+---------------+--------------+--------------+--------------------+---------------+\n",
      "| Sex                                     | Sex(Female)         | Sex(Male)           | Sex(Female)   | Sex(Male)     | Sex(Female)         | Sex(Male)           | Sex(Female)        | Sex(Male)           | Sex(Female)         | Sex(Male)          | Sex(Female)          | Sex(Male)     | Sex(Female)        | Sex(Male)           | Sex(Female)         | Sex(Male)           | Sex(Female)        | Sex(Male)           | Sex(Female)         | Sex(Male)     | Sex(Female)  | Sex(Male)    | Sex(Female)        | Sex(Male)     |\n",
      "+-----------------------------------------+---------------------+---------------------+---------------+---------------+---------------------+---------------------+--------------------+---------------------+---------------------+--------------------+----------------------+---------------+--------------------+---------------------+---------------------+---------------------+--------------------+---------------------+---------------------+---------------+--------------+--------------+--------------------+---------------+\n",
      "| PhysicalActivity(Insufficiently Active) | 0.5454545454545454  | 0.7619047619047619  | 0.5           | 0.5           | 0.8115942028985508  | 0.8329466357308585  | 0.6666666666666666 | 0.8636363636363636  | 0.8199513381995134  | 0.7550371155885471 | 0.9777777777777777   | 0.15          | 0.4454022988505747 | 0.7073825503355705  | 0.19047619047619047 | 0.14285714285714285 | 0.6736842105263158 | 0.7165775401069518  | 0.16666666666666666 | 0.78125       | 0.75         | 0.75         | 0.6666666666666666 | 0.5           |\n",
      "+-----------------------------------------+---------------------+---------------------+---------------+---------------+---------------------+---------------------+--------------------+---------------------+---------------------+--------------------+----------------------+---------------+--------------------+---------------------+---------------------+---------------------+--------------------+---------------------+---------------------+---------------+--------------+--------------+--------------------+---------------+\n",
      "| PhysicalActivity(Regularly Active)      | 0.45454545454545453 | 0.23809523809523808 | 0.5           | 0.5           | 0.18840579710144928 | 0.16705336426914152 | 0.3333333333333333 | 0.13636363636363635 | 0.18004866180048662 | 0.2449628844114528 | 0.022222222222222223 | 0.85          | 0.5545977011494253 | 0.29261744966442954 | 0.8095238095238095  | 0.8571428571428571  | 0.3263157894736842 | 0.28342245989304815 | 0.8333333333333334  | 0.21875       | 0.25         | 0.25         | 0.3333333333333333 | 0.5           |\n",
      "+-----------------------------------------+---------------------+---------------------+---------------+---------------+---------------------+---------------------+--------------------+---------------------+---------------------+--------------------+----------------------+---------------+--------------------+---------------------+---------------------+---------------------+--------------------+---------------------+---------------------+---------------+--------------+--------------+--------------------+---------------+\n",
      "+---------------------------+-----------------------------------------+------------------------------------+-----------------------------------------+------------------------------------+-----------------------------------------+------------------------------------+-----------------------------------------+------------------------------------+-----------------------------------------+------------------------------------+-----------------------------------------+------------------------------------+-----------------------------------------+------------------------------------+-----------------------------------------+------------------------------------+-----------------------------------------+------------------------------------+-----------------------------------------+------------------------------------+-----------------------------------------+------------------------------------+-----------------------------------------+------------------------------------+-----------------------------------------+------------------------------------+-----------------------------------------+------------------------------------+-----------------------------------------+------------------------------------+-----------------------------------------+------------------------------------+-----------------------------------------+------------------------------------+-----------------------------------------+------------------------------------+-----------------------------------------+------------------------------------+-----------------------------------------+------------------------------------+-----------------------------------------+------------------------------------+-----------------------------------------+------------------------------------+-----------------------------------------+------------------------------------+-----------------------------------------+------------------------------------+\n",
      "| Age                       | Age(18-24)                              | Age(18-24)                         | Age(18-24)                              | Age(18-24)                         | Age(18-24)                              | Age(18-24)                         | Age(18-24)                              | Age(18-24)                         | Age(24-34)                              | Age(24-34)                         | Age(24-34)                              | Age(24-34)                         | Age(24-34)                              | Age(24-34)                         | Age(24-34)                              | Age(24-34)                         | Age(34-44)                              | Age(34-44)                         | Age(34-44)                              | Age(34-44)                         | Age(34-44)                              | Age(34-44)                         | Age(34-44)                              | Age(34-44)                         | Age(44-54)                              | Age(44-54)                         | Age(44-54)                              | Age(44-54)                         | Age(44-54)                              | Age(44-54)                         | Age(44-54)                              | Age(44-54)                         | Age(54-64)                              | Age(54-64)                         | Age(54-64)                              | Age(54-64)                         | Age(54-64)                              | Age(54-64)                         | Age(54-64)                              | Age(54-64)                         | Age(64-74)                              | Age(64-74)                         | Age(64-74)                              | Age(64-74)                         | Age(64-74)                              | Age(64-74)                         | Age(64-74)                              | Age(64-74)                         |\n",
      "+---------------------------+-----------------------------------------+------------------------------------+-----------------------------------------+------------------------------------+-----------------------------------------+------------------------------------+-----------------------------------------+------------------------------------+-----------------------------------------+------------------------------------+-----------------------------------------+------------------------------------+-----------------------------------------+------------------------------------+-----------------------------------------+------------------------------------+-----------------------------------------+------------------------------------+-----------------------------------------+------------------------------------+-----------------------------------------+------------------------------------+-----------------------------------------+------------------------------------+-----------------------------------------+------------------------------------+-----------------------------------------+------------------------------------+-----------------------------------------+------------------------------------+-----------------------------------------+------------------------------------+-----------------------------------------+------------------------------------+-----------------------------------------+------------------------------------+-----------------------------------------+------------------------------------+-----------------------------------------+------------------------------------+-----------------------------------------+------------------------------------+-----------------------------------------+------------------------------------+-----------------------------------------+------------------------------------+-----------------------------------------+------------------------------------+\n",
      "| BodyMassIndex             | BodyMassIndex(Normal)                   | BodyMassIndex(Normal)              | BodyMassIndex(Obese)                    | BodyMassIndex(Obese)               | BodyMassIndex(Overweight)               | BodyMassIndex(Overweight)          | BodyMassIndex(Underweight)              | BodyMassIndex(Underweight)         | BodyMassIndex(Normal)                   | BodyMassIndex(Normal)              | BodyMassIndex(Obese)                    | BodyMassIndex(Obese)               | BodyMassIndex(Overweight)               | BodyMassIndex(Overweight)          | BodyMassIndex(Underweight)              | BodyMassIndex(Underweight)         | BodyMassIndex(Normal)                   | BodyMassIndex(Normal)              | BodyMassIndex(Obese)                    | BodyMassIndex(Obese)               | BodyMassIndex(Overweight)               | BodyMassIndex(Overweight)          | BodyMassIndex(Underweight)              | BodyMassIndex(Underweight)         | BodyMassIndex(Normal)                   | BodyMassIndex(Normal)              | BodyMassIndex(Obese)                    | BodyMassIndex(Obese)               | BodyMassIndex(Overweight)               | BodyMassIndex(Overweight)          | BodyMassIndex(Underweight)              | BodyMassIndex(Underweight)         | BodyMassIndex(Normal)                   | BodyMassIndex(Normal)              | BodyMassIndex(Obese)                    | BodyMassIndex(Obese)               | BodyMassIndex(Overweight)               | BodyMassIndex(Overweight)          | BodyMassIndex(Underweight)              | BodyMassIndex(Underweight)         | BodyMassIndex(Normal)                   | BodyMassIndex(Normal)              | BodyMassIndex(Obese)                    | BodyMassIndex(Obese)               | BodyMassIndex(Overweight)               | BodyMassIndex(Overweight)          | BodyMassIndex(Underweight)              | BodyMassIndex(Underweight)         |\n",
      "+---------------------------+-----------------------------------------+------------------------------------+-----------------------------------------+------------------------------------+-----------------------------------------+------------------------------------+-----------------------------------------+------------------------------------+-----------------------------------------+------------------------------------+-----------------------------------------+------------------------------------+-----------------------------------------+------------------------------------+-----------------------------------------+------------------------------------+-----------------------------------------+------------------------------------+-----------------------------------------+------------------------------------+-----------------------------------------+------------------------------------+-----------------------------------------+------------------------------------+-----------------------------------------+------------------------------------+-----------------------------------------+------------------------------------+-----------------------------------------+------------------------------------+-----------------------------------------+------------------------------------+-----------------------------------------+------------------------------------+-----------------------------------------+------------------------------------+-----------------------------------------+------------------------------------+-----------------------------------------+------------------------------------+-----------------------------------------+------------------------------------+-----------------------------------------+------------------------------------+-----------------------------------------+------------------------------------+-----------------------------------------+------------------------------------+\n",
      "| PhysicalActivity          | PhysicalActivity(Insufficiently Active) | PhysicalActivity(Regularly Active) | PhysicalActivity(Insufficiently Active) | PhysicalActivity(Regularly Active) | PhysicalActivity(Insufficiently Active) | PhysicalActivity(Regularly Active) | PhysicalActivity(Insufficiently Active) | PhysicalActivity(Regularly Active) | PhysicalActivity(Insufficiently Active) | PhysicalActivity(Regularly Active) | PhysicalActivity(Insufficiently Active) | PhysicalActivity(Regularly Active) | PhysicalActivity(Insufficiently Active) | PhysicalActivity(Regularly Active) | PhysicalActivity(Insufficiently Active) | PhysicalActivity(Regularly Active) | PhysicalActivity(Insufficiently Active) | PhysicalActivity(Regularly Active) | PhysicalActivity(Insufficiently Active) | PhysicalActivity(Regularly Active) | PhysicalActivity(Insufficiently Active) | PhysicalActivity(Regularly Active) | PhysicalActivity(Insufficiently Active) | PhysicalActivity(Regularly Active) | PhysicalActivity(Insufficiently Active) | PhysicalActivity(Regularly Active) | PhysicalActivity(Insufficiently Active) | PhysicalActivity(Regularly Active) | PhysicalActivity(Insufficiently Active) | PhysicalActivity(Regularly Active) | PhysicalActivity(Insufficiently Active) | PhysicalActivity(Regularly Active) | PhysicalActivity(Insufficiently Active) | PhysicalActivity(Regularly Active) | PhysicalActivity(Insufficiently Active) | PhysicalActivity(Regularly Active) | PhysicalActivity(Insufficiently Active) | PhysicalActivity(Regularly Active) | PhysicalActivity(Insufficiently Active) | PhysicalActivity(Regularly Active) | PhysicalActivity(Insufficiently Active) | PhysicalActivity(Regularly Active) | PhysicalActivity(Insufficiently Active) | PhysicalActivity(Regularly Active) | PhysicalActivity(Insufficiently Active) | PhysicalActivity(Regularly Active) | PhysicalActivity(Insufficiently Active) | PhysicalActivity(Regularly Active) |\n",
      "+---------------------------+-----------------------------------------+------------------------------------+-----------------------------------------+------------------------------------+-----------------------------------------+------------------------------------+-----------------------------------------+------------------------------------+-----------------------------------------+------------------------------------+-----------------------------------------+------------------------------------+-----------------------------------------+------------------------------------+-----------------------------------------+------------------------------------+-----------------------------------------+------------------------------------+-----------------------------------------+------------------------------------+-----------------------------------------+------------------------------------+-----------------------------------------+------------------------------------+-----------------------------------------+------------------------------------+-----------------------------------------+------------------------------------+-----------------------------------------+------------------------------------+-----------------------------------------+------------------------------------+-----------------------------------------+------------------------------------+-----------------------------------------+------------------------------------+-----------------------------------------+------------------------------------+-----------------------------------------+------------------------------------+-----------------------------------------+------------------------------------+-----------------------------------------+------------------------------------+-----------------------------------------+------------------------------------+-----------------------------------------+------------------------------------+\n",
      "| SmokerProfile(Ex_Smoker)  | 0.2                                     | 0.25                               | 0.125                                   | 0.2                                | 0.18181818181818182                     | 0.2857142857142857                 | 0.3333333333333333                      | 0.25                               | 0.33136094674556216                     | 0.29411764705882354                | 0.0967741935483871                      | 0.07894736842105263                | 0.193717277486911                       | 0.10416666666666667                | 0.5                                     | 0.3333333333333333                 | 0.417910447761194                       | 0.1724137931034483                 | 0.10483870967741936                     | 0.10185185185185185                | 0.19950124688279303                     | 0.0915032679738562                 | 0.06349206349206349                     | 0.16666666666666666                | 0.06116207951070336                     | 0.031496062992125984               | 0.21238938053097345                     | 0.13559322033898305                | 0.11462450592885376                     | 0.16556291390728478                | 0.14285714285714285                     | 0.125                              | 0.10795454545454546                     | 0.2                                | 0.36923076923076925                     | 0.23809523809523808                | 0.2777777777777778                      | 0.2361111111111111                 | 0.1111111111111111                      | 0.25                               | 0.2857142857142857                      | 0.3333333333333333                 | 0.4                                     | 0.3333333333333333                 | 0.2                                     | 0.25                               | 0.3333333333333333                      | 0.3333333333333333                 |\n",
      "+---------------------------+-----------------------------------------+------------------------------------+-----------------------------------------+------------------------------------+-----------------------------------------+------------------------------------+-----------------------------------------+------------------------------------+-----------------------------------------+------------------------------------+-----------------------------------------+------------------------------------+-----------------------------------------+------------------------------------+-----------------------------------------+------------------------------------+-----------------------------------------+------------------------------------+-----------------------------------------+------------------------------------+-----------------------------------------+------------------------------------+-----------------------------------------+------------------------------------+-----------------------------------------+------------------------------------+-----------------------------------------+------------------------------------+-----------------------------------------+------------------------------------+-----------------------------------------+------------------------------------+-----------------------------------------+------------------------------------+-----------------------------------------+------------------------------------+-----------------------------------------+------------------------------------+-----------------------------------------+------------------------------------+-----------------------------------------+------------------------------------+-----------------------------------------+------------------------------------+-----------------------------------------+------------------------------------+-----------------------------------------+------------------------------------+\n",
      "| SmokerProfile(Non_Smoker) | 0.5                                     | 0.5                                | 0.375                                   | 0.6                                | 0.45454545454545453                     | 0.42857142857142855                | 0.3333333333333333                      | 0.5                                | 0.27218934911242604                     | 0.3235294117647059                 | 0.7741935483870968                      | 0.7368421052631579                 | 0.5549738219895288                      | 0.6041666666666666                 | 0.1                                     | 0.3333333333333333                 | 0.5                                     | 0.22413793103448276                | 0.7580645161290323                      | 0.5462962962962963                 | 0.7680798004987531                      | 0.6209150326797386                 | 0.015873015873015872                    | 0.4166666666666667                 | 0.6299694189602446                      | 0.7637795275590551                 | 0.017699115044247787                    | 0.3220338983050847                 | 0.4980237154150198                      | 0.40397350993377484                | 0.42857142857142855                     | 0.625                              | 0.7102272727272727                      | 0.6285714285714286                 | 0.2153846153846154                      | 0.19047619047619047                | 0.45                                    | 0.375                              | 0.7777777777777778                      | 0.5                                | 0.42857142857142855                     | 0.3333333333333333                 | 0.4                                     | 0.3333333333333333                 | 0.4                                     | 0.25                               | 0.3333333333333333                      | 0.3333333333333333                 |\n",
      "+---------------------------+-----------------------------------------+------------------------------------+-----------------------------------------+------------------------------------+-----------------------------------------+------------------------------------+-----------------------------------------+------------------------------------+-----------------------------------------+------------------------------------+-----------------------------------------+------------------------------------+-----------------------------------------+------------------------------------+-----------------------------------------+------------------------------------+-----------------------------------------+------------------------------------+-----------------------------------------+------------------------------------+-----------------------------------------+------------------------------------+-----------------------------------------+------------------------------------+-----------------------------------------+------------------------------------+-----------------------------------------+------------------------------------+-----------------------------------------+------------------------------------+-----------------------------------------+------------------------------------+-----------------------------------------+------------------------------------+-----------------------------------------+------------------------------------+-----------------------------------------+------------------------------------+-----------------------------------------+------------------------------------+-----------------------------------------+------------------------------------+-----------------------------------------+------------------------------------+-----------------------------------------+------------------------------------+-----------------------------------------+------------------------------------+\n",
      "| SmokerProfile(Smoker)     | 0.3                                     | 0.25                               | 0.5                                     | 0.2                                | 0.36363636363636365                     | 0.2857142857142857                 | 0.3333333333333333                      | 0.25                               | 0.39644970414201186                     | 0.38235294117647056                | 0.12903225806451613                     | 0.18421052631578946                | 0.2513089005235602                      | 0.2916666666666667                 | 0.4                                     | 0.3333333333333333                 | 0.08208955223880597                     | 0.603448275862069                  | 0.13709677419354838                     | 0.35185185185185186                | 0.032418952618453865                    | 0.2875816993464052                 | 0.9206349206349206                      | 0.4166666666666667                 | 0.308868501529052                       | 0.2047244094488189                 | 0.7699115044247787                      | 0.5423728813559322                 | 0.38735177865612647                     | 0.4304635761589404                 | 0.42857142857142855                     | 0.25                               | 0.18181818181818182                     | 0.17142857142857143                | 0.4153846153846154                      | 0.5714285714285714                 | 0.2722222222222222                      | 0.3888888888888889                 | 0.1111111111111111                      | 0.25                               | 0.2857142857142857                      | 0.3333333333333333                 | 0.2                                     | 0.3333333333333333                 | 0.4                                     | 0.5                                | 0.3333333333333333                      | 0.3333333333333333                 |\n",
      "+---------------------------+-----------------------------------------+------------------------------------+-----------------------------------------+------------------------------------+-----------------------------------------+------------------------------------+-----------------------------------------+------------------------------------+-----------------------------------------+------------------------------------+-----------------------------------------+------------------------------------+-----------------------------------------+------------------------------------+-----------------------------------------+------------------------------------+-----------------------------------------+------------------------------------+-----------------------------------------+------------------------------------+-----------------------------------------+------------------------------------+-----------------------------------------+------------------------------------+-----------------------------------------+------------------------------------+-----------------------------------------+------------------------------------+-----------------------------------------+------------------------------------+-----------------------------------------+------------------------------------+-----------------------------------------+------------------------------------+-----------------------------------------+------------------------------------+-----------------------------------------+------------------------------------+-----------------------------------------+------------------------------------+-----------------------------------------+------------------------------------+-----------------------------------------+------------------------------------+-----------------------------------------+------------------------------------+-----------------------------------------+------------------------------------+\n",
      "+-------------------------+-----------------------------------------+------------------------------------+-----------------------------------------+------------------------------------+-----------------------------------------+------------------------------------+-----------------------------------------+------------------------------------+\n",
      "| Depression              | Depression(No)                          | Depression(No)                     | Depression(No)                          | Depression(No)                     | Depression(Yes)                         | Depression(Yes)                    | Depression(Yes)                         | Depression(Yes)                    |\n",
      "+-------------------------+-----------------------------------------+------------------------------------+-----------------------------------------+------------------------------------+-----------------------------------------+------------------------------------+-----------------------------------------+------------------------------------+\n",
      "| Hypertension            | Hypertension(No)                        | Hypertension(No)                   | Hypertension(Yes)                       | Hypertension(Yes)                  | Hypertension(No)                        | Hypertension(No)                   | Hypertension(Yes)                       | Hypertension(Yes)                  |\n",
      "+-------------------------+-----------------------------------------+------------------------------------+-----------------------------------------+------------------------------------+-----------------------------------------+------------------------------------+-----------------------------------------+------------------------------------+\n",
      "| PhysicalActivity        | PhysicalActivity(Insufficiently Active) | PhysicalActivity(Regularly Active) | PhysicalActivity(Insufficiently Active) | PhysicalActivity(Regularly Active) | PhysicalActivity(Insufficiently Active) | PhysicalActivity(Regularly Active) | PhysicalActivity(Insufficiently Active) | PhysicalActivity(Regularly Active) |\n",
      "+-------------------------+-----------------------------------------+------------------------------------+-----------------------------------------+------------------------------------+-----------------------------------------+------------------------------------+-----------------------------------------+------------------------------------+\n",
      "| SleepDuration(6-9hours) | 0.8975903614457831                      | 0.8871595330739299                 | 0.8383371824480369                      | 0.9448051948051948                 | 0.85                                    | 0.5                                | 0.6                                     | 0.5                                |\n",
      "+-------------------------+-----------------------------------------+------------------------------------+-----------------------------------------+------------------------------------+-----------------------------------------+------------------------------------+-----------------------------------------+------------------------------------+\n",
      "| SleepDuration(<6hours)  | 0.10068846815834767                     | 0.11154345006485085                | 0.15704387990762125                     | 0.05194805194805195                | 0.1                                     | 0.25                               | 0.2                                     | 0.25                               |\n",
      "+-------------------------+-----------------------------------------+------------------------------------+-----------------------------------------+------------------------------------+-----------------------------------------+------------------------------------+-----------------------------------------+------------------------------------+\n",
      "| SleepDuration(>9hours)  | 0.0017211703958691911                   | 0.0012970168612191958              | 0.004618937644341801                    | 0.003246753246753247               | 0.05                                    | 0.25                               | 0.2                                     | 0.25                               |\n",
      "+-------------------------+-----------------------------------------+------------------------------------+-----------------------------------------+------------------------------------+-----------------------------------------+------------------------------------+-----------------------------------------+------------------------------------+\n",
      "+--------------+---------------------+---------------------+---------------------+--------------------+\n",
      "| Hypertension | Hypertension(No)    | Hypertension(No)    | Hypertension(Yes)   | Hypertension(Yes)  |\n",
      "+--------------+---------------------+---------------------+---------------------+--------------------+\n",
      "| Sex          | Sex(Female)         | Sex(Male)           | Sex(Female)         | Sex(Male)          |\n",
      "+--------------+---------------------+---------------------+---------------------+--------------------+\n",
      "| Anxiety(No)  | 0.9604060913705583  | 0.8838193791157103  | 0.8780487804878049  | 0.8407258064516129 |\n",
      "+--------------+---------------------+---------------------+---------------------+--------------------+\n",
      "| Anxiety(Yes) | 0.03959390862944162 | 0.11618062088428975 | 0.12195121951219512 | 0.1592741935483871 |\n",
      "+--------------+---------------------+---------------------+---------------------+--------------------+\n",
      "+---------------------+-----------------------------------------+-----------------------------------------+-----------------------------------------+------------------------------------+------------------------------------+------------------------------------+\n",
      "| PhysicalActivity    | PhysicalActivity(Insufficiently Active) | PhysicalActivity(Insufficiently Active) | PhysicalActivity(Insufficiently Active) | PhysicalActivity(Regularly Active) | PhysicalActivity(Regularly Active) | PhysicalActivity(Regularly Active) |\n",
      "+---------------------+-----------------------------------------+-----------------------------------------+-----------------------------------------+------------------------------------+------------------------------------+------------------------------------+\n",
      "| SocioeconomicStatus | SocioeconomicStatus(1)                  | SocioeconomicStatus(2)                  | SocioeconomicStatus(3)                  | SocioeconomicStatus(1)             | SocioeconomicStatus(2)             | SocioeconomicStatus(3)             |\n",
      "+---------------------+-----------------------------------------+-----------------------------------------+-----------------------------------------+------------------------------------+------------------------------------+------------------------------------+\n",
      "| EducationLevel(1)   | 0.004744958481613286                    | 0.0010905125408942203                   | 0.0009813542688910696                   | 0.0028011204481792717              | 0.005970149253731343               | 0.00510204081632653                |\n",
      "+---------------------+-----------------------------------------+-----------------------------------------+-----------------------------------------+------------------------------------+------------------------------------+------------------------------------+\n",
      "| EducationLevel(2)   | 0.6690391459074733                      | 0.8037077426390403                      | 0.7595682041216879                      | 0.7955182072829131                 | 0.8                                | 0.7474489795918368                 |\n",
      "+---------------------+-----------------------------------------+-----------------------------------------+-----------------------------------------+------------------------------------+------------------------------------+------------------------------------+\n",
      "| EducationLevel(3)   | 0.3262158956109134                      | 0.19520174482006544                     | 0.239450441609421                       | 0.20168067226890757                | 0.19402985074626866                | 0.24744897959183673                |\n",
      "+---------------------+-----------------------------------------+-----------------------------------------+-----------------------------------------+------------------------------------+------------------------------------+------------------------------------+\n"
     ]
    }
   ],
   "source": [
    "for c in bm.get_cpds():\n",
    "    print_full(c)\n"
   ]
  },
  {
   "cell_type": "code",
   "execution_count": null,
   "metadata": {},
   "outputs": [
    {
     "name": "stdout",
     "output_type": "stream",
     "text": [
      "54-64\n",
      "+-------------------------+----------------------+\n",
      "| SleepDuration           |   phi(SleepDuration) |\n",
      "+=========================+======================+\n",
      "| SleepDuration(6-9hours) |               0.8916 |\n",
      "+-------------------------+----------------------+\n",
      "| SleepDuration(<6hours)  |               0.1055 |\n",
      "+-------------------------+----------------------+\n",
      "| SleepDuration(>9hours)  |               0.0029 |\n",
      "+-------------------------+----------------------+\n",
      "24-34\n",
      "+-------------------------+----------------------+\n",
      "| SleepDuration           |   phi(SleepDuration) |\n",
      "+=========================+======================+\n",
      "| SleepDuration(6-9hours) |               0.8904 |\n",
      "+-------------------------+----------------------+\n",
      "| SleepDuration(<6hours)  |               0.1068 |\n",
      "+-------------------------+----------------------+\n",
      "| SleepDuration(>9hours)  |               0.0028 |\n",
      "+-------------------------+----------------------+\n",
      "34-44\n",
      "+-------------------------+----------------------+\n",
      "| SleepDuration           |   phi(SleepDuration) |\n",
      "+=========================+======================+\n",
      "| SleepDuration(6-9hours) |               0.8910 |\n",
      "+-------------------------+----------------------+\n",
      "| SleepDuration(<6hours)  |               0.1062 |\n",
      "+-------------------------+----------------------+\n",
      "| SleepDuration(>9hours)  |               0.0028 |\n",
      "+-------------------------+----------------------+\n",
      "44-54\n",
      "+-------------------------+----------------------+\n",
      "| SleepDuration           |   phi(SleepDuration) |\n",
      "+=========================+======================+\n",
      "| SleepDuration(6-9hours) |               0.8930 |\n",
      "+-------------------------+----------------------+\n",
      "| SleepDuration(<6hours)  |               0.1041 |\n",
      "+-------------------------+----------------------+\n",
      "| SleepDuration(>9hours)  |               0.0029 |\n",
      "+-------------------------+----------------------+\n",
      "64-74\n",
      "+-------------------------+----------------------+\n",
      "| SleepDuration           |   phi(SleepDuration) |\n",
      "+=========================+======================+\n",
      "| SleepDuration(6-9hours) |               0.8905 |\n",
      "+-------------------------+----------------------+\n",
      "| SleepDuration(<6hours)  |               0.1065 |\n",
      "+-------------------------+----------------------+\n",
      "| SleepDuration(>9hours)  |               0.0030 |\n",
      "+-------------------------+----------------------+\n",
      "18-24\n",
      "+-------------------------+----------------------+\n",
      "| SleepDuration           |   phi(SleepDuration) |\n",
      "+=========================+======================+\n",
      "| SleepDuration(6-9hours) |               0.8924 |\n",
      "+-------------------------+----------------------+\n",
      "| SleepDuration(<6hours)  |               0.1049 |\n",
      "+-------------------------+----------------------+\n",
      "| SleepDuration(>9hours)  |               0.0028 |\n",
      "+-------------------------+----------------------+\n"
     ]
    }
   ],
   "source": [
    "infer = VariableElimination(bm)\n",
    "\n",
    "for Age in train_df['Age'].unique(): # sem relacao, justificar. # Pesquisa Cotas a dormir\n",
    "    print(Age)\n",
    "    print(infer.query(['SleepDuration'], evidence={'Age': Age}))"
   ]
  },
  {
   "cell_type": "code",
   "execution_count": 44,
   "metadata": {},
   "outputs": [
    {
     "name": "stdout",
     "output_type": "stream",
     "text": [
      "Smoker Diabetes\n",
      "+---------------+-----------------+\n",
      "| Diabetes      |   phi(Diabetes) |\n",
      "+===============+=================+\n",
      "| Diabetes(No)  |          0.9491 |\n",
      "+---------------+-----------------+\n",
      "| Diabetes(Yes) |          0.0509 |\n",
      "+---------------+-----------------+\n",
      "Non_Smoker Diabetes\n",
      "+---------------+-----------------+\n",
      "| Diabetes      |   phi(Diabetes) |\n",
      "+===============+=================+\n",
      "| Diabetes(No)  |          0.9551 |\n",
      "+---------------+-----------------+\n",
      "| Diabetes(Yes) |          0.0449 |\n",
      "+---------------+-----------------+\n",
      "Ex_Smoker Diabetes\n",
      "+---------------+-----------------+\n",
      "| Diabetes      |   phi(Diabetes) |\n",
      "+===============+=================+\n",
      "| Diabetes(No)  |          0.9582 |\n",
      "+---------------+-----------------+\n",
      "| Diabetes(Yes) |          0.0418 |\n",
      "+---------------+-----------------+\n",
      "Smoker Hypercholesterolemia\n",
      "+---------------------------+-----------------------------+\n",
      "| Hypercholesterolemia      |   phi(Hypercholesterolemia) |\n",
      "+===========================+=============================+\n",
      "| Hypercholesterolemia(No)  |                      0.5528 |\n",
      "+---------------------------+-----------------------------+\n",
      "| Hypercholesterolemia(Yes) |                      0.4472 |\n",
      "+---------------------------+-----------------------------+\n",
      "Non_Smoker Hypercholesterolemia\n",
      "+---------------------------+-----------------------------+\n",
      "| Hypercholesterolemia      |   phi(Hypercholesterolemia) |\n",
      "+===========================+=============================+\n",
      "| Hypercholesterolemia(No)  |                      0.6560 |\n",
      "+---------------------------+-----------------------------+\n",
      "| Hypercholesterolemia(Yes) |                      0.3440 |\n",
      "+---------------------------+-----------------------------+\n",
      "Ex_Smoker Hypercholesterolemia\n",
      "+---------------------------+-----------------------------+\n",
      "| Hypercholesterolemia      |   phi(Hypercholesterolemia) |\n",
      "+===========================+=============================+\n",
      "| Hypercholesterolemia(No)  |                      0.5586 |\n",
      "+---------------------------+-----------------------------+\n",
      "| Hypercholesterolemia(Yes) |                      0.4414 |\n",
      "+---------------------------+-----------------------------+\n",
      "Smoker Hypertension\n",
      "+-------------------+---------------------+\n",
      "| Hypertension      |   phi(Hypertension) |\n",
      "+===================+=====================+\n",
      "| Hypertension(No)  |              0.7778 |\n",
      "+-------------------+---------------------+\n",
      "| Hypertension(Yes) |              0.2222 |\n",
      "+-------------------+---------------------+\n",
      "Non_Smoker Hypertension\n",
      "+-------------------+---------------------+\n",
      "| Hypertension      |   phi(Hypertension) |\n",
      "+===================+=====================+\n",
      "| Hypertension(No)  |              0.8217 |\n",
      "+-------------------+---------------------+\n",
      "| Hypertension(Yes) |              0.1783 |\n",
      "+-------------------+---------------------+\n",
      "Ex_Smoker Hypertension\n",
      "+-------------------+---------------------+\n",
      "| Hypertension      |   phi(Hypertension) |\n",
      "+===================+=====================+\n",
      "| Hypertension(No)  |              0.8110 |\n",
      "+-------------------+---------------------+\n",
      "| Hypertension(Yes) |              0.1890 |\n",
      "+-------------------+---------------------+\n"
     ]
    }
   ],
   "source": [
    "for Profile in train_df['SmokerProfile'].unique():\n",
    "    print(Profile, 'Diabetes')\n",
    "    print(infer.query(['Diabetes'], evidence={'SmokerProfile': Profile}))\n",
    "\n",
    "for Profile in train_df['SmokerProfile'].unique():\n",
    "    print(Profile, 'Hypercholesterolemia')\n",
    "    print(infer.query(['Hypercholesterolemia'], evidence={'SmokerProfile': Profile}))\n",
    "\n",
    "for Profile in train_df['SmokerProfile'].unique():\n",
    "    print(Profile, 'Hypertension')\n",
    "    print(infer.query(['Hypertension'], evidence={'SmokerProfile': Profile}))"
   ]
  },
  {
   "cell_type": "code",
   "execution_count": 49,
   "metadata": {},
   "outputs": [
    {
     "name": "stdout",
     "output_type": "stream",
     "text": [
      "Overweight Diabetes\n",
      "+---------------+-----------------+\n",
      "| Diabetes      |   phi(Diabetes) |\n",
      "+===============+=================+\n",
      "| Diabetes(No)  |          0.9540 |\n",
      "+---------------+-----------------+\n",
      "| Diabetes(Yes) |          0.0460 |\n",
      "+---------------+-----------------+\n",
      "Obese Diabetes\n",
      "+---------------+-----------------+\n",
      "| Diabetes      |   phi(Diabetes) |\n",
      "+===============+=================+\n",
      "| Diabetes(No)  |          0.9544 |\n",
      "+---------------+-----------------+\n",
      "| Diabetes(Yes) |          0.0456 |\n",
      "+---------------+-----------------+\n",
      "Normal Diabetes\n",
      "+---------------+-----------------+\n",
      "| Diabetes      |   phi(Diabetes) |\n",
      "+===============+=================+\n",
      "| Diabetes(No)  |          0.9537 |\n",
      "+---------------+-----------------+\n",
      "| Diabetes(Yes) |          0.0463 |\n",
      "+---------------+-----------------+\n",
      "Underweight Diabetes\n",
      "+---------------+-----------------+\n",
      "| Diabetes      |   phi(Diabetes) |\n",
      "+===============+=================+\n",
      "| Diabetes(No)  |          0.9539 |\n",
      "+---------------+-----------------+\n",
      "| Diabetes(Yes) |          0.0461 |\n",
      "+---------------+-----------------+\n",
      "Overweight Hypercholesterolemia\n",
      "+---------------------------+-----------------------------+\n",
      "| Hypercholesterolemia      |   phi(Hypercholesterolemia) |\n",
      "+===========================+=============================+\n",
      "| Hypercholesterolemia(No)  |                      0.6140 |\n",
      "+---------------------------+-----------------------------+\n",
      "| Hypercholesterolemia(Yes) |                      0.3860 |\n",
      "+---------------------------+-----------------------------+\n",
      "Obese Hypercholesterolemia\n",
      "+---------------------------+-----------------------------+\n",
      "| Hypercholesterolemia      |   phi(Hypercholesterolemia) |\n",
      "+===========================+=============================+\n",
      "| Hypercholesterolemia(No)  |                      0.6268 |\n",
      "+---------------------------+-----------------------------+\n",
      "| Hypercholesterolemia(Yes) |                      0.3732 |\n",
      "+---------------------------+-----------------------------+\n",
      "Normal Hypercholesterolemia\n",
      "+---------------------------+-----------------------------+\n",
      "| Hypercholesterolemia      |   phi(Hypercholesterolemia) |\n",
      "+===========================+=============================+\n",
      "| Hypercholesterolemia(No)  |                      0.5889 |\n",
      "+---------------------------+-----------------------------+\n",
      "| Hypercholesterolemia(Yes) |                      0.4111 |\n",
      "+---------------------------+-----------------------------+\n",
      "Underweight Hypercholesterolemia\n",
      "+---------------------------+-----------------------------+\n",
      "| Hypercholesterolemia      |   phi(Hypercholesterolemia) |\n",
      "+===========================+=============================+\n",
      "| Hypercholesterolemia(No)  |                      0.5873 |\n",
      "+---------------------------+-----------------------------+\n",
      "| Hypercholesterolemia(Yes) |                      0.4127 |\n",
      "+---------------------------+-----------------------------+\n",
      "Overweight Hypertension Sex\n",
      "+-------------------+---------------------+\n",
      "| Hypertension      |   phi(Hypertension) |\n",
      "+===================+=====================+\n",
      "| Hypertension(No)  |              0.8390 |\n",
      "+-------------------+---------------------+\n",
      "| Hypertension(Yes) |              0.1610 |\n",
      "+-------------------+---------------------+\n",
      "Obese Hypertension Sex\n",
      "+-------------------+---------------------+\n",
      "| Hypertension      |   phi(Hypertension) |\n",
      "+===================+=====================+\n",
      "| Hypertension(No)  |              0.7728 |\n",
      "+-------------------+---------------------+\n",
      "| Hypertension(Yes) |              0.2272 |\n",
      "+-------------------+---------------------+\n",
      "Normal Hypertension Sex\n",
      "+-------------------+---------------------+\n",
      "| Hypertension      |   phi(Hypertension) |\n",
      "+===================+=====================+\n",
      "| Hypertension(No)  |              0.8058 |\n",
      "+-------------------+---------------------+\n",
      "| Hypertension(Yes) |              0.1942 |\n",
      "+-------------------+---------------------+\n",
      "Underweight Hypertension Sex\n",
      "+-------------------+---------------------+\n",
      "| Hypertension      |   phi(Hypertension) |\n",
      "+===================+=====================+\n",
      "| Hypertension(No)  |              0.6938 |\n",
      "+-------------------+---------------------+\n",
      "| Hypertension(Yes) |              0.3062 |\n",
      "+-------------------+---------------------+\n"
     ]
    }
   ],
   "source": [
    "# Dar ganda lengalenga\n",
    "\n",
    "for Profile in train_df['BodyMassIndex'].unique():\n",
    "    print(Profile, 'Diabetes')\n",
    "    print(infer.query(['Diabetes'], evidence={'BodyMassIndex': Profile}))\n",
    "\n",
    "for Profile in train_df['BodyMassIndex'].unique():\n",
    "    print(Profile, 'Hypercholesterolemia')\n",
    "    print(infer.query(['Hypercholesterolemia'], evidence={'BodyMassIndex': Profile}))\n",
    "\n",
    "for Profile in train_df['BodyMassIndex'].unique():\n",
    "    print(Profile, 'Hypertension Sex')\n",
    "    print(infer.query(['Hypertension'], evidence={'BodyMassIndex': Profile}))"
   ]
  },
  {
   "cell_type": "code",
   "execution_count": 57,
   "metadata": {},
   "outputs": [
    {
     "name": "stdout",
     "output_type": "stream",
     "text": [
      "2 3\n",
      "+-----------------+-------------------+\n",
      "| Depression      |   phi(Depression) |\n",
      "+=================+===================+\n",
      "| Depression(No)  |            0.9928 |\n",
      "+-----------------+-------------------+\n",
      "| Depression(Yes) |            0.0072 |\n",
      "+-----------------+-------------------+\n",
      "2 1\n",
      "+-----------------+-------------------+\n",
      "| Depression      |   phi(Depression) |\n",
      "+=================+===================+\n",
      "| Depression(No)  |            0.9930 |\n",
      "+-----------------+-------------------+\n",
      "| Depression(Yes) |            0.0070 |\n",
      "+-----------------+-------------------+\n",
      "2 2\n",
      "+-----------------+-------------------+\n",
      "| Depression      |   phi(Depression) |\n",
      "+=================+===================+\n",
      "| Depression(No)  |            0.9928 |\n",
      "+-----------------+-------------------+\n",
      "| Depression(Yes) |            0.0072 |\n",
      "+-----------------+-------------------+\n",
      "3 3\n",
      "+-----------------+-------------------+\n",
      "| Depression      |   phi(Depression) |\n",
      "+=================+===================+\n",
      "| Depression(No)  |            0.9954 |\n",
      "+-----------------+-------------------+\n",
      "| Depression(Yes) |            0.0046 |\n",
      "+-----------------+-------------------+\n",
      "3 1\n",
      "+-----------------+-------------------+\n",
      "| Depression      |   phi(Depression) |\n",
      "+=================+===================+\n",
      "| Depression(No)  |            0.9960 |\n",
      "+-----------------+-------------------+\n",
      "| Depression(Yes) |            0.0040 |\n",
      "+-----------------+-------------------+\n",
      "3 2\n",
      "+-----------------+-------------------+\n",
      "| Depression      |   phi(Depression) |\n",
      "+=================+===================+\n",
      "| Depression(No)  |            0.9955 |\n",
      "+-----------------+-------------------+\n",
      "| Depression(Yes) |            0.0045 |\n",
      "+-----------------+-------------------+\n",
      "1 3\n",
      "+-----------------+-------------------+\n",
      "| Depression      |   phi(Depression) |\n",
      "+=================+===================+\n",
      "| Depression(No)  |            0.7661 |\n",
      "+-----------------+-------------------+\n",
      "| Depression(Yes) |            0.2339 |\n",
      "+-----------------+-------------------+\n",
      "1 1\n",
      "+-----------------+-------------------+\n",
      "| Depression      |   phi(Depression) |\n",
      "+=================+===================+\n",
      "| Depression(No)  |            0.7906 |\n",
      "+-----------------+-------------------+\n",
      "| Depression(Yes) |            0.2094 |\n",
      "+-----------------+-------------------+\n",
      "1 2\n",
      "+-----------------+-------------------+\n",
      "| Depression      |   phi(Depression) |\n",
      "+=================+===================+\n",
      "| Depression(No)  |            0.7655 |\n",
      "+-----------------+-------------------+\n",
      "| Depression(Yes) |            0.2345 |\n",
      "+-----------------+-------------------+\n",
      "starts\n",
      "3\n",
      "+-----------------+-------------------+\n",
      "| Depression      |   phi(Depression) |\n",
      "+=================+===================+\n",
      "| Depression(No)  |            0.9955 |\n",
      "+-----------------+-------------------+\n",
      "| Depression(Yes) |            0.0045 |\n",
      "+-----------------+-------------------+\n",
      "1\n",
      "+-----------------+-------------------+\n",
      "| Depression      |   phi(Depression) |\n",
      "+=================+===================+\n",
      "| Depression(No)  |            0.7655 |\n",
      "+-----------------+-------------------+\n",
      "| Depression(Yes) |            0.2345 |\n",
      "+-----------------+-------------------+\n",
      "2\n",
      "+-----------------+-------------------+\n",
      "| Depression      |   phi(Depression) |\n",
      "+=================+===================+\n",
      "| Depression(No)  |            0.9928 |\n",
      "+-----------------+-------------------+\n",
      "| Depression(Yes) |            0.0072 |\n",
      "+-----------------+-------------------+\n"
     ]
    }
   ],
   "source": [
    "for Level in train_df['EducationLevel'].unique():\n",
    "    for status in train_df['SocioeconomicStatus'].unique():\n",
    "        print(Level, status)\n",
    "        print(infer.query(['Depression'], evidence={'EducationLevel': Level, 'SocioeconomicStatus': status}))\n",
    "\n",
    "print(\"starts\")\n",
    "for Level in train_df['SocioeconomicStatus'].unique():\n",
    "    print(Level)\n",
    "    print(infer.query(['Depression'], evidence={'EducationLevel': Level, 'SocioeconomicStatus': status}))"
   ]
  },
  {
   "cell_type": "code",
   "execution_count": 58,
   "metadata": {},
   "outputs": [],
   "source": [
    "df_test = pd.read_csv('./Data/cardiovascular_test.csv')"
   ]
  },
  {
   "cell_type": "code",
   "execution_count": 60,
   "metadata": {},
   "outputs": [],
   "source": [
    "X_test_diabetes = df_test.drop(columns='Diabetes')\n",
    "y_test_diabetes = df_test['Diabetes']\n",
    "\n",
    "X_train_diabetes = train_df.drop(columns='Diabetes')\n",
    "y_train_diabetes = df_test['Diabetes']"
   ]
  },
  {
   "cell_type": "code",
   "execution_count": 63,
   "metadata": {},
   "outputs": [
    {
     "name": "stderr",
     "output_type": "stream",
     "text": [
      "  0%|          | 0/808 [00:00<?, ?it/s]"
     ]
    }
   ],
   "source": [
    "y_pred = bm.predict(X_test_diabetes)"
   ]
  },
  {
   "cell_type": "code",
   "execution_count": 65,
   "metadata": {},
   "outputs": [
    {
     "name": "stdout",
     "output_type": "stream",
     "text": [
      "              precision    recall  f1-score   support\n",
      "\n",
      "          No       0.95      1.00      0.98      1224\n",
      "         Yes       0.00      0.00      0.00        58\n",
      "\n",
      "    accuracy                           0.95      1282\n",
      "   macro avg       0.48      0.50      0.49      1282\n",
      "weighted avg       0.91      0.95      0.93      1282\n",
      "\n",
      "[[1224    0]\n",
      " [  58    0]]\n"
     ]
    },
    {
     "name": "stderr",
     "output_type": "stream",
     "text": [
      "/home/valentxi/miniconda3/envs/msc/lib/python3.12/site-packages/sklearn/metrics/_classification.py:1531: UndefinedMetricWarning: Precision is ill-defined and being set to 0.0 in labels with no predicted samples. Use `zero_division` parameter to control this behavior.\n",
      "  _warn_prf(average, modifier, f\"{metric.capitalize()} is\", len(result))\n",
      "/home/valentxi/miniconda3/envs/msc/lib/python3.12/site-packages/sklearn/metrics/_classification.py:1531: UndefinedMetricWarning: Precision is ill-defined and being set to 0.0 in labels with no predicted samples. Use `zero_division` parameter to control this behavior.\n",
      "  _warn_prf(average, modifier, f\"{metric.capitalize()} is\", len(result))\n",
      "/home/valentxi/miniconda3/envs/msc/lib/python3.12/site-packages/sklearn/metrics/_classification.py:1531: UndefinedMetricWarning: Precision is ill-defined and being set to 0.0 in labels with no predicted samples. Use `zero_division` parameter to control this behavior.\n",
      "  _warn_prf(average, modifier, f\"{metric.capitalize()} is\", len(result))\n"
     ]
    }
   ],
   "source": [
    "print(classification_report(y_test_diabetes, y_pred))\n",
    "print(confusion_matrix(y_test_diabetes, y_pred))"
   ]
  },
  {
   "cell_type": "code",
   "execution_count": null,
   "metadata": {},
   "outputs": [
    {
     "name": "stderr",
     "output_type": "stream",
     "text": [
      "  0%|          | 0/741 [00:00<?, ?it/s]"
     ]
    }
   ],
   "source": [
    "X_test_hypertension = df_test.drop(columns='Hypertension')\n",
    "y_test_hypertension = df_test['Hypertension']\n",
    "y_pred = bm.predict(X_test_hypertension)\n",
    "print(classification_report(y_test_hypertension, y_pred))\n",
    "print(confusion_matrix(y_test_hypertension, y_pred))\n"
   ]
  },
  {
   "cell_type": "code",
   "execution_count": 69,
   "metadata": {},
   "outputs": [
    {
     "name": "stderr",
     "output_type": "stream",
     "text": [
      "  0%|          | 0/704 [00:00<?, ?it/s]"
     ]
    }
   ],
   "source": [
    "X_test_cholesterolemia = df_test.drop(columns='Hypercholesterolemia')\n",
    "y_test_cholesterolemia = df_test['Hypercholesterolemia']\n",
    "y_pred = bm.predict(X_test_cholesterolemia)"
   ]
  },
  {
   "cell_type": "code",
   "execution_count": 70,
   "metadata": {},
   "outputs": [
    {
     "name": "stdout",
     "output_type": "stream",
     "text": [
      "              precision    recall  f1-score   support\n",
      "\n",
      "          No       0.69      0.90      0.78       795\n",
      "         Yes       0.68      0.34      0.45       487\n",
      "\n",
      "    accuracy                           0.69      1282\n",
      "   macro avg       0.69      0.62      0.62      1282\n",
      "weighted avg       0.69      0.69      0.66      1282\n",
      "\n",
      "[[718  77]\n",
      " [322 165]]\n"
     ]
    }
   ],
   "source": [
    "print(classification_report(y_test_cholesterolemia, y_pred))\n",
    "print(confusion_matrix(y_test_cholesterolemia, y_pred))\n"
   ]
  }
 ],
 "metadata": {
  "kernelspec": {
   "display_name": "msc",
   "language": "python",
   "name": "python3"
  },
  "language_info": {
   "codemirror_mode": {
    "name": "ipython",
    "version": 3
   },
   "file_extension": ".py",
   "mimetype": "text/x-python",
   "name": "python",
   "nbconvert_exporter": "python",
   "pygments_lexer": "ipython3",
   "version": "3.12.2"
  }
 },
 "nbformat": 4,
 "nbformat_minor": 2
}
