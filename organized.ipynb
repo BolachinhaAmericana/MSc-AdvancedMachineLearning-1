{
 "cells": [
  {
   "cell_type": "code",
   "execution_count": 1,
   "metadata": {},
   "outputs": [],
   "source": [
    "import pandas as pd\n",
    "import numpy as np\n",
    "import random\n",
    "import matplotlib.pyplot as plt\n",
    "\n",
    "from pgmpy.models import BayesianNetwork\n",
    "\n",
    "from pgmpy.estimators import ParameterEstimator\n",
    "from pgmpy.estimators import MaximumLikelihoodEstimator\n",
    "from pgmpy.estimators import BayesianEstimator\n",
    "from pgmpy.factors.discrete.CPD import TabularCPD\n",
    "\n",
    "# Structure Learning\n",
    "from pgmpy.base import DAG\n",
    "from pgmpy.estimators import HillClimbSearch\n",
    "from pgmpy.estimators import BDeuScore\n",
    "import networkx as nx\n",
    "\n",
    "from sklearn.metrics import classification_report, confusion_matrix\n",
    "\n",
    "from pgmpy.inference import VariableElimination\n",
    "\n",
    "from imblearn.under_sampling import RandomUnderSampler\n",
    "from imblearn.over_sampling import SMOTENC\n",
    "from sklearn.preprocessing import LabelEncoder"
   ]
  },
  {
   "cell_type": "markdown",
   "metadata": {},
   "source": [
    "# Loading Data"
   ]
  },
  {
   "cell_type": "code",
   "execution_count": 2,
   "metadata": {},
   "outputs": [],
   "source": [
    "df_train = pd.read_csv('./Data/cardiovascular_train.csv')\n",
    "df_test = pd.read_csv('./Data/cardiovascular_test.csv')"
   ]
  },
  {
   "cell_type": "markdown",
   "metadata": {},
   "source": [
    "### Applying SMOTE to Diabetes Column"
   ]
  },
  {
   "cell_type": "code",
   "execution_count": 3,
   "metadata": {},
   "outputs": [],
   "source": [
    "categorical_columns = ['Age', 'Anxiety', 'BodyMassIndex', 'Depression', 'Diabetes',   # All Exept SocioeconomicStatus\n",
    "       'EducationLevel', 'Hypercholesterolemia', 'Hypertension',\n",
    "       'PhysicalActivity', 'Sex', 'SleepDuration', 'SmokerProfile']\n"
   ]
  },
  {
   "cell_type": "code",
   "execution_count": 4,
   "metadata": {},
   "outputs": [],
   "source": [
    "X_train = df_train.drop('Diabetes', axis=1)\n",
    "y_train = df_train['Diabetes']\n",
    "X_test = df_test.drop('Diabetes', axis=1)\n",
    "y_test = df_test['Diabetes']"
   ]
  },
  {
   "cell_type": "code",
   "execution_count": 5,
   "metadata": {},
   "outputs": [],
   "source": [
    "categorical_feature_indices = [X_train.columns.get_loc(col) for col in categorical_columns if col != 'Diabetes']\n",
    "\n",
    "smote_nc = SMOTENC(categorical_features=categorical_feature_indices, random_state=42, sampling_strategy=0.2)\n",
    "\n",
    "X_train_resampled, y_resampled = smote_nc.fit_resample(X_train, y_train)"
   ]
  },
  {
   "cell_type": "code",
   "execution_count": 6,
   "metadata": {},
   "outputs": [
    {
     "name": "stdout",
     "output_type": "stream",
     "text": [
      "Diabetes\n",
      "No     3669\n",
      "Yes     176\n",
      "Name: count, dtype: int64\n",
      "Diabetes\n",
      "No     3669\n",
      "Yes     733\n",
      "Name: count, dtype: int64\n"
     ]
    }
   ],
   "source": [
    "print(y_train.value_counts())\n",
    "print(y_resampled.value_counts())"
   ]
  },
  {
   "cell_type": "markdown",
   "metadata": {},
   "source": [
    "# Visualizing Data"
   ]
  },
  {
   "cell_type": "code",
   "execution_count": 7,
   "metadata": {},
   "outputs": [
    {
     "name": "stdout",
     "output_type": "stream",
     "text": [
      "Index(['Age', 'Anxiety', 'BodyMassIndex', 'Depression', 'Diabetes',\n",
      "       'EducationLevel', 'Hypercholesterolemia', 'Hypertension',\n",
      "       'PhysicalActivity', 'Sex', 'SleepDuration', 'SmokerProfile',\n",
      "       'SocioeconomicStatus'],\n",
      "      dtype='object')\n"
     ]
    },
    {
     "data": {
      "text/html": [
       "<div>\n",
       "<style scoped>\n",
       "    .dataframe tbody tr th:only-of-type {\n",
       "        vertical-align: middle;\n",
       "    }\n",
       "\n",
       "    .dataframe tbody tr th {\n",
       "        vertical-align: top;\n",
       "    }\n",
       "\n",
       "    .dataframe thead th {\n",
       "        text-align: right;\n",
       "    }\n",
       "</style>\n",
       "<table border=\"1\" class=\"dataframe\">\n",
       "  <thead>\n",
       "    <tr style=\"text-align: right;\">\n",
       "      <th></th>\n",
       "      <th>Age</th>\n",
       "      <th>Anxiety</th>\n",
       "      <th>BodyMassIndex</th>\n",
       "      <th>Depression</th>\n",
       "      <th>Diabetes</th>\n",
       "      <th>EducationLevel</th>\n",
       "      <th>Hypercholesterolemia</th>\n",
       "      <th>Hypertension</th>\n",
       "      <th>PhysicalActivity</th>\n",
       "      <th>Sex</th>\n",
       "      <th>SleepDuration</th>\n",
       "      <th>SmokerProfile</th>\n",
       "      <th>SocioeconomicStatus</th>\n",
       "    </tr>\n",
       "  </thead>\n",
       "  <tbody>\n",
       "    <tr>\n",
       "      <th>0</th>\n",
       "      <td>54-64</td>\n",
       "      <td>No</td>\n",
       "      <td>Overweight</td>\n",
       "      <td>No</td>\n",
       "      <td>No</td>\n",
       "      <td>2</td>\n",
       "      <td>No</td>\n",
       "      <td>No</td>\n",
       "      <td>Regularly Active</td>\n",
       "      <td>Male</td>\n",
       "      <td>6-9hours</td>\n",
       "      <td>Smoker</td>\n",
       "      <td>3</td>\n",
       "    </tr>\n",
       "    <tr>\n",
       "      <th>1</th>\n",
       "      <td>24-34</td>\n",
       "      <td>No</td>\n",
       "      <td>Obese</td>\n",
       "      <td>No</td>\n",
       "      <td>No</td>\n",
       "      <td>3</td>\n",
       "      <td>Yes</td>\n",
       "      <td>No</td>\n",
       "      <td>Regularly Active</td>\n",
       "      <td>Female</td>\n",
       "      <td>6-9hours</td>\n",
       "      <td>Non_Smoker</td>\n",
       "      <td>3</td>\n",
       "    </tr>\n",
       "    <tr>\n",
       "      <th>2</th>\n",
       "      <td>24-34</td>\n",
       "      <td>No</td>\n",
       "      <td>Overweight</td>\n",
       "      <td>No</td>\n",
       "      <td>No</td>\n",
       "      <td>2</td>\n",
       "      <td>No</td>\n",
       "      <td>No</td>\n",
       "      <td>Insufficiently Active</td>\n",
       "      <td>Male</td>\n",
       "      <td>6-9hours</td>\n",
       "      <td>Non_Smoker</td>\n",
       "      <td>1</td>\n",
       "    </tr>\n",
       "    <tr>\n",
       "      <th>3</th>\n",
       "      <td>34-44</td>\n",
       "      <td>No</td>\n",
       "      <td>Overweight</td>\n",
       "      <td>No</td>\n",
       "      <td>No</td>\n",
       "      <td>2</td>\n",
       "      <td>Yes</td>\n",
       "      <td>Yes</td>\n",
       "      <td>Regularly Active</td>\n",
       "      <td>Male</td>\n",
       "      <td>&lt;6hours</td>\n",
       "      <td>Non_Smoker</td>\n",
       "      <td>3</td>\n",
       "    </tr>\n",
       "    <tr>\n",
       "      <th>4</th>\n",
       "      <td>44-54</td>\n",
       "      <td>No</td>\n",
       "      <td>Overweight</td>\n",
       "      <td>No</td>\n",
       "      <td>Yes</td>\n",
       "      <td>2</td>\n",
       "      <td>No</td>\n",
       "      <td>Yes</td>\n",
       "      <td>Regularly Active</td>\n",
       "      <td>Female</td>\n",
       "      <td>6-9hours</td>\n",
       "      <td>Smoker</td>\n",
       "      <td>3</td>\n",
       "    </tr>\n",
       "  </tbody>\n",
       "</table>\n",
       "</div>"
      ],
      "text/plain": [
       "     Age Anxiety BodyMassIndex Depression Diabetes  EducationLevel  \\\n",
       "0  54-64      No    Overweight         No       No               2   \n",
       "1  24-34      No         Obese         No       No               3   \n",
       "2  24-34      No    Overweight         No       No               2   \n",
       "3  34-44      No    Overweight         No       No               2   \n",
       "4  44-54      No    Overweight         No      Yes               2   \n",
       "\n",
       "  Hypercholesterolemia Hypertension       PhysicalActivity     Sex  \\\n",
       "0                   No           No       Regularly Active    Male   \n",
       "1                  Yes           No       Regularly Active  Female   \n",
       "2                   No           No  Insufficiently Active    Male   \n",
       "3                  Yes          Yes       Regularly Active    Male   \n",
       "4                   No          Yes       Regularly Active  Female   \n",
       "\n",
       "  SleepDuration SmokerProfile  SocioeconomicStatus  \n",
       "0      6-9hours        Smoker                    3  \n",
       "1      6-9hours    Non_Smoker                    3  \n",
       "2      6-9hours    Non_Smoker                    1  \n",
       "3       <6hours    Non_Smoker                    3  \n",
       "4      6-9hours        Smoker                    3  "
      ]
     },
     "execution_count": 7,
     "metadata": {},
     "output_type": "execute_result"
    }
   ],
   "source": [
    "print(df_train.columns)\n",
    "df_train.head()"
   ]
  },
  {
   "cell_type": "markdown",
   "metadata": {},
   "source": [
    "# Structure Learning - Creating a DAG"
   ]
  },
  {
   "cell_type": "markdown",
   "metadata": {},
   "source": [
    "## With No SMOTE"
   ]
  },
  {
   "cell_type": "code",
   "execution_count": 8,
   "metadata": {},
   "outputs": [],
   "source": [
    "nodes = set(df_train.columns)\n",
    "root_nodes = ['Age', 'Sex']\n",
    "impossible_connections = []\n",
    "\n",
    "for root_node in root_nodes:\n",
    "    for node in nodes:\n",
    "        connection = (node, root_node)\n",
    "        impossible_connections.append(connection)\n",
    "\n",
    "blacklist = set(impossible_connections)"
   ]
  },
  {
   "cell_type": "code",
   "execution_count": 9,
   "metadata": {},
   "outputs": [],
   "source": [
    "def initialize_graph(nodes, p=1, blacklist=[]):\n",
    "    G = DAG()\n",
    "    G.add_nodes_from(nodes=nodes)\n",
    "    init = G.get_random(n_nodes=len(nodes), edge_prob=p)\n",
    "    ls = []\n",
    "    mapping = {k: nodes[k] for k in range(len(nodes))}\n",
    "    for i, j in init.edges:\n",
    "        edge = (mapping[i], mapping[j])\n",
    "        if edge not in blacklist:\n",
    "            ls.append(edge)\n",
    "    G.add_edges_from(ebunch=ls)\n",
    "    return G"
   ]
  },
  {
   "cell_type": "code",
   "execution_count": 10,
   "metadata": {},
   "outputs": [],
   "source": [
    "score_metric = BDeuScore(df_train)\n",
    "es = HillClimbSearch(df_train)"
   ]
  },
  {
   "cell_type": "code",
   "execution_count": 11,
   "metadata": {},
   "outputs": [
    {
     "data": {
      "application/vnd.jupyter.widget-view+json": {
       "model_id": "1e2f566ece6e40d98b835446927bd3bd",
       "version_major": 2,
       "version_minor": 0
      },
      "text/plain": [
       "  0%|          | 0/1000000 [00:00<?, ?it/s]"
      ]
     },
     "metadata": {},
     "output_type": "display_data"
    },
    {
     "name": "stdout",
     "output_type": "stream",
     "text": [
      "-31685.21677406304\n"
     ]
    },
    {
     "data": {
      "application/vnd.jupyter.widget-view+json": {
       "model_id": "9a23314dbc044d6c9a208fd9c5039037",
       "version_major": 2,
       "version_minor": 0
      },
      "text/plain": [
       "  0%|          | 0/1000000 [00:00<?, ?it/s]"
      ]
     },
     "metadata": {},
     "output_type": "display_data"
    },
    {
     "name": "stdout",
     "output_type": "stream",
     "text": [
      "-31556.04307310933\n"
     ]
    },
    {
     "data": {
      "application/vnd.jupyter.widget-view+json": {
       "model_id": "6fcce871a9c44492b92cdeacb7e64904",
       "version_major": 2,
       "version_minor": 0
      },
      "text/plain": [
       "  0%|          | 0/1000000 [00:00<?, ?it/s]"
      ]
     },
     "metadata": {},
     "output_type": "display_data"
    },
    {
     "name": "stdout",
     "output_type": "stream",
     "text": [
      "-31632.78549353079\n"
     ]
    },
    {
     "data": {
      "application/vnd.jupyter.widget-view+json": {
       "model_id": "dafb5058eb9842aba2630153e223cf2c",
       "version_major": 2,
       "version_minor": 0
      },
      "text/plain": [
       "  0%|          | 0/1000000 [00:00<?, ?it/s]"
      ]
     },
     "metadata": {},
     "output_type": "display_data"
    },
    {
     "name": "stdout",
     "output_type": "stream",
     "text": [
      "-31601.10400075266\n"
     ]
    },
    {
     "data": {
      "application/vnd.jupyter.widget-view+json": {
       "model_id": "f7ae343588444c4580a3a8202ed12032",
       "version_major": 2,
       "version_minor": 0
      },
      "text/plain": [
       "  0%|          | 0/1000000 [00:00<?, ?it/s]"
      ]
     },
     "metadata": {},
     "output_type": "display_data"
    },
    {
     "name": "stdout",
     "output_type": "stream",
     "text": [
      "-31597.211122492685\n"
     ]
    },
    {
     "data": {
      "application/vnd.jupyter.widget-view+json": {
       "model_id": "7b6a3ab7e525438aa631245f52044f90",
       "version_major": 2,
       "version_minor": 0
      },
      "text/plain": [
       "  0%|          | 0/1000000 [00:00<?, ?it/s]"
      ]
     },
     "metadata": {},
     "output_type": "display_data"
    },
    {
     "name": "stdout",
     "output_type": "stream",
     "text": [
      "-31728.089345115113\n"
     ]
    },
    {
     "data": {
      "application/vnd.jupyter.widget-view+json": {
       "model_id": "523a640431a241ffb7aeff633ef4ad64",
       "version_major": 2,
       "version_minor": 0
      },
      "text/plain": [
       "  0%|          | 0/1000000 [00:00<?, ?it/s]"
      ]
     },
     "metadata": {},
     "output_type": "display_data"
    },
    {
     "name": "stdout",
     "output_type": "stream",
     "text": [
      "-31756.596256820583\n"
     ]
    },
    {
     "data": {
      "application/vnd.jupyter.widget-view+json": {
       "model_id": "2de75c17ca824fe2b3c1321a1660cd1c",
       "version_major": 2,
       "version_minor": 0
      },
      "text/plain": [
       "  0%|          | 0/1000000 [00:00<?, ?it/s]"
      ]
     },
     "metadata": {},
     "output_type": "display_data"
    },
    {
     "name": "stdout",
     "output_type": "stream",
     "text": [
      "-31665.979470354425\n"
     ]
    },
    {
     "data": {
      "application/vnd.jupyter.widget-view+json": {
       "model_id": "ba05d572118742b18af17e038135a8d1",
       "version_major": 2,
       "version_minor": 0
      },
      "text/plain": [
       "  0%|          | 0/1000000 [00:00<?, ?it/s]"
      ]
     },
     "metadata": {},
     "output_type": "display_data"
    },
    {
     "name": "stdout",
     "output_type": "stream",
     "text": [
      "-31568.182185196576\n"
     ]
    },
    {
     "data": {
      "application/vnd.jupyter.widget-view+json": {
       "model_id": "d66ef6c61af440b6b3d86f0219ff0546",
       "version_major": 2,
       "version_minor": 0
      },
      "text/plain": [
       "  0%|          | 0/1000000 [00:00<?, ?it/s]"
      ]
     },
     "metadata": {},
     "output_type": "display_data"
    },
    {
     "name": "stdout",
     "output_type": "stream",
     "text": [
      "-31704.351765700332\n"
     ]
    },
    {
     "data": {
      "application/vnd.jupyter.widget-view+json": {
       "model_id": "9b817c55eee649f69f70200ce2e7d350",
       "version_major": 2,
       "version_minor": 0
      },
      "text/plain": [
       "  0%|          | 0/1000000 [00:00<?, ?it/s]"
      ]
     },
     "metadata": {},
     "output_type": "display_data"
    },
    {
     "name": "stdout",
     "output_type": "stream",
     "text": [
      "-31747.6305140227\n"
     ]
    },
    {
     "data": {
      "application/vnd.jupyter.widget-view+json": {
       "model_id": "40965401a0ed485b99dc3d0804994e06",
       "version_major": 2,
       "version_minor": 0
      },
      "text/plain": [
       "  0%|          | 0/1000000 [00:00<?, ?it/s]"
      ]
     },
     "metadata": {},
     "output_type": "display_data"
    },
    {
     "name": "stdout",
     "output_type": "stream",
     "text": [
      "-31623.145409276727\n"
     ]
    },
    {
     "data": {
      "application/vnd.jupyter.widget-view+json": {
       "model_id": "8e34456d32244fa8a0deae4d0b5dc794",
       "version_major": 2,
       "version_minor": 0
      },
      "text/plain": [
       "  0%|          | 0/1000000 [00:00<?, ?it/s]"
      ]
     },
     "metadata": {},
     "output_type": "display_data"
    },
    {
     "name": "stdout",
     "output_type": "stream",
     "text": [
      "-31723.270489113333\n"
     ]
    },
    {
     "data": {
      "application/vnd.jupyter.widget-view+json": {
       "model_id": "8a60a11f85c74b2f8079a0a8e6f79f0f",
       "version_major": 2,
       "version_minor": 0
      },
      "text/plain": [
       "  0%|          | 0/1000000 [00:00<?, ?it/s]"
      ]
     },
     "metadata": {},
     "output_type": "display_data"
    },
    {
     "name": "stdout",
     "output_type": "stream",
     "text": [
      "-31630.082953083565\n"
     ]
    },
    {
     "data": {
      "application/vnd.jupyter.widget-view+json": {
       "model_id": "ce5c9a02c0344c80b55dabe699cc440f",
       "version_major": 2,
       "version_minor": 0
      },
      "text/plain": [
       "  0%|          | 0/1000000 [00:00<?, ?it/s]"
      ]
     },
     "metadata": {},
     "output_type": "display_data"
    },
    {
     "name": "stdout",
     "output_type": "stream",
     "text": [
      "-31526.88310078816\n",
      "-31756.596256820583\n"
     ]
    }
   ],
   "source": [
    "rand_list = [random.randrange(3, 7) for _ in range(0,15)]\n",
    "rand_list = [x/10 for x in rand_list]\n",
    "best_eval = 0\n",
    "for x, y in zip(range(0,15), rand_list):\n",
    "    current_model = es.estimate(scoring_method=score_metric, black_list=blacklist, start_dag=initialize_graph(nodes=list(nodes), p=y, blacklist=blacklist))\n",
    "    curr_eval = score_metric.score(current_model)\n",
    "    print(curr_eval)\n",
    "    if curr_eval < best_eval:\n",
    "        best_eval = curr_eval\n",
    "        best_model = current_model\n",
    "\n",
    "print(best_eval)"
   ]
  },
  {
   "cell_type": "code",
   "execution_count": 12,
   "metadata": {},
   "outputs": [
    {
     "name": "stdout",
     "output_type": "stream",
     "text": [
      "[('EducationLevel', 'Depression'), ('Age', 'Hypertension'), ('Age', 'PhysicalActivity'), ('Age', 'BodyMassIndex'), ('Age', 'SmokerProfile'), ('Age', 'EducationLevel'), ('Age', 'Hypercholesterolemia'), ('Anxiety', 'SleepDuration'), ('Hypertension', 'Diabetes'), ('Hypertension', 'Hypercholesterolemia'), ('Hypertension', 'Anxiety'), ('PhysicalActivity', 'Depression'), ('PhysicalActivity', 'SmokerProfile'), ('SocioeconomicStatus', 'EducationLevel'), ('Hypercholesterolemia', 'SmokerProfile'), ('Diabetes', 'PhysicalActivity'), ('Diabetes', 'Hypercholesterolemia'), ('Depression', 'SleepDuration'), ('Sex', 'PhysicalActivity'), ('Sex', 'Anxiety'), ('SmokerProfile', 'BodyMassIndex'), ('BodyMassIndex', 'EducationLevel'), ('BodyMassIndex', 'SocioeconomicStatus')]\n"
     ]
    },
    {
     "data": {
      "image/png": "[encoded data removed]",
      "text/plain": [
       "<Figure size 800x800 with 1 Axes>"
      ]
     },
     "metadata": {},
     "output_type": "display_data"
    }
   ],
   "source": [
    "plt.figure(figsize=(8, 8))\n",
    "nx.draw(nx.DiGraph(best_model.edges()), with_labels=True)\n",
    "plt.draw()\n",
    "print(best_model.edges())"
   ]
  },
  {
   "cell_type": "markdown",
   "metadata": {},
   "source": [
    "## With SMOTE"
   ]
  },
  {
   "cell_type": "code",
   "execution_count": 13,
   "metadata": {},
   "outputs": [],
   "source": [
    "df_resampled = X_train_resampled\n",
    "df_resampled['Diabetes'] = y_resampled"
   ]
  },
  {
   "cell_type": "code",
   "execution_count": 14,
   "metadata": {},
   "outputs": [
    {
     "data": {
      "text/html": [
       "<div>\n",
       "<style scoped>\n",
       "    .dataframe tbody tr th:only-of-type {\n",
       "        vertical-align: middle;\n",
       "    }\n",
       "\n",
       "    .dataframe tbody tr th {\n",
       "        vertical-align: top;\n",
       "    }\n",
       "\n",
       "    .dataframe thead th {\n",
       "        text-align: right;\n",
       "    }\n",
       "</style>\n",
       "<table border=\"1\" class=\"dataframe\">\n",
       "  <thead>\n",
       "    <tr style=\"text-align: right;\">\n",
       "      <th></th>\n",
       "      <th>Age</th>\n",
       "      <th>Anxiety</th>\n",
       "      <th>BodyMassIndex</th>\n",
       "      <th>Depression</th>\n",
       "      <th>EducationLevel</th>\n",
       "      <th>Hypercholesterolemia</th>\n",
       "      <th>Hypertension</th>\n",
       "      <th>PhysicalActivity</th>\n",
       "      <th>Sex</th>\n",
       "      <th>SleepDuration</th>\n",
       "      <th>SmokerProfile</th>\n",
       "      <th>SocioeconomicStatus</th>\n",
       "      <th>Diabetes</th>\n",
       "    </tr>\n",
       "  </thead>\n",
       "  <tbody>\n",
       "    <tr>\n",
       "      <th>0</th>\n",
       "      <td>54-64</td>\n",
       "      <td>No</td>\n",
       "      <td>Overweight</td>\n",
       "      <td>No</td>\n",
       "      <td>2</td>\n",
       "      <td>No</td>\n",
       "      <td>No</td>\n",
       "      <td>Regularly Active</td>\n",
       "      <td>Male</td>\n",
       "      <td>6-9hours</td>\n",
       "      <td>Smoker</td>\n",
       "      <td>3</td>\n",
       "      <td>No</td>\n",
       "    </tr>\n",
       "    <tr>\n",
       "      <th>1</th>\n",
       "      <td>24-34</td>\n",
       "      <td>No</td>\n",
       "      <td>Obese</td>\n",
       "      <td>No</td>\n",
       "      <td>3</td>\n",
       "      <td>Yes</td>\n",
       "      <td>No</td>\n",
       "      <td>Regularly Active</td>\n",
       "      <td>Female</td>\n",
       "      <td>6-9hours</td>\n",
       "      <td>Non_Smoker</td>\n",
       "      <td>3</td>\n",
       "      <td>No</td>\n",
       "    </tr>\n",
       "    <tr>\n",
       "      <th>2</th>\n",
       "      <td>24-34</td>\n",
       "      <td>No</td>\n",
       "      <td>Overweight</td>\n",
       "      <td>No</td>\n",
       "      <td>2</td>\n",
       "      <td>No</td>\n",
       "      <td>No</td>\n",
       "      <td>Insufficiently Active</td>\n",
       "      <td>Male</td>\n",
       "      <td>6-9hours</td>\n",
       "      <td>Non_Smoker</td>\n",
       "      <td>1</td>\n",
       "      <td>No</td>\n",
       "    </tr>\n",
       "    <tr>\n",
       "      <th>3</th>\n",
       "      <td>34-44</td>\n",
       "      <td>No</td>\n",
       "      <td>Overweight</td>\n",
       "      <td>No</td>\n",
       "      <td>2</td>\n",
       "      <td>Yes</td>\n",
       "      <td>Yes</td>\n",
       "      <td>Regularly Active</td>\n",
       "      <td>Male</td>\n",
       "      <td>&lt;6hours</td>\n",
       "      <td>Non_Smoker</td>\n",
       "      <td>3</td>\n",
       "      <td>No</td>\n",
       "    </tr>\n",
       "    <tr>\n",
       "      <th>4</th>\n",
       "      <td>44-54</td>\n",
       "      <td>No</td>\n",
       "      <td>Overweight</td>\n",
       "      <td>No</td>\n",
       "      <td>2</td>\n",
       "      <td>No</td>\n",
       "      <td>Yes</td>\n",
       "      <td>Regularly Active</td>\n",
       "      <td>Female</td>\n",
       "      <td>6-9hours</td>\n",
       "      <td>Smoker</td>\n",
       "      <td>3</td>\n",
       "      <td>Yes</td>\n",
       "    </tr>\n",
       "  </tbody>\n",
       "</table>\n",
       "</div>"
      ],
      "text/plain": [
       "     Age Anxiety BodyMassIndex Depression  EducationLevel  \\\n",
       "0  54-64      No    Overweight         No               2   \n",
       "1  24-34      No         Obese         No               3   \n",
       "2  24-34      No    Overweight         No               2   \n",
       "3  34-44      No    Overweight         No               2   \n",
       "4  44-54      No    Overweight         No               2   \n",
       "\n",
       "  Hypercholesterolemia Hypertension       PhysicalActivity     Sex  \\\n",
       "0                   No           No       Regularly Active    Male   \n",
       "1                  Yes           No       Regularly Active  Female   \n",
       "2                   No           No  Insufficiently Active    Male   \n",
       "3                  Yes          Yes       Regularly Active    Male   \n",
       "4                   No          Yes       Regularly Active  Female   \n",
       "\n",
       "  SleepDuration SmokerProfile  SocioeconomicStatus Diabetes  \n",
       "0      6-9hours        Smoker                    3       No  \n",
       "1      6-9hours    Non_Smoker                    3       No  \n",
       "2      6-9hours    Non_Smoker                    1       No  \n",
       "3       <6hours    Non_Smoker                    3       No  \n",
       "4      6-9hours        Smoker                    3      Yes  "
      ]
     },
     "execution_count": 14,
     "metadata": {},
     "output_type": "execute_result"
    }
   ],
   "source": [
    "df_resampled.head()"
   ]
  },
  {
   "cell_type": "code",
   "execution_count": 15,
   "metadata": {},
   "outputs": [],
   "source": [
    "score_metric = BDeuScore(df_resampled)\n",
    "es = HillClimbSearch(df_resampled)"
   ]
  },
  {
   "cell_type": "code",
   "execution_count": 16,
   "metadata": {},
   "outputs": [
    {
     "data": {
      "application/vnd.jupyter.widget-view+json": {
       "model_id": "1dd352ff9e164cc195551519e87d36c7",
       "version_major": 2,
       "version_minor": 0
      },
      "text/plain": [
       "  0%|          | 0/1000000 [00:00<?, ?it/s]"
      ]
     },
     "metadata": {},
     "output_type": "display_data"
    },
    {
     "name": "stdout",
     "output_type": "stream",
     "text": [
      "-40303.11569273071\n"
     ]
    },
    {
     "data": {
      "application/vnd.jupyter.widget-view+json": {
       "model_id": "d51dc3715a5548bcb4726764c2b3bc47",
       "version_major": 2,
       "version_minor": 0
      },
      "text/plain": [
       "  0%|          | 0/1000000 [00:00<?, ?it/s]"
      ]
     },
     "metadata": {},
     "output_type": "display_data"
    },
    {
     "name": "stdout",
     "output_type": "stream",
     "text": [
      "-40355.86555311678\n"
     ]
    },
    {
     "data": {
      "application/vnd.jupyter.widget-view+json": {
       "model_id": "f0b667c2b5bb42fbbc1f22db3808b856",
       "version_major": 2,
       "version_minor": 0
      },
      "text/plain": [
       "  0%|          | 0/1000000 [00:00<?, ?it/s]"
      ]
     },
     "metadata": {},
     "output_type": "display_data"
    },
    {
     "name": "stdout",
     "output_type": "stream",
     "text": [
      "-40341.06138478526\n"
     ]
    },
    {
     "data": {
      "application/vnd.jupyter.widget-view+json": {
       "model_id": "036e298d721740ad89b7e6c018f612b8",
       "version_major": 2,
       "version_minor": 0
      },
      "text/plain": [
       "  0%|          | 0/1000000 [00:00<?, ?it/s]"
      ]
     },
     "metadata": {},
     "output_type": "display_data"
    },
    {
     "name": "stdout",
     "output_type": "stream",
     "text": [
      "-40330.31447596423\n"
     ]
    },
    {
     "data": {
      "application/vnd.jupyter.widget-view+json": {
       "model_id": "5a14e8d6d28a4a16a0936311c765b41f",
       "version_major": 2,
       "version_minor": 0
      },
      "text/plain": [
       "  0%|          | 0/1000000 [00:00<?, ?it/s]"
      ]
     },
     "metadata": {},
     "output_type": "display_data"
    },
    {
     "name": "stdout",
     "output_type": "stream",
     "text": [
      "-40419.32989074171\n"
     ]
    },
    {
     "data": {
      "application/vnd.jupyter.widget-view+json": {
       "model_id": "bdc7bc60561344309e04e8c32901371c",
       "version_major": 2,
       "version_minor": 0
      },
      "text/plain": [
       "  0%|          | 0/1000000 [00:00<?, ?it/s]"
      ]
     },
     "metadata": {},
     "output_type": "display_data"
    },
    {
     "name": "stdout",
     "output_type": "stream",
     "text": [
      "-40342.97019736098\n"
     ]
    },
    {
     "data": {
      "application/vnd.jupyter.widget-view+json": {
       "model_id": "d2d1da61b1864c849336fffc49d6e2e6",
       "version_major": 2,
       "version_minor": 0
      },
      "text/plain": [
       "  0%|          | 0/1000000 [00:00<?, ?it/s]"
      ]
     },
     "metadata": {},
     "output_type": "display_data"
    },
    {
     "name": "stdout",
     "output_type": "stream",
     "text": [
      "-40342.970197360984\n"
     ]
    },
    {
     "data": {
      "application/vnd.jupyter.widget-view+json": {
       "model_id": "d7ca55cf7a604e6580b1a11b927b66fd",
       "version_major": 2,
       "version_minor": 0
      },
      "text/plain": [
       "  0%|          | 0/1000000 [00:00<?, ?it/s]"
      ]
     },
     "metadata": {},
     "output_type": "display_data"
    },
    {
     "name": "stdout",
     "output_type": "stream",
     "text": [
      "-40558.47490159757\n"
     ]
    },
    {
     "data": {
      "application/vnd.jupyter.widget-view+json": {
       "model_id": "e4a8077023bb4393b9f32e2f311876a2",
       "version_major": 2,
       "version_minor": 0
      },
      "text/plain": [
       "  0%|          | 0/1000000 [00:00<?, ?it/s]"
      ]
     },
     "metadata": {},
     "output_type": "display_data"
    },
    {
     "name": "stdout",
     "output_type": "stream",
     "text": [
      "-40337.07946791137\n"
     ]
    },
    {
     "data": {
      "application/vnd.jupyter.widget-view+json": {
       "model_id": "66a714d793024b6fb1c08217a3e121f6",
       "version_major": 2,
       "version_minor": 0
      },
      "text/plain": [
       "  0%|          | 0/1000000 [00:00<?, ?it/s]"
      ]
     },
     "metadata": {},
     "output_type": "display_data"
    },
    {
     "name": "stdout",
     "output_type": "stream",
     "text": [
      "-40315.86085847027\n"
     ]
    },
    {
     "data": {
      "application/vnd.jupyter.widget-view+json": {
       "model_id": "422cb5828e534b18ba36eec47f165e81",
       "version_major": 2,
       "version_minor": 0
      },
      "text/plain": [
       "  0%|          | 0/1000000 [00:00<?, ?it/s]"
      ]
     },
     "metadata": {},
     "output_type": "display_data"
    },
    {
     "name": "stdout",
     "output_type": "stream",
     "text": [
      "-40371.970985829284\n"
     ]
    },
    {
     "data": {
      "application/vnd.jupyter.widget-view+json": {
       "model_id": "8feb245872aa417ca60b4430fb758f83",
       "version_major": 2,
       "version_minor": 0
      },
      "text/plain": [
       "  0%|          | 0/1000000 [00:00<?, ?it/s]"
      ]
     },
     "metadata": {},
     "output_type": "display_data"
    },
    {
     "name": "stdout",
     "output_type": "stream",
     "text": [
      "-40645.06413497603\n"
     ]
    },
    {
     "data": {
      "application/vnd.jupyter.widget-view+json": {
       "model_id": "7c2db5ba138848e28ddc363d8047bde4",
       "version_major": 2,
       "version_minor": 0
      },
      "text/plain": [
       "  0%|          | 0/1000000 [00:00<?, ?it/s]"
      ]
     },
     "metadata": {},
     "output_type": "display_data"
    },
    {
     "name": "stdout",
     "output_type": "stream",
     "text": [
      "-40826.75783574755\n"
     ]
    },
    {
     "data": {
      "application/vnd.jupyter.widget-view+json": {
       "model_id": "783ca07d409a43269b9215c387eed11c",
       "version_major": 2,
       "version_minor": 0
      },
      "text/plain": [
       "  0%|          | 0/1000000 [00:00<?, ?it/s]"
      ]
     },
     "metadata": {},
     "output_type": "display_data"
    },
    {
     "name": "stdout",
     "output_type": "stream",
     "text": [
      "-40265.229506621916\n"
     ]
    },
    {
     "data": {
      "application/vnd.jupyter.widget-view+json": {
       "model_id": "39ae996f6ff3440f841101ff272eb060",
       "version_major": 2,
       "version_minor": 0
      },
      "text/plain": [
       "  0%|          | 0/1000000 [00:00<?, ?it/s]"
      ]
     },
     "metadata": {},
     "output_type": "display_data"
    },
    {
     "name": "stdout",
     "output_type": "stream",
     "text": [
      "-40348.4581075119\n",
      "-40826.75783574755\n"
     ]
    }
   ],
   "source": [
    "best_eval_balanced = 0\n",
    "for x, y in zip(range(0,15), rand_list):\n",
    "    current_balanced_model = es.estimate(scoring_method=score_metric, black_list=blacklist, start_dag=initialize_graph(nodes=list(nodes), p=y, blacklist=blacklist))\n",
    "    curr_balanced_eval = score_metric.score(current_balanced_model)\n",
    "    print(curr_balanced_eval)\n",
    "    if curr_balanced_eval < best_eval_balanced:\n",
    "        best_eval_balanced = curr_balanced_eval\n",
    "        best_balanced_model = current_balanced_model\n",
    "\n",
    "print(best_eval_balanced)"
   ]
  },
  {
   "cell_type": "code",
   "execution_count": 17,
   "metadata": {},
   "outputs": [
    {
     "name": "stdout",
     "output_type": "stream",
     "text": [
      "[('EducationLevel', 'Hypertension'), ('EducationLevel', 'Diabetes'), ('EducationLevel', 'Depression'), ('EducationLevel', 'Anxiety'), ('Age', 'Anxiety'), ('Age', 'PhysicalActivity'), ('Age', 'Hypercholesterolemia'), ('Age', 'EducationLevel'), ('Anxiety', 'Hypertension'), ('Anxiety', 'Depression'), ('Anxiety', 'SleepDuration'), ('Anxiety', 'Diabetes'), ('Hypertension', 'SocioeconomicStatus'), ('Hypertension', 'Depression'), ('Hypertension', 'Diabetes'), ('Hypertension', 'BodyMassIndex'), ('Hypertension', 'Hypercholesterolemia'), ('PhysicalActivity', 'BodyMassIndex'), ('PhysicalActivity', 'SmokerProfile'), ('Diabetes', 'SleepDuration'), ('Diabetes', 'SmokerProfile'), ('Diabetes', 'BodyMassIndex'), ('Diabetes', 'PhysicalActivity'), ('Depression', 'SleepDuration'), ('Depression', 'Diabetes'), ('Sex', 'PhysicalActivity'), ('BodyMassIndex', 'SmokerProfile')]\n"
     ]
    },
    {
     "data": {
      "image/png": "[encoded data removed]",
      "text/plain": [
       "<Figure size 800x800 with 1 Axes>"
      ]
     },
     "metadata": {},
     "output_type": "display_data"
    }
   ],
   "source": [
    "plt.figure(figsize=(8, 8))\n",
    "nx.draw(nx.DiGraph(best_balanced_model.edges()), with_labels=True)\n",
    "plt.draw()\n",
    "print(best_balanced_model.edges())"
   ]
  },
  {
   "cell_type": "markdown",
   "metadata": {},
   "source": [
    "# Paramether Learning - Using the DAG to get the BPDs"
   ]
  },
  {
   "cell_type": "markdown",
   "metadata": {},
   "source": [
    "### No SMOTE"
   ]
  },
  {
   "cell_type": "code",
   "execution_count": 18,
   "metadata": {},
   "outputs": [],
   "source": [
    "bm = BayesianNetwork()\n",
    "bm.add_nodes_from(nodes)\n",
    "bm.add_edges_from(best_model.edges)"
   ]
  },
  {
   "cell_type": "code",
   "execution_count": 19,
   "metadata": {},
   "outputs": [],
   "source": [
    "bm.fit(df_train, estimator=BayesianEstimator, prior_type='dirichlet', pseudo_counts=1)"
   ]
  },
  {
   "cell_type": "code",
   "execution_count": 20,
   "metadata": {},
   "outputs": [
    {
     "name": "stdout",
     "output_type": "stream",
     "text": [
      "+---------------------+------------------------+------------------------+------------------------+------------------------+------------------------+------------------------+---------------------------+---------------------------+---------------------------+----------------------------+----------------------------+----------------------------+------------------------+------------------------+------------------------+------------------------+------------------------+------------------------+---------------------------+---------------------------+---------------------------+----------------------------+----------------------------+----------------------------+------------------------+------------------------+------------------------+------------------------+------------------------+------------------------+---------------------------+---------------------------+---------------------------+----------------------------+----------------------------+----------------------------+------------------------+------------------------+------------------------+------------------------+------------------------+------------------------+---------------------------+---------------------------+---------------------------+----------------------------+----------------------------+----------------------------+------------------------+------------------------+------------------------+------------------------+------------------------+------------------------+---------------------------+---------------------------+---------------------------+----------------------------+----------------------------+----------------------------+------------------------+------------------------+------------------------+------------------------+------------------------+------------------------+---------------------------+---------------------------+---------------------------+----------------------------+----------------------------+----------------------------+\n",
      "| Age                 | Age(18-24)             | Age(18-24)             | Age(18-24)             | Age(18-24)             | Age(18-24)             | Age(18-24)             | Age(18-24)                | Age(18-24)                | Age(18-24)                | Age(18-24)                 | Age(18-24)                 | Age(18-24)                 | Age(24-34)             | Age(24-34)             | Age(24-34)             | Age(24-34)             | Age(24-34)             | Age(24-34)             | Age(24-34)                | Age(24-34)                | Age(24-34)                | Age(24-34)                 | Age(24-34)                 | Age(24-34)                 | Age(34-44)             | Age(34-44)             | Age(34-44)             | Age(34-44)             | Age(34-44)             | Age(34-44)             | Age(34-44)                | Age(34-44)                | Age(34-44)                | Age(34-44)                 | Age(34-44)                 | Age(34-44)                 | Age(44-54)             | Age(44-54)             | Age(44-54)             | Age(44-54)             | Age(44-54)             | Age(44-54)             | Age(44-54)                | Age(44-54)                | Age(44-54)                | Age(44-54)                 | Age(44-54)                 | Age(44-54)                 | Age(54-64)             | Age(54-64)             | Age(54-64)             | Age(54-64)             | Age(54-64)             | Age(54-64)             | Age(54-64)                | Age(54-64)                | Age(54-64)                | Age(54-64)                 | Age(54-64)                 | Age(54-64)                 | Age(64-74)             | Age(64-74)             | Age(64-74)             | Age(64-74)             | Age(64-74)             | Age(64-74)             | Age(64-74)                | Age(64-74)                | Age(64-74)                | Age(64-74)                 | Age(64-74)                 | Age(64-74)                 |\n",
      "+---------------------+------------------------+------------------------+------------------------+------------------------+------------------------+------------------------+---------------------------+---------------------------+---------------------------+----------------------------+----------------------------+----------------------------+------------------------+------------------------+------------------------+------------------------+------------------------+------------------------+---------------------------+---------------------------+---------------------------+----------------------------+----------------------------+----------------------------+------------------------+------------------------+------------------------+------------------------+------------------------+------------------------+---------------------------+---------------------------+---------------------------+----------------------------+----------------------------+----------------------------+------------------------+------------------------+------------------------+------------------------+------------------------+------------------------+---------------------------+---------------------------+---------------------------+----------------------------+----------------------------+----------------------------+------------------------+------------------------+------------------------+------------------------+------------------------+------------------------+---------------------------+---------------------------+---------------------------+----------------------------+----------------------------+----------------------------+------------------------+------------------------+------------------------+------------------------+------------------------+------------------------+---------------------------+---------------------------+---------------------------+----------------------------+----------------------------+----------------------------+\n",
      "| BodyMassIndex       | BodyMassIndex(Normal)  | BodyMassIndex(Normal)  | BodyMassIndex(Normal)  | BodyMassIndex(Obese)   | BodyMassIndex(Obese)   | BodyMassIndex(Obese)   | BodyMassIndex(Overweight) | BodyMassIndex(Overweight) | BodyMassIndex(Overweight) | BodyMassIndex(Underweight) | BodyMassIndex(Underweight) | BodyMassIndex(Underweight) | BodyMassIndex(Normal)  | BodyMassIndex(Normal)  | BodyMassIndex(Normal)  | BodyMassIndex(Obese)   | BodyMassIndex(Obese)   | BodyMassIndex(Obese)   | BodyMassIndex(Overweight) | BodyMassIndex(Overweight) | BodyMassIndex(Overweight) | BodyMassIndex(Underweight) | BodyMassIndex(Underweight) | BodyMassIndex(Underweight) | BodyMassIndex(Normal)  | BodyMassIndex(Normal)  | BodyMassIndex(Normal)  | BodyMassIndex(Obese)   | BodyMassIndex(Obese)   | BodyMassIndex(Obese)   | BodyMassIndex(Overweight) | BodyMassIndex(Overweight) | BodyMassIndex(Overweight) | BodyMassIndex(Underweight) | BodyMassIndex(Underweight) | BodyMassIndex(Underweight) | BodyMassIndex(Normal)  | BodyMassIndex(Normal)  | BodyMassIndex(Normal)  | BodyMassIndex(Obese)   | BodyMassIndex(Obese)   | BodyMassIndex(Obese)   | BodyMassIndex(Overweight) | BodyMassIndex(Overweight) | BodyMassIndex(Overweight) | BodyMassIndex(Underweight) | BodyMassIndex(Underweight) | BodyMassIndex(Underweight) | BodyMassIndex(Normal)  | BodyMassIndex(Normal)  | BodyMassIndex(Normal)  | BodyMassIndex(Obese)   | BodyMassIndex(Obese)   | BodyMassIndex(Obese)   | BodyMassIndex(Overweight) | BodyMassIndex(Overweight) | BodyMassIndex(Overweight) | BodyMassIndex(Underweight) | BodyMassIndex(Underweight) | BodyMassIndex(Underweight) | BodyMassIndex(Normal)  | BodyMassIndex(Normal)  | BodyMassIndex(Normal)  | BodyMassIndex(Obese)   | BodyMassIndex(Obese)   | BodyMassIndex(Obese)   | BodyMassIndex(Overweight) | BodyMassIndex(Overweight) | BodyMassIndex(Overweight) | BodyMassIndex(Underweight) | BodyMassIndex(Underweight) | BodyMassIndex(Underweight) |\n",
      "+---------------------+------------------------+------------------------+------------------------+------------------------+------------------------+------------------------+---------------------------+---------------------------+---------------------------+----------------------------+----------------------------+----------------------------+------------------------+------------------------+------------------------+------------------------+------------------------+------------------------+---------------------------+---------------------------+---------------------------+----------------------------+----------------------------+----------------------------+------------------------+------------------------+------------------------+------------------------+------------------------+------------------------+---------------------------+---------------------------+---------------------------+----------------------------+----------------------------+----------------------------+------------------------+------------------------+------------------------+------------------------+------------------------+------------------------+---------------------------+---------------------------+---------------------------+----------------------------+----------------------------+----------------------------+------------------------+------------------------+------------------------+------------------------+------------------------+------------------------+---------------------------+---------------------------+---------------------------+----------------------------+----------------------------+----------------------------+------------------------+------------------------+------------------------+------------------------+------------------------+------------------------+---------------------------+---------------------------+---------------------------+----------------------------+----------------------------+----------------------------+\n",
      "| SocioeconomicStatus | SocioeconomicStatus(1) | SocioeconomicStatus(2) | SocioeconomicStatus(3) | SocioeconomicStatus(1) | SocioeconomicStatus(2) | SocioeconomicStatus(3) | SocioeconomicStatus(1)    | SocioeconomicStatus(2)    | SocioeconomicStatus(3)    | SocioeconomicStatus(1)     | SocioeconomicStatus(2)     | SocioeconomicStatus(3)     | SocioeconomicStatus(1) | SocioeconomicStatus(2) | SocioeconomicStatus(3) | SocioeconomicStatus(1) | SocioeconomicStatus(2) | SocioeconomicStatus(3) | SocioeconomicStatus(1)    | SocioeconomicStatus(2)    | SocioeconomicStatus(3)    | SocioeconomicStatus(1)     | SocioeconomicStatus(2)     | SocioeconomicStatus(3)     | SocioeconomicStatus(1) | SocioeconomicStatus(2) | SocioeconomicStatus(3) | SocioeconomicStatus(1) | SocioeconomicStatus(2) | SocioeconomicStatus(3) | SocioeconomicStatus(1)    | SocioeconomicStatus(2)    | SocioeconomicStatus(3)    | SocioeconomicStatus(1)     | SocioeconomicStatus(2)     | SocioeconomicStatus(3)     | SocioeconomicStatus(1) | SocioeconomicStatus(2) | SocioeconomicStatus(3) | SocioeconomicStatus(1) | SocioeconomicStatus(2) | SocioeconomicStatus(3) | SocioeconomicStatus(1)    | SocioeconomicStatus(2)    | SocioeconomicStatus(3)    | SocioeconomicStatus(1)     | SocioeconomicStatus(2)     | SocioeconomicStatus(3)     | SocioeconomicStatus(1) | SocioeconomicStatus(2) | SocioeconomicStatus(3) | SocioeconomicStatus(1) | SocioeconomicStatus(2) | SocioeconomicStatus(3) | SocioeconomicStatus(1)    | SocioeconomicStatus(2)    | SocioeconomicStatus(3)    | SocioeconomicStatus(1)     | SocioeconomicStatus(2)     | SocioeconomicStatus(3)     | SocioeconomicStatus(1) | SocioeconomicStatus(2) | SocioeconomicStatus(3) | SocioeconomicStatus(1) | SocioeconomicStatus(2) | SocioeconomicStatus(3) | SocioeconomicStatus(1)    | SocioeconomicStatus(2)    | SocioeconomicStatus(3)    | SocioeconomicStatus(1)     | SocioeconomicStatus(2)     | SocioeconomicStatus(3)     |\n",
      "+---------------------+------------------------+------------------------+------------------------+------------------------+------------------------+------------------------+---------------------------+---------------------------+---------------------------+----------------------------+----------------------------+----------------------------+------------------------+------------------------+------------------------+------------------------+------------------------+------------------------+---------------------------+---------------------------+---------------------------+----------------------------+----------------------------+----------------------------+------------------------+------------------------+------------------------+------------------------+------------------------+------------------------+---------------------------+---------------------------+---------------------------+----------------------------+----------------------------+----------------------------+------------------------+------------------------+------------------------+------------------------+------------------------+------------------------+---------------------------+---------------------------+---------------------------+----------------------------+----------------------------+----------------------------+------------------------+------------------------+------------------------+------------------------+------------------------+------------------------+---------------------------+---------------------------+---------------------------+----------------------------+----------------------------+----------------------------+------------------------+------------------------+------------------------+------------------------+------------------------+------------------------+---------------------------+---------------------------+---------------------------+----------------------------+----------------------------+----------------------------+\n",
      "| EducationLevel(1)   | 0.16666666666666666    | 0.16666666666666666    | 0.2                    | 0.3333333333333333     | 0.125                  | 0.2                    | 0.2                       | 0.125                     | 0.125                     | 0.25                       | 0.3333333333333333         | 0.3333333333333333         | 0.02702702702702703    | 0.022222222222222223   | 0.008064516129032258   | 0.014705882352941176   | 0.009900990099009901   | 0.017241379310344827   | 0.016129032258064516      | 0.0196078431372549        | 0.007751937984496124      | 0.14285714285714285        | 0.2                        | 0.25                       | 0.01764705882352941    | 0.0125                 | 0.012658227848101266   | 0.005555555555555556   | 0.00909090909090909    | 0.010362694300518135   | 0.0072992700729927005     | 0.004132231404958678      | 0.0056179775280898875     | 0.07692307692307693        | 0.038461538461538464       | 0.02564102564102564        | 0.009345794392523364   | 0.005405405405405406   | 0.005405405405405406   | 0.016129032258064516   | 0.021739130434782608   | 0.014925373134328358   | 0.010638297872340425      | 0.01                      | 0.008849557522123894      | 0.2                        | 0.2                        | 0.125                      | 0.015151515151515152   | 0.013513513513513514   | 0.009174311926605505   | 0.025                  | 0.03225806451612903    | 0.02564102564102564    | 0.013888888888888888      | 0.014084507042253521      | 0.008928571428571428      | 0.14285714285714285        | 0.25                       | 0.2                        | 0.3333333333333333     | 0.2                    | 0.2                    | 0.25                   | 0.25                   | 0.3333333333333333     | 0.25                      | 0.2                       | 0.3333333333333333        | 0.3333333333333333         | 0.3333333333333333         | 0.3333333333333333         |\n",
      "+---------------------+------------------------+------------------------+------------------------+------------------------+------------------------+------------------------+---------------------------+---------------------------+---------------------------+----------------------------+----------------------------+----------------------------+------------------------+------------------------+------------------------+------------------------+------------------------+------------------------+---------------------------+---------------------------+---------------------------+----------------------------+----------------------------+----------------------------+------------------------+------------------------+------------------------+------------------------+------------------------+------------------------+---------------------------+---------------------------+---------------------------+----------------------------+----------------------------+----------------------------+------------------------+------------------------+------------------------+------------------------+------------------------+------------------------+---------------------------+---------------------------+---------------------------+----------------------------+----------------------------+----------------------------+------------------------+------------------------+------------------------+------------------------+------------------------+------------------------+---------------------------+---------------------------+---------------------------+----------------------------+----------------------------+----------------------------+------------------------+------------------------+------------------------+------------------------+------------------------+------------------------+---------------------------+---------------------------+---------------------------+----------------------------+----------------------------+----------------------------+\n",
      "| EducationLevel(2)   | 0.6666666666666666     | 0.5                    | 0.6                    | 0.3333333333333333     | 0.625                  | 0.6                    | 0.6                       | 0.625                     | 0.625                     | 0.5                        | 0.3333333333333333         | 0.3333333333333333         | 0.5945945945945946     | 0.6                    | 0.9193548387096774     | 0.7794117647058824     | 0.8217821782178217     | 0.6206896551724138     | 0.4838709677419355        | 0.7254901960784313        | 0.8294573643410853        | 0.5714285714285714         | 0.4                        | 0.25                       | 0.8764705882352941     | 0.6875                 | 0.5063291139240507     | 0.42777777777777776    | 0.8636363636363636     | 0.8963730569948186     | 0.8102189781021898        | 0.756198347107438         | 0.6292134831460674        | 0.38461538461538464        | 0.7307692307692307         | 0.8461538461538461         | 0.8878504672897196     | 0.8378378378378378     | 0.5135135135135135     | 0.5806451612903226     | 0.6521739130434783     | 0.835820895522388      | 0.7127659574468085        | 0.86                      | 0.6902654867256637        | 0.6                        | 0.6                        | 0.75                       | 0.5151515151515151     | 0.8648648648648649     | 0.8623853211009175     | 0.8                    | 0.7419354838709677     | 0.6410256410256411     | 0.5                       | 0.8169014084507042        | 0.8839285714285714        | 0.7142857142857143         | 0.25                       | 0.4                        | 0.3333333333333333     | 0.4                    | 0.6                    | 0.5                    | 0.25                   | 0.3333333333333333     | 0.5                       | 0.4                       | 0.3333333333333333        | 0.3333333333333333         | 0.3333333333333333         | 0.3333333333333333         |\n",
      "+---------------------+------------------------+------------------------+------------------------+------------------------+------------------------+------------------------+---------------------------+---------------------------+---------------------------+----------------------------+----------------------------+----------------------------+------------------------+------------------------+------------------------+------------------------+------------------------+------------------------+---------------------------+---------------------------+---------------------------+----------------------------+----------------------------+----------------------------+------------------------+------------------------+------------------------+------------------------+------------------------+------------------------+---------------------------+---------------------------+---------------------------+----------------------------+----------------------------+----------------------------+------------------------+------------------------+------------------------+------------------------+------------------------+------------------------+---------------------------+---------------------------+---------------------------+----------------------------+----------------------------+----------------------------+------------------------+------------------------+------------------------+------------------------+------------------------+------------------------+---------------------------+---------------------------+---------------------------+----------------------------+----------------------------+----------------------------+------------------------+------------------------+------------------------+------------------------+------------------------+------------------------+---------------------------+---------------------------+---------------------------+----------------------------+----------------------------+----------------------------+\n",
      "| EducationLevel(3)   | 0.16666666666666666    | 0.3333333333333333     | 0.2                    | 0.3333333333333333     | 0.25                   | 0.2                    | 0.2                       | 0.25                      | 0.25                      | 0.25                       | 0.3333333333333333         | 0.3333333333333333         | 0.3783783783783784     | 0.37777777777777777    | 0.07258064516129033    | 0.20588235294117646    | 0.16831683168316833    | 0.3620689655172414     | 0.5                       | 0.2549019607843137        | 0.16279069767441862       | 0.2857142857142857         | 0.4                        | 0.5                        | 0.10588235294117647    | 0.3                    | 0.4810126582278481     | 0.5666666666666667     | 0.12727272727272726    | 0.09326424870466321    | 0.18248175182481752       | 0.2396694214876033        | 0.3651685393258427        | 0.5384615384615384         | 0.23076923076923078        | 0.1282051282051282         | 0.102803738317757      | 0.15675675675675677    | 0.4810810810810811     | 0.4032258064516129     | 0.32608695652173914    | 0.14925373134328357    | 0.2765957446808511        | 0.13                      | 0.3008849557522124        | 0.2                        | 0.2                        | 0.125                      | 0.4696969696969697     | 0.12162162162162163    | 0.12844036697247707    | 0.175                  | 0.22580645161290322    | 0.3333333333333333     | 0.4861111111111111        | 0.16901408450704225       | 0.10714285714285714       | 0.14285714285714285        | 0.5                        | 0.4                        | 0.3333333333333333     | 0.4                    | 0.2                    | 0.25                   | 0.5                    | 0.3333333333333333     | 0.25                      | 0.4                       | 0.3333333333333333        | 0.3333333333333333         | 0.3333333333333333         | 0.3333333333333333         |\n",
      "+---------------------+------------------------+------------------------+------------------------+------------------------+------------------------+------------------------+---------------------------+---------------------------+---------------------------+----------------------------+----------------------------+----------------------------+------------------------+------------------------+------------------------+------------------------+------------------------+------------------------+---------------------------+---------------------------+---------------------------+----------------------------+----------------------------+----------------------------+------------------------+------------------------+------------------------+------------------------+------------------------+------------------------+---------------------------+---------------------------+---------------------------+----------------------------+----------------------------+----------------------------+------------------------+------------------------+------------------------+------------------------+------------------------+------------------------+---------------------------+---------------------------+---------------------------+----------------------------+----------------------------+----------------------------+------------------------+------------------------+------------------------+------------------------+------------------------+------------------------+---------------------------+---------------------------+---------------------------+----------------------------+----------------------------+----------------------------+------------------------+------------------------+------------------------+------------------------+------------------------+------------------------+---------------------------+---------------------------+---------------------------+----------------------------+----------------------------+----------------------------+\n",
      "+------------+------------+\n",
      "| Age(18-24) | 0.00753051 |\n",
      "+------------+------------+\n",
      "| Age(24-34) | 0.170345   |\n",
      "+------------+------------+\n",
      "| Age(34-44) | 0.366658   |\n",
      "+------------+------------+\n",
      "| Age(44-54) | 0.298364   |\n",
      "+------------+------------+\n",
      "| Age(54-64) | 0.154505   |\n",
      "+------------+------------+\n",
      "| Age(64-74) | 0.00259673 |\n",
      "+------------+------------+\n",
      "+--------------+---------------------+---------------------+---------------------+--------------------+\n",
      "| Hypertension | Hypertension(No)    | Hypertension(No)    | Hypertension(Yes)   | Hypertension(Yes)  |\n",
      "+--------------+---------------------+---------------------+---------------------+--------------------+\n",
      "| Sex          | Sex(Female)         | Sex(Male)           | Sex(Female)         | Sex(Male)          |\n",
      "+--------------+---------------------+---------------------+---------------------+--------------------+\n",
      "| Anxiety(No)  | 0.9604060913705583  | 0.8838193791157103  | 0.8780487804878049  | 0.8407258064516129 |\n",
      "+--------------+---------------------+---------------------+---------------------+--------------------+\n",
      "| Anxiety(Yes) | 0.03959390862944162 | 0.11618062088428975 | 0.12195121951219512 | 0.1592741935483871 |\n",
      "+--------------+---------------------+---------------------+---------------------+--------------------+\n",
      "+-------------------+---------------------+--------------------+---------------------+--------------------+---------------------+---------------------+\n",
      "| Age               | Age(18-24)          | Age(24-34)         | Age(34-44)          | Age(44-54)         | Age(54-64)          | Age(64-74)          |\n",
      "+-------------------+---------------------+--------------------+---------------------+--------------------+---------------------+---------------------+\n",
      "| Hypertension(No)  | 0.8333333333333334  | 0.8432267884322678 | 0.8110403397027601  | 0.7626086956521739 | 0.8422818791946308  | 0.8181818181818182  |\n",
      "+-------------------+---------------------+--------------------+---------------------+--------------------+---------------------+---------------------+\n",
      "| Hypertension(Yes) | 0.16666666666666666 | 0.1567732115677321 | 0.18895966029723993 | 0.2373913043478261 | 0.15771812080536912 | 0.18181818181818182 |\n",
      "+-------------------+---------------------+--------------------+---------------------+--------------------+---------------------+---------------------+\n",
      "+-----------------------------------------+---------------------+---------------------+---------------+---------------+---------------------+---------------------+--------------------+---------------------+---------------------+--------------------+----------------------+---------------+--------------------+---------------------+---------------------+---------------------+--------------------+---------------------+---------------------+---------------+--------------+--------------+--------------------+---------------+\n",
      "| Age                                     | Age(18-24)          | Age(18-24)          | Age(18-24)    | Age(18-24)    | Age(24-34)          | Age(24-34)          | Age(24-34)         | Age(24-34)          | Age(34-44)          | Age(34-44)         | Age(34-44)           | Age(34-44)    | Age(44-54)         | Age(44-54)          | Age(44-54)          | Age(44-54)          | Age(54-64)         | Age(54-64)          | Age(54-64)          | Age(54-64)    | Age(64-74)   | Age(64-74)   | Age(64-74)         | Age(64-74)    |\n",
      "+-----------------------------------------+---------------------+---------------------+---------------+---------------+---------------------+---------------------+--------------------+---------------------+---------------------+--------------------+----------------------+---------------+--------------------+---------------------+---------------------+---------------------+--------------------+---------------------+---------------------+---------------+--------------+--------------+--------------------+---------------+\n",
      "| Diabetes                                | Diabetes(No)        | Diabetes(No)        | Diabetes(Yes) | Diabetes(Yes) | Diabetes(No)        | Diabetes(No)        | Diabetes(Yes)      | Diabetes(Yes)       | Diabetes(No)        | Diabetes(No)       | Diabetes(Yes)        | Diabetes(Yes) | Diabetes(No)       | Diabetes(No)        | Diabetes(Yes)       | Diabetes(Yes)       | Diabetes(No)       | Diabetes(No)        | Diabetes(Yes)       | Diabetes(Yes) | Diabetes(No) | Diabetes(No) | Diabetes(Yes)      | Diabetes(Yes) |\n",
      "+-----------------------------------------+---------------------+---------------------+---------------+---------------+---------------------+---------------------+--------------------+---------------------+---------------------+--------------------+----------------------+---------------+--------------------+---------------------+---------------------+---------------------+--------------------+---------------------+---------------------+---------------+--------------+--------------+--------------------+---------------+\n",
      "| Sex                                     | Sex(Female)         | Sex(Male)           | Sex(Female)   | Sex(Male)     | Sex(Female)         | Sex(Male)           | Sex(Female)        | Sex(Male)           | Sex(Female)         | Sex(Male)          | Sex(Female)          | Sex(Male)     | Sex(Female)        | Sex(Male)           | Sex(Female)         | Sex(Male)           | Sex(Female)        | Sex(Male)           | Sex(Female)         | Sex(Male)     | Sex(Female)  | Sex(Male)    | Sex(Female)        | Sex(Male)     |\n",
      "+-----------------------------------------+---------------------+---------------------+---------------+---------------+---------------------+---------------------+--------------------+---------------------+---------------------+--------------------+----------------------+---------------+--------------------+---------------------+---------------------+---------------------+--------------------+---------------------+---------------------+---------------+--------------+--------------+--------------------+---------------+\n",
      "| PhysicalActivity(Insufficiently Active) | 0.5454545454545454  | 0.7619047619047619  | 0.5           | 0.5           | 0.8115942028985508  | 0.8329466357308585  | 0.6666666666666666 | 0.8636363636363636  | 0.8199513381995134  | 0.7550371155885471 | 0.9777777777777777   | 0.15          | 0.4454022988505747 | 0.7073825503355705  | 0.19047619047619047 | 0.14285714285714285 | 0.6736842105263158 | 0.7165775401069518  | 0.16666666666666666 | 0.78125       | 0.75         | 0.75         | 0.6666666666666666 | 0.5           |\n",
      "+-----------------------------------------+---------------------+---------------------+---------------+---------------+---------------------+---------------------+--------------------+---------------------+---------------------+--------------------+----------------------+---------------+--------------------+---------------------+---------------------+---------------------+--------------------+---------------------+---------------------+---------------+--------------+--------------+--------------------+---------------+\n",
      "| PhysicalActivity(Regularly Active)      | 0.45454545454545453 | 0.23809523809523808 | 0.5           | 0.5           | 0.18840579710144928 | 0.16705336426914152 | 0.3333333333333333 | 0.13636363636363635 | 0.18004866180048662 | 0.2449628844114528 | 0.022222222222222223 | 0.85          | 0.5545977011494253 | 0.29261744966442954 | 0.8095238095238095  | 0.8571428571428571  | 0.3263157894736842 | 0.28342245989304815 | 0.8333333333333334  | 0.21875       | 0.25         | 0.25         | 0.3333333333333333 | 0.5           |\n",
      "+-----------------------------------------+---------------------+---------------------+---------------+---------------+---------------------+---------------------+--------------------+---------------------+---------------------+--------------------+----------------------+---------------+--------------------+---------------------+---------------------+---------------------+--------------------+---------------------+---------------------+---------------+--------------+--------------+--------------------+---------------+\n",
      "+------------------------+-----------------------+----------------------+---------------------------+----------------------------+\n",
      "| BodyMassIndex          | BodyMassIndex(Normal) | BodyMassIndex(Obese) | BodyMassIndex(Overweight) | BodyMassIndex(Underweight) |\n",
      "+------------------------+-----------------------+----------------------+---------------------------+----------------------------+\n",
      "| SocioeconomicStatus(1) | 0.3556050482553823    | 0.35015447991761073  | 0.24740124740124741       | 0.22916666666666666        |\n",
      "+------------------------+-----------------------+----------------------+---------------------------+----------------------------+\n",
      "| SocioeconomicStatus(2) | 0.2806236080178174    | 0.29145211122554066  | 0.3880803880803881        | 0.3020833333333333         |\n",
      "+------------------------+-----------------------+----------------------+---------------------------+----------------------------+\n",
      "| SocioeconomicStatus(3) | 0.3637713437268003    | 0.3583934088568486   | 0.3645183645183645        | 0.46875                    |\n",
      "+------------------------+-----------------------+----------------------+---------------------------+----------------------------+\n",
      "+---------------------------+---------------------+--------------------+------------------+-------------------+---------------------+--------------------+---------------------+---------------------+--------------------+---------------------+---------------------+---------------------+---------------------+--------------------+---------------------+-------------------+---------------------+---------------------+------------------+---------------------+--------------------+--------------------+--------------------+-------------------+\n",
      "| Age                       | Age(18-24)          | Age(18-24)         | Age(18-24)       | Age(18-24)        | Age(24-34)          | Age(24-34)         | Age(24-34)          | Age(24-34)          | Age(34-44)         | Age(34-44)          | Age(34-44)          | Age(34-44)          | Age(44-54)          | Age(44-54)         | Age(44-54)          | Age(44-54)        | Age(54-64)          | Age(54-64)          | Age(54-64)       | Age(54-64)          | Age(64-74)         | Age(64-74)         | Age(64-74)         | Age(64-74)        |\n",
      "+---------------------------+---------------------+--------------------+------------------+-------------------+---------------------+--------------------+---------------------+---------------------+--------------------+---------------------+---------------------+---------------------+---------------------+--------------------+---------------------+-------------------+---------------------+---------------------+------------------+---------------------+--------------------+--------------------+--------------------+-------------------+\n",
      "| Diabetes                  | Diabetes(No)        | Diabetes(No)       | Diabetes(Yes)    | Diabetes(Yes)     | Diabetes(No)        | Diabetes(No)       | Diabetes(Yes)       | Diabetes(Yes)       | Diabetes(No)       | Diabetes(No)        | Diabetes(Yes)       | Diabetes(Yes)       | Diabetes(No)        | Diabetes(No)       | Diabetes(Yes)       | Diabetes(Yes)     | Diabetes(No)        | Diabetes(No)        | Diabetes(Yes)    | Diabetes(Yes)       | Diabetes(No)       | Diabetes(No)       | Diabetes(Yes)      | Diabetes(Yes)     |\n",
      "+---------------------------+---------------------+--------------------+------------------+-------------------+---------------------+--------------------+---------------------+---------------------+--------------------+---------------------+---------------------+---------------------+---------------------+--------------------+---------------------+-------------------+---------------------+---------------------+------------------+---------------------+--------------------+--------------------+--------------------+-------------------+\n",
      "| Hypertension              | Hypertension(No)    | Hypertension(Yes)  | Hypertension(No) | Hypertension(Yes) | Hypertension(No)    | Hypertension(Yes)  | Hypertension(No)    | Hypertension(Yes)   | Hypertension(No)   | Hypertension(Yes)   | Hypertension(No)    | Hypertension(Yes)   | Hypertension(No)    | Hypertension(Yes)  | Hypertension(No)    | Hypertension(Yes) | Hypertension(No)    | Hypertension(Yes)   | Hypertension(No) | Hypertension(Yes)   | Hypertension(No)   | Hypertension(Yes)  | Hypertension(No)   | Hypertension(Yes) |\n",
      "+---------------------------+---------------------+--------------------+------------------+-------------------+---------------------+--------------------+---------------------+---------------------+--------------------+---------------------+---------------------+---------------------+---------------------+--------------------+---------------------+-------------------+---------------------+---------------------+------------------+---------------------+--------------------+--------------------+--------------------+-------------------+\n",
      "| Hypercholesterolemia(No)  | 0.8076923076923077  | 0.6666666666666666 | 0.5              | 0.5               | 0.7366482504604052  | 0.4842105263157895 | 0.21428571428571427 | 0.09090909090909091 | 0.7116953762466002 | 0.36254980079681276 | 0.782608695652174   | 0.47368421052631576 | 0.5783847980997625  | 0.3147410358565737 | 0.7894736842105263  | 0.56              | 0.6520833333333333  | 0.38095238095238093 | 0.4              | 0.38461538461538464 | 0.4444444444444444 | 0.3333333333333333 | 0.3333333333333333 | 0.5               |\n",
      "+---------------------------+---------------------+--------------------+------------------+-------------------+---------------------+--------------------+---------------------+---------------------+--------------------+---------------------+---------------------+---------------------+---------------------+--------------------+---------------------+-------------------+---------------------+---------------------+------------------+---------------------+--------------------+--------------------+--------------------+-------------------+\n",
      "| Hypercholesterolemia(Yes) | 0.19230769230769232 | 0.3333333333333333 | 0.5              | 0.5               | 0.26335174953959484 | 0.5157894736842106 | 0.7857142857142857  | 0.9090909090909091  | 0.2883046237533998 | 0.6374501992031872  | 0.21739130434782608 | 0.5263157894736842  | 0.42161520190023755 | 0.6852589641434262 | 0.21052631578947367 | 0.44              | 0.34791666666666665 | 0.6190476190476191  | 0.6              | 0.6153846153846154  | 0.5555555555555556 | 0.6666666666666666 | 0.6666666666666666 | 0.5               |\n",
      "+---------------------------+---------------------+--------------------+------------------+-------------------+---------------------+--------------------+---------------------+---------------------+--------------------+---------------------+---------------------+---------------------+---------------------+--------------------+---------------------+-------------------+---------------------+---------------------+------------------+---------------------+--------------------+--------------------+--------------------+-------------------+\n",
      "+---------------+----------------------+---------------------+\n",
      "| Hypertension  | Hypertension(No)     | Hypertension(Yes)   |\n",
      "+---------------+----------------------+---------------------+\n",
      "| Diabetes(No)  | 0.9623673206818912   | 0.9175675675675675  |\n",
      "+---------------+----------------------+---------------------+\n",
      "| Diabetes(Yes) | 0.037632679318108715 | 0.08243243243243244 |\n",
      "+---------------+----------------------+---------------------+\n",
      "+------------------+-----------------------------------------+------------------------------------+-----------------------------------------+------------------------------------+-----------------------------------------+------------------------------------+\n",
      "| EducationLevel   | EducationLevel(1)                       | EducationLevel(1)                  | EducationLevel(2)                       | EducationLevel(2)                  | EducationLevel(3)                       | EducationLevel(3)                  |\n",
      "+------------------+-----------------------------------------+------------------------------------+-----------------------------------------+------------------------------------+-----------------------------------------+------------------------------------+\n",
      "| PhysicalActivity | PhysicalActivity(Insufficiently Active) | PhysicalActivity(Regularly Active) | PhysicalActivity(Insufficiently Active) | PhysicalActivity(Regularly Active) | PhysicalActivity(Insufficiently Active) | PhysicalActivity(Regularly Active) |\n",
      "+------------------+-----------------------------------------+------------------------------------+-----------------------------------------+------------------------------------+-----------------------------------------+------------------------------------+\n",
      "| Depression(No)   | 0.8                                     | 0.75                               | 0.9908389585342333                      | 0.9976303317535545                 | 0.9971305595408895                      | 0.9914163090128756                 |\n",
      "+------------------+-----------------------------------------+------------------------------------+-----------------------------------------+------------------------------------+-----------------------------------------+------------------------------------+\n",
      "| Depression(Yes)  | 0.2                                     | 0.25                               | 0.009161041465766635                    | 0.002369668246445498               | 0.0028694404591104736                   | 0.008583690987124463               |\n",
      "+------------------+-----------------------------------------+------------------------------------+-----------------------------------------+------------------------------------+-----------------------------------------+------------------------------------+\n",
      "+-------------------------+-----------------------+----------------------+----------------------+-----------------+\n",
      "| Anxiety                 | Anxiety(No)           | Anxiety(No)          | Anxiety(Yes)         | Anxiety(Yes)    |\n",
      "+-------------------------+-----------------------+----------------------+----------------------+-----------------+\n",
      "| Depression              | Depression(No)        | Depression(Yes)      | Depression(No)       | Depression(Yes) |\n",
      "+-------------------------+-----------------------+----------------------+----------------------+-----------------+\n",
      "| SleepDuration(6-9hours) | 0.8906340895869692    | 0.8636363636363636   | 0.9183673469387755   | 0.6             |\n",
      "+-------------------------+-----------------------+----------------------+----------------------+-----------------+\n",
      "| SleepDuration(<6hours)  | 0.1084933100639907    | 0.09090909090909091  | 0.07397959183673469  | 0.2             |\n",
      "+-------------------------+-----------------------+----------------------+----------------------+-----------------+\n",
      "| SleepDuration(>9hours)  | 0.0008726003490401396 | 0.045454545454545456 | 0.007653061224489796 | 0.2             |\n",
      "+-------------------------+-----------------------+----------------------+----------------------+-----------------+\n",
      "+-------------+---------+\n",
      "| Sex(Female) | 0.31921 |\n",
      "+-------------+---------+\n",
      "| Sex(Male)   | 0.68079 |\n",
      "+-------------+---------+\n",
      "+---------------------------+-----------------------------------------+------------------------------------+-----------------------------------------+------------------------------------+-----------------------------------------+------------------------------------+-----------------------------------------+------------------------------------+-----------------------------------------+------------------------------------+-----------------------------------------+------------------------------------+-----------------------------------------+------------------------------------+-----------------------------------------+------------------------------------+-----------------------------------------+------------------------------------+-----------------------------------------+------------------------------------+-----------------------------------------+------------------------------------+-----------------------------------------+------------------------------------+\n",
      "| Age                       | Age(18-24)                              | Age(18-24)                         | Age(18-24)                              | Age(18-24)                         | Age(24-34)                              | Age(24-34)                         | Age(24-34)                              | Age(24-34)                         | Age(34-44)                              | Age(34-44)                         | Age(34-44)                              | Age(34-44)                         | Age(44-54)                              | Age(44-54)                         | Age(44-54)                              | Age(44-54)                         | Age(54-64)                              | Age(54-64)                         | Age(54-64)                              | Age(54-64)                         | Age(64-74)                              | Age(64-74)                         | Age(64-74)                              | Age(64-74)                         |\n",
      "+---------------------------+-----------------------------------------+------------------------------------+-----------------------------------------+------------------------------------+-----------------------------------------+------------------------------------+-----------------------------------------+------------------------------------+-----------------------------------------+------------------------------------+-----------------------------------------+------------------------------------+-----------------------------------------+------------------------------------+-----------------------------------------+------------------------------------+-----------------------------------------+------------------------------------+-----------------------------------------+------------------------------------+-----------------------------------------+------------------------------------+-----------------------------------------+------------------------------------+\n",
      "| Hypercholesterolemia      | Hypercholesterolemia(No)                | Hypercholesterolemia(No)           | Hypercholesterolemia(Yes)               | Hypercholesterolemia(Yes)          | Hypercholesterolemia(No)                | Hypercholesterolemia(No)           | Hypercholesterolemia(Yes)               | Hypercholesterolemia(Yes)          | Hypercholesterolemia(No)                | Hypercholesterolemia(No)           | Hypercholesterolemia(Yes)               | Hypercholesterolemia(Yes)          | Hypercholesterolemia(No)                | Hypercholesterolemia(No)           | Hypercholesterolemia(Yes)               | Hypercholesterolemia(Yes)          | Hypercholesterolemia(No)                | Hypercholesterolemia(No)           | Hypercholesterolemia(Yes)               | Hypercholesterolemia(Yes)          | Hypercholesterolemia(No)                | Hypercholesterolemia(No)           | Hypercholesterolemia(Yes)               | Hypercholesterolemia(Yes)          |\n",
      "+---------------------------+-----------------------------------------+------------------------------------+-----------------------------------------+------------------------------------+-----------------------------------------+------------------------------------+-----------------------------------------+------------------------------------+-----------------------------------------+------------------------------------+-----------------------------------------+------------------------------------+-----------------------------------------+------------------------------------+-----------------------------------------+------------------------------------+-----------------------------------------+------------------------------------+-----------------------------------------+------------------------------------+-----------------------------------------+------------------------------------+-----------------------------------------+------------------------------------+\n",
      "| PhysicalActivity          | PhysicalActivity(Insufficiently Active) | PhysicalActivity(Regularly Active) | PhysicalActivity(Insufficiently Active) | PhysicalActivity(Regularly Active) | PhysicalActivity(Insufficiently Active) | PhysicalActivity(Regularly Active) | PhysicalActivity(Insufficiently Active) | PhysicalActivity(Regularly Active) | PhysicalActivity(Insufficiently Active) | PhysicalActivity(Regularly Active) | PhysicalActivity(Insufficiently Active) | PhysicalActivity(Regularly Active) | PhysicalActivity(Insufficiently Active) | PhysicalActivity(Regularly Active) | PhysicalActivity(Insufficiently Active) | PhysicalActivity(Regularly Active) | PhysicalActivity(Insufficiently Active) | PhysicalActivity(Regularly Active) | PhysicalActivity(Insufficiently Active) | PhysicalActivity(Regularly Active) | PhysicalActivity(Insufficiently Active) | PhysicalActivity(Regularly Active) | PhysicalActivity(Insufficiently Active) | PhysicalActivity(Regularly Active) |\n",
      "+---------------------------+-----------------------------------------+------------------------------------+-----------------------------------------+------------------------------------+-----------------------------------------+------------------------------------+-----------------------------------------+------------------------------------+-----------------------------------------+------------------------------------+-----------------------------------------+------------------------------------+-----------------------------------------+------------------------------------+-----------------------------------------+------------------------------------+-----------------------------------------+------------------------------------+-----------------------------------------+------------------------------------+-----------------------------------------+------------------------------------+-----------------------------------------+------------------------------------+\n",
      "| SmokerProfile(Ex_Smoker)  | 0.09523809523809523                     | 0.125                              | 0.4                                     | 0.3333333333333333                 | 0.20441988950276244                     | 0.08888888888888889                | 0.2127659574468085                      | 0.3333333333333333                 | 0.17955801104972377                     | 0.07035175879396985                | 0.27540106951871657                     | 0.16666666666666666                | 0.1134020618556701                      | 0.11160714285714286                | 0.0915032679738562                      | 0.06198347107438017                | 0.18067226890756302                     | 0.1693548387096774                 | 0.26344086021505375                     | 0.3275862068965517                 | 0.3333333333333333                      | 0.3333333333333333                 | 0.25                                    | 0.25                               |\n",
      "+---------------------------+-----------------------------------------+------------------------------------+-----------------------------------------+------------------------------------+-----------------------------------------+------------------------------------+-----------------------------------------+------------------------------------+-----------------------------------------+------------------------------------+-----------------------------------------+------------------------------------+-----------------------------------------+------------------------------------+-----------------------------------------+------------------------------------+-----------------------------------------+------------------------------------+-----------------------------------------+------------------------------------+-----------------------------------------+------------------------------------+-----------------------------------------+------------------------------------+\n",
      "| SmokerProfile(Non_Smoker) | 0.5238095238095238                      | 0.75                               | 0.2                                     | 0.3333333333333333                 | 0.649171270718232                       | 0.6                                | 0.3191489361702128                      | 0.48148148148148145                | 0.7030386740331491                      | 0.5477386934673367                 | 0.5721925133689839                      | 0.48412698412698413                | 0.4536082474226804                      | 0.5848214285714286                 | 0.5196078431372549                      | 0.6033057851239669                 | 0.5714285714285714                      | 0.5080645161290323                 | 0.478494623655914                       | 0.27586206896551724                | 0.5                                     | 0.3333333333333333                 | 0.375                                   | 0.25                               |\n",
      "+---------------------------+-----------------------------------------+------------------------------------+-----------------------------------------+------------------------------------+-----------------------------------------+------------------------------------+-----------------------------------------+------------------------------------+-----------------------------------------+------------------------------------+-----------------------------------------+------------------------------------+-----------------------------------------+------------------------------------+-----------------------------------------+------------------------------------+-----------------------------------------+------------------------------------+-----------------------------------------+------------------------------------+-----------------------------------------+------------------------------------+-----------------------------------------+------------------------------------+\n",
      "| SmokerProfile(Smoker)     | 0.38095238095238093                     | 0.125                              | 0.4                                     | 0.3333333333333333                 | 0.1464088397790055                      | 0.3111111111111111                 | 0.46808510638297873                     | 0.18518518518518517                | 0.11740331491712708                     | 0.38190954773869346                | 0.15240641711229946                     | 0.3492063492063492                 | 0.4329896907216495                      | 0.30357142857142855                | 0.3888888888888889                      | 0.3347107438016529                 | 0.24789915966386555                     | 0.3225806451612903                 | 0.25806451612903225                     | 0.39655172413793105                | 0.16666666666666666                     | 0.3333333333333333                 | 0.375                                   | 0.5                                |\n",
      "+---------------------------+-----------------------------------------+------------------------------------+-----------------------------------------+------------------------------------+-----------------------------------------+------------------------------------+-----------------------------------------+------------------------------------+-----------------------------------------+------------------------------------+-----------------------------------------+------------------------------------+-----------------------------------------+------------------------------------+-----------------------------------------+------------------------------------+-----------------------------------------+------------------------------------+-----------------------------------------+------------------------------------+-----------------------------------------+------------------------------------+-----------------------------------------+------------------------------------+\n",
      "+----------------------------+--------------------------+---------------------------+-----------------------+--------------------------+---------------------------+-----------------------+--------------------------+---------------------------+-----------------------+--------------------------+---------------------------+-----------------------+--------------------------+---------------------------+-----------------------+--------------------------+---------------------------+-----------------------+\n",
      "| Age                        | Age(18-24)               | Age(18-24)                | Age(18-24)            | Age(24-34)               | Age(24-34)                | Age(24-34)            | Age(34-44)               | Age(34-44)                | Age(34-44)            | Age(44-54)               | Age(44-54)                | Age(44-54)            | Age(54-64)               | Age(54-64)                | Age(54-64)            | Age(64-74)               | Age(64-74)                | Age(64-74)            |\n",
      "+----------------------------+--------------------------+---------------------------+-----------------------+--------------------------+---------------------------+-----------------------+--------------------------+---------------------------+-----------------------+--------------------------+---------------------------+-----------------------+--------------------------+---------------------------+-----------------------+--------------------------+---------------------------+-----------------------+\n",
      "| SmokerProfile              | SmokerProfile(Ex_Smoker) | SmokerProfile(Non_Smoker) | SmokerProfile(Smoker) | SmokerProfile(Ex_Smoker) | SmokerProfile(Non_Smoker) | SmokerProfile(Smoker) | SmokerProfile(Ex_Smoker) | SmokerProfile(Non_Smoker) | SmokerProfile(Smoker) | SmokerProfile(Ex_Smoker) | SmokerProfile(Non_Smoker) | SmokerProfile(Smoker) | SmokerProfile(Ex_Smoker) | SmokerProfile(Non_Smoker) | SmokerProfile(Smoker) | SmokerProfile(Ex_Smoker) | SmokerProfile(Non_Smoker) | SmokerProfile(Smoker) |\n",
      "+----------------------------+--------------------------+---------------------------+-----------------------+--------------------------+---------------------------+-----------------------+--------------------------+---------------------------+-----------------------+--------------------------+---------------------------+-----------------------+--------------------------+---------------------------+-----------------------+--------------------------+---------------------------+-----------------------+\n",
      "| BodyMassIndex(Normal)      | 0.2857142857142857       | 0.3                       | 0.23076923076923078   | 0.4961832061068702       | 0.15469613259668508       | 0.4540229885057471    | 0.45149253731343286      | 0.16349384098544234       | 0.21374045801526717   | 0.24107142857142858      | 0.6519607843137255        | 0.3486238532110092    | 0.24242424242424243      | 0.5526315789473685        | 0.2529411764705882    | 0.3333333333333333       | 0.375                     | 0.2857142857142857    |\n",
      "+----------------------------+--------------------------+---------------------------+-----------------------+--------------------------+---------------------------+-----------------------+--------------------------+---------------------------+-----------------------+--------------------------+---------------------------+-----------------------+--------------------------+---------------------------+-----------------------+--------------------------+---------------------------+-----------------------+\n",
      "| BodyMassIndex(Obese)       | 0.14285714285714285      | 0.25                      | 0.3076923076923077    | 0.15267175572519084      | 0.4723756906077348        | 0.1724137931034483    | 0.1828358208955224       | 0.3807390817469205        | 0.33587786259541985   | 0.2767857142857143       | 0.032679738562091505      | 0.2706422018348624    | 0.25                     | 0.06907894736842106       | 0.29411764705882354   | 0.3333333333333333       | 0.25                      | 0.14285714285714285   |\n",
      "+----------------------------+--------------------------+---------------------------+-----------------------+--------------------------+---------------------------+-----------------------+--------------------------+---------------------------+-----------------------+--------------------------+---------------------------+-----------------------+--------------------------+---------------------------+-----------------------+--------------------------+---------------------------+-----------------------+\n",
      "| BodyMassIndex(Overweight)  | 0.42857142857142855      | 0.35                      | 0.38461538461538464   | 0.31297709923664124      | 0.3701657458563536        | 0.3505747126436782    | 0.34701492537313433      | 0.4501679731243001        | 0.21374045801526717   | 0.4732142857142857       | 0.30392156862745096       | 0.37155963302752293   | 0.5                      | 0.3519736842105263        | 0.4470588235294118    | 0.16666666666666666      | 0.25                      | 0.42857142857142855   |\n",
      "+----------------------------+--------------------------+---------------------------+-----------------------+--------------------------+---------------------------+-----------------------+--------------------------+---------------------------+-----------------------+--------------------------+---------------------------+-----------------------+--------------------------+---------------------------+-----------------------+--------------------------+---------------------------+-----------------------+\n",
      "| BodyMassIndex(Underweight) | 0.14285714285714285      | 0.1                       | 0.07692307692307693   | 0.03816793893129771      | 0.0027624309392265192     | 0.022988505747126436  | 0.018656716417910446     | 0.005599104143337066      | 0.2366412213740458    | 0.008928571428571428     | 0.011437908496732025      | 0.009174311926605505  | 0.007575757575757576     | 0.02631578947368421       | 0.0058823529411764705 | 0.16666666666666666      | 0.125                     | 0.14285714285714285   |\n",
      "+----------------------------+--------------------------+---------------------------+-----------------------+--------------------------+---------------------------+-----------------------+--------------------------+---------------------------+-----------------------+--------------------------+---------------------------+-----------------------+--------------------------+---------------------------+-----------------------+--------------------------+---------------------------+-----------------------+\n"
     ]
    }
   ],
   "source": [
    "def print_full(cpd):\n",
    "    backup = TabularCPD._truncate_strtable\n",
    "    TabularCPD._truncate_strtable = lambda self, x: x\n",
    "    print(cpd)\n",
    "    TabularCPD._truncate_strtable = backup\n",
    "\n",
    "for c in bm.get_cpds():\n",
    "    print_full(c)\n"
   ]
  },
  {
   "cell_type": "code",
   "execution_count": 21,
   "metadata": {},
   "outputs": [
    {
     "name": "stdout",
     "output_type": "stream",
     "text": [
      "54-64\n",
      "+-------------------------+----------------------+\n",
      "| SleepDuration           |   phi(SleepDuration) |\n",
      "+=========================+======================+\n",
      "| SleepDuration(6-9hours) |               0.8928 |\n",
      "+-------------------------+----------------------+\n",
      "| SleepDuration(<6hours)  |               0.1050 |\n",
      "+-------------------------+----------------------+\n",
      "| SleepDuration(>9hours)  |               0.0022 |\n",
      "+-------------------------+----------------------+\n",
      "24-34\n",
      "+-------------------------+----------------------+\n",
      "| SleepDuration           |   phi(SleepDuration) |\n",
      "+=========================+======================+\n",
      "| SleepDuration(6-9hours) |               0.8928 |\n",
      "+-------------------------+----------------------+\n",
      "| SleepDuration(<6hours)  |               0.1050 |\n",
      "+-------------------------+----------------------+\n",
      "| SleepDuration(>9hours)  |               0.0022 |\n",
      "+-------------------------+----------------------+\n",
      "34-44\n",
      "+-------------------------+----------------------+\n",
      "| SleepDuration           |   phi(SleepDuration) |\n",
      "+=========================+======================+\n",
      "| SleepDuration(6-9hours) |               0.8930 |\n",
      "+-------------------------+----------------------+\n",
      "| SleepDuration(<6hours)  |               0.1049 |\n",
      "+-------------------------+----------------------+\n",
      "| SleepDuration(>9hours)  |               0.0021 |\n",
      "+-------------------------+----------------------+\n",
      "44-54\n",
      "+-------------------------+----------------------+\n",
      "| SleepDuration           |   phi(SleepDuration) |\n",
      "+=========================+======================+\n",
      "| SleepDuration(6-9hours) |               0.8931 |\n",
      "+-------------------------+----------------------+\n",
      "| SleepDuration(<6hours)  |               0.1049 |\n",
      "+-------------------------+----------------------+\n",
      "| SleepDuration(>9hours)  |               0.0021 |\n",
      "+-------------------------+----------------------+\n",
      "64-74\n",
      "+-------------------------+----------------------+\n",
      "| SleepDuration           |   phi(SleepDuration) |\n",
      "+=========================+======================+\n",
      "| SleepDuration(6-9hours) |               0.8899 |\n",
      "+-------------------------+----------------------+\n",
      "| SleepDuration(<6hours)  |               0.1048 |\n",
      "+-------------------------+----------------------+\n",
      "| SleepDuration(>9hours)  |               0.0053 |\n",
      "+-------------------------+----------------------+\n",
      "18-24\n",
      "+-------------------------+----------------------+\n",
      "| SleepDuration           |   phi(SleepDuration) |\n",
      "+=========================+======================+\n",
      "| SleepDuration(6-9hours) |               0.8908 |\n",
      "+-------------------------+----------------------+\n",
      "| SleepDuration(<6hours)  |               0.1049 |\n",
      "+-------------------------+----------------------+\n",
      "| SleepDuration(>9hours)  |               0.0043 |\n",
      "+-------------------------+----------------------+\n"
     ]
    }
   ],
   "source": [
    "infer = VariableElimination(bm)\n",
    "\n",
    "for Age in df_train['Age'].unique(): # sem relacao, justificar. # Pesquisa Cotas a dormir\n",
    "    print(Age)\n",
    "    print(infer.query(['SleepDuration'], evidence={'Age': Age}))"
   ]
  },
  {
   "cell_type": "code",
   "execution_count": 22,
   "metadata": {},
   "outputs": [
    {
     "name": "stdout",
     "output_type": "stream",
     "text": [
      "Smoker Diabetes\n",
      "+---------------+-----------------+\n",
      "| Diabetes      |   phi(Diabetes) |\n",
      "+===============+=================+\n",
      "| Diabetes(No)  |          0.9469 |\n",
      "+---------------+-----------------+\n",
      "| Diabetes(Yes) |          0.0531 |\n",
      "+---------------+-----------------+\n",
      "Non_Smoker Diabetes\n",
      "+---------------+-----------------+\n",
      "| Diabetes      |   phi(Diabetes) |\n",
      "+===============+=================+\n",
      "| Diabetes(No)  |          0.9564 |\n",
      "+---------------+-----------------+\n",
      "| Diabetes(Yes) |          0.0436 |\n",
      "+---------------+-----------------+\n",
      "Ex_Smoker Diabetes\n",
      "+---------------+-----------------+\n",
      "| Diabetes      |   phi(Diabetes) |\n",
      "+===============+=================+\n",
      "| Diabetes(No)  |          0.9557 |\n",
      "+---------------+-----------------+\n",
      "| Diabetes(Yes) |          0.0443 |\n",
      "+---------------+-----------------+\n",
      "Smoker Hypercholesterolemia\n",
      "+---------------------------+-----------------------------+\n",
      "| Hypercholesterolemia      |   phi(Hypercholesterolemia) |\n",
      "+===========================+=============================+\n",
      "| Hypercholesterolemia(No)  |                      0.5550 |\n",
      "+---------------------------+-----------------------------+\n",
      "| Hypercholesterolemia(Yes) |                      0.4450 |\n",
      "+---------------------------+-----------------------------+\n",
      "Non_Smoker Hypercholesterolemia\n",
      "+---------------------------+-----------------------------+\n",
      "| Hypercholesterolemia      |   phi(Hypercholesterolemia) |\n",
      "+===========================+=============================+\n",
      "| Hypercholesterolemia(No)  |                      0.6536 |\n",
      "+---------------------------+-----------------------------+\n",
      "| Hypercholesterolemia(Yes) |                      0.3464 |\n",
      "+---------------------------+-----------------------------+\n",
      "Ex_Smoker Hypercholesterolemia\n",
      "+---------------------------+-----------------------------+\n",
      "| Hypercholesterolemia      |   phi(Hypercholesterolemia) |\n",
      "+===========================+=============================+\n",
      "| Hypercholesterolemia(No)  |                      0.5540 |\n",
      "+---------------------------+-----------------------------+\n",
      "| Hypercholesterolemia(Yes) |                      0.4460 |\n",
      "+---------------------------+-----------------------------+\n",
      "Smoker Hypertension\n",
      "+-------------------+---------------------+\n",
      "| Hypertension      |   phi(Hypertension) |\n",
      "+===================+=====================+\n",
      "| Hypertension(No)  |              0.7944 |\n",
      "+-------------------+---------------------+\n",
      "| Hypertension(Yes) |              0.2056 |\n",
      "+-------------------+---------------------+\n",
      "Non_Smoker Hypertension\n",
      "+-------------------+---------------------+\n",
      "| Hypertension      |   phi(Hypertension) |\n",
      "+===================+=====================+\n",
      "| Hypertension(No)  |              0.8145 |\n",
      "+-------------------+---------------------+\n",
      "| Hypertension(Yes) |              0.1855 |\n",
      "+-------------------+---------------------+\n",
      "Ex_Smoker Hypertension\n",
      "+-------------------+---------------------+\n",
      "| Hypertension      |   phi(Hypertension) |\n",
      "+===================+=====================+\n",
      "| Hypertension(No)  |              0.8027 |\n",
      "+-------------------+---------------------+\n",
      "| Hypertension(Yes) |              0.1973 |\n",
      "+-------------------+---------------------+\n"
     ]
    }
   ],
   "source": [
    "for Profile in df_train['SmokerProfile'].unique():\n",
    "    print(Profile, 'Diabetes')\n",
    "    print(infer.query(['Diabetes'], evidence={'SmokerProfile': Profile}))\n",
    "\n",
    "for Profile in df_train['SmokerProfile'].unique():\n",
    "    print(Profile, 'Hypercholesterolemia')\n",
    "    print(infer.query(['Hypercholesterolemia'], evidence={'SmokerProfile': Profile}))\n",
    "\n",
    "for Profile in df_train['SmokerProfile'].unique():\n",
    "    print(Profile, 'Hypertension')\n",
    "    print(infer.query(['Hypertension'], evidence={'SmokerProfile': Profile}))"
   ]
  },
  {
   "cell_type": "code",
   "execution_count": 23,
   "metadata": {},
   "outputs": [
    {
     "name": "stdout",
     "output_type": "stream",
     "text": [
      "Overweight Diabetes\n",
      "+---------------+-----------------+\n",
      "| Diabetes      |   phi(Diabetes) |\n",
      "+===============+=================+\n",
      "| Diabetes(No)  |          0.9546 |\n",
      "+---------------+-----------------+\n",
      "| Diabetes(Yes) |          0.0454 |\n",
      "+---------------+-----------------+\n",
      "Obese Diabetes\n",
      "+---------------+-----------------+\n",
      "| Diabetes      |   phi(Diabetes) |\n",
      "+===============+=================+\n",
      "| Diabetes(No)  |          0.9554 |\n",
      "+---------------+-----------------+\n",
      "| Diabetes(Yes) |          0.0446 |\n",
      "+---------------+-----------------+\n",
      "Normal Diabetes\n",
      "+---------------+-----------------+\n",
      "| Diabetes      |   phi(Diabetes) |\n",
      "+===============+=================+\n",
      "| Diabetes(No)  |          0.9526 |\n",
      "+---------------+-----------------+\n",
      "| Diabetes(Yes) |          0.0474 |\n",
      "+---------------+-----------------+\n",
      "Underweight Diabetes\n",
      "+---------------+-----------------+\n",
      "| Diabetes      |   phi(Diabetes) |\n",
      "+===============+=================+\n",
      "| Diabetes(No)  |          0.9420 |\n",
      "+---------------+-----------------+\n",
      "| Diabetes(Yes) |          0.0580 |\n",
      "+---------------+-----------------+\n",
      "Overweight Hypercholesterolemia\n",
      "+---------------------------+-----------------------------+\n",
      "| Hypercholesterolemia      |   phi(Hypercholesterolemia) |\n",
      "+===========================+=============================+\n",
      "| Hypercholesterolemia(No)  |                      0.6152 |\n",
      "+---------------------------+-----------------------------+\n",
      "| Hypercholesterolemia(Yes) |                      0.3848 |\n",
      "+---------------------------+-----------------------------+\n",
      "Obese Hypercholesterolemia\n",
      "+---------------------------+-----------------------------+\n",
      "| Hypercholesterolemia      |   phi(Hypercholesterolemia) |\n",
      "+===========================+=============================+\n",
      "| Hypercholesterolemia(No)  |                      0.6489 |\n",
      "+---------------------------+-----------------------------+\n",
      "| Hypercholesterolemia(Yes) |                      0.3511 |\n",
      "+---------------------------+-----------------------------+\n",
      "Normal Hypercholesterolemia\n",
      "+---------------------------+-----------------------------+\n",
      "| Hypercholesterolemia      |   phi(Hypercholesterolemia) |\n",
      "+===========================+=============================+\n",
      "| Hypercholesterolemia(No)  |                      0.5767 |\n",
      "+---------------------------+-----------------------------+\n",
      "| Hypercholesterolemia(Yes) |                      0.4233 |\n",
      "+---------------------------+-----------------------------+\n",
      "Underweight Hypercholesterolemia\n",
      "+---------------------------+-----------------------------+\n",
      "| Hypercholesterolemia      |   phi(Hypercholesterolemia) |\n",
      "+===========================+=============================+\n",
      "| Hypercholesterolemia(No)  |                      0.6120 |\n",
      "+---------------------------+-----------------------------+\n",
      "| Hypercholesterolemia(Yes) |                      0.3880 |\n",
      "+---------------------------+-----------------------------+\n",
      "Overweight Hypertension Sex\n",
      "+-------------------+---------------------+\n",
      "| Hypertension      |   phi(Hypertension) |\n",
      "+===================+=====================+\n",
      "| Hypertension(No)  |              0.8093 |\n",
      "+-------------------+---------------------+\n",
      "| Hypertension(Yes) |              0.1907 |\n",
      "+-------------------+---------------------+\n",
      "Obese Hypertension Sex\n",
      "+-------------------+---------------------+\n",
      "| Hypertension      |   phi(Hypertension) |\n",
      "+===================+=====================+\n",
      "| Hypertension(No)  |              0.8172 |\n",
      "+-------------------+---------------------+\n",
      "| Hypertension(Yes) |              0.1828 |\n",
      "+-------------------+---------------------+\n",
      "Normal Hypertension Sex\n",
      "+-------------------+---------------------+\n",
      "| Hypertension      |   phi(Hypertension) |\n",
      "+===================+=====================+\n",
      "| Hypertension(No)  |              0.7975 |\n",
      "+-------------------+---------------------+\n",
      "| Hypertension(Yes) |              0.2025 |\n",
      "+-------------------+---------------------+\n",
      "Underweight Hypertension Sex\n",
      "+-------------------+---------------------+\n",
      "| Hypertension      |   phi(Hypertension) |\n",
      "+===================+=====================+\n",
      "| Hypertension(No)  |              0.8056 |\n",
      "+-------------------+---------------------+\n",
      "| Hypertension(Yes) |              0.1944 |\n",
      "+-------------------+---------------------+\n"
     ]
    }
   ],
   "source": [
    "# Dar ganda lengalenga\n",
    "\n",
    "for Profile in df_train['BodyMassIndex'].unique():\n",
    "    print(Profile, 'Diabetes')\n",
    "    print(infer.query(['Diabetes'], evidence={'BodyMassIndex': Profile}))\n",
    "\n",
    "for Profile in df_train['BodyMassIndex'].unique():\n",
    "    print(Profile, 'Hypercholesterolemia')\n",
    "    print(infer.query(['Hypercholesterolemia'], evidence={'BodyMassIndex': Profile}))\n",
    "\n",
    "for Profile in df_train['BodyMassIndex'].unique():\n",
    "    print(Profile, 'Hypertension Sex')\n",
    "    print(infer.query(['Hypertension'], evidence={'BodyMassIndex': Profile}))"
   ]
  },
  {
   "cell_type": "code",
   "execution_count": 24,
   "metadata": {},
   "outputs": [
    {
     "name": "stdout",
     "output_type": "stream",
     "text": [
      "2 3\n",
      "+-----------------+-------------------+\n",
      "| Depression      |   phi(Depression) |\n",
      "+=================+===================+\n",
      "| Depression(No)  |            0.9928 |\n",
      "+-----------------+-------------------+\n",
      "| Depression(Yes) |            0.0072 |\n",
      "+-----------------+-------------------+\n",
      "2 1\n",
      "+-----------------+-------------------+\n",
      "| Depression      |   phi(Depression) |\n",
      "+=================+===================+\n",
      "| Depression(No)  |            0.9928 |\n",
      "+-----------------+-------------------+\n",
      "| Depression(Yes) |            0.0072 |\n",
      "+-----------------+-------------------+\n",
      "2 2\n",
      "+-----------------+-------------------+\n",
      "| Depression      |   phi(Depression) |\n",
      "+=================+===================+\n",
      "| Depression(No)  |            0.9928 |\n",
      "+-----------------+-------------------+\n",
      "| Depression(Yes) |            0.0072 |\n",
      "+-----------------+-------------------+\n",
      "3 3\n",
      "+-----------------+-------------------+\n",
      "| Depression      |   phi(Depression) |\n",
      "+=================+===================+\n",
      "| Depression(No)  |            0.9954 |\n",
      "+-----------------+-------------------+\n",
      "| Depression(Yes) |            0.0046 |\n",
      "+-----------------+-------------------+\n",
      "3 1\n",
      "+-----------------+-------------------+\n",
      "| Depression      |   phi(Depression) |\n",
      "+=================+===================+\n",
      "| Depression(No)  |            0.9956 |\n",
      "+-----------------+-------------------+\n",
      "| Depression(Yes) |            0.0044 |\n",
      "+-----------------+-------------------+\n",
      "3 2\n",
      "+-----------------+-------------------+\n",
      "| Depression      |   phi(Depression) |\n",
      "+=================+===================+\n",
      "| Depression(No)  |            0.9956 |\n",
      "+-----------------+-------------------+\n",
      "| Depression(Yes) |            0.0044 |\n",
      "+-----------------+-------------------+\n",
      "1 3\n",
      "+-----------------+-------------------+\n",
      "| Depression      |   phi(Depression) |\n",
      "+=================+===================+\n",
      "| Depression(No)  |            0.7857 |\n",
      "+-----------------+-------------------+\n",
      "| Depression(Yes) |            0.2143 |\n",
      "+-----------------+-------------------+\n",
      "1 1\n",
      "+-----------------+-------------------+\n",
      "| Depression      |   phi(Depression) |\n",
      "+=================+===================+\n",
      "| Depression(No)  |            0.7856 |\n",
      "+-----------------+-------------------+\n",
      "| Depression(Yes) |            0.2144 |\n",
      "+-----------------+-------------------+\n",
      "1 2\n",
      "+-----------------+-------------------+\n",
      "| Depression      |   phi(Depression) |\n",
      "+=================+===================+\n",
      "| Depression(No)  |            0.7857 |\n",
      "+-----------------+-------------------+\n",
      "| Depression(Yes) |            0.2143 |\n",
      "+-----------------+-------------------+\n",
      "starts\n",
      "3\n",
      "+-----------------+-------------------+\n",
      "| Depression      |   phi(Depression) |\n",
      "+=================+===================+\n",
      "| Depression(No)  |            0.9956 |\n",
      "+-----------------+-------------------+\n",
      "| Depression(Yes) |            0.0044 |\n",
      "+-----------------+-------------------+\n",
      "1\n",
      "+-----------------+-------------------+\n",
      "| Depression      |   phi(Depression) |\n",
      "+=================+===================+\n",
      "| Depression(No)  |            0.7857 |\n",
      "+-----------------+-------------------+\n",
      "| Depression(Yes) |            0.2143 |\n",
      "+-----------------+-------------------+\n",
      "2\n",
      "+-----------------+-------------------+\n",
      "| Depression      |   phi(Depression) |\n",
      "+=================+===================+\n",
      "| Depression(No)  |            0.9928 |\n",
      "+-----------------+-------------------+\n",
      "| Depression(Yes) |            0.0072 |\n",
      "+-----------------+-------------------+\n"
     ]
    }
   ],
   "source": [
    "for Level in df_train['EducationLevel'].unique():\n",
    "    for status in df_train['SocioeconomicStatus'].unique():\n",
    "        print(Level, status)\n",
    "        print(infer.query(['Depression'], evidence={'EducationLevel': Level, 'SocioeconomicStatus': status}))\n",
    "\n",
    "print(\"starts\")\n",
    "for Level in df_train['SocioeconomicStatus'].unique():\n",
    "    print(Level)\n",
    "    print(infer.query(['Depression'], evidence={'EducationLevel': Level, 'SocioeconomicStatus': status}))"
   ]
  },
  {
   "cell_type": "markdown",
   "metadata": {},
   "source": [
    "### With SMOTE"
   ]
  },
  {
   "cell_type": "code",
   "execution_count": 25,
   "metadata": {},
   "outputs": [],
   "source": [
    "bm_resampled = BayesianNetwork()\n",
    "bm_resampled.add_nodes_from(nodes)\n",
    "bm_resampled.add_edges_from(best_model.edges)"
   ]
  },
  {
   "cell_type": "code",
   "execution_count": 26,
   "metadata": {},
   "outputs": [],
   "source": [
    "bm_resampled.fit(df_resampled, estimator=BayesianEstimator, prior_type='dirichlet', pseudo_counts=1)"
   ]
  },
  {
   "cell_type": "code",
   "execution_count": 27,
   "metadata": {},
   "outputs": [
    {
     "name": "stdout",
     "output_type": "stream",
     "text": [
      "+-------------------------+----------------------+\n",
      "| SleepDuration           |   phi(SleepDuration) |\n",
      "+=========================+======================+\n",
      "| SleepDuration(6-9hours) |               0.8097 |\n",
      "+-------------------------+----------------------+\n",
      "| SleepDuration(<6hours)  |               0.1433 |\n",
      "+-------------------------+----------------------+\n",
      "| SleepDuration(>9hours)  |               0.0470 |\n",
      "+-------------------------+----------------------+\n",
      "+-------------------------+----------------------+\n",
      "| SleepDuration           |   phi(SleepDuration) |\n",
      "+=========================+======================+\n",
      "| SleepDuration(6-9hours) |               0.8178 |\n",
      "+-------------------------+----------------------+\n",
      "| SleepDuration(<6hours)  |               0.1397 |\n",
      "+-------------------------+----------------------+\n",
      "| SleepDuration(>9hours)  |               0.0425 |\n",
      "+-------------------------+----------------------+\n",
      "+-------------------------+----------------------+\n",
      "| SleepDuration           |   phi(SleepDuration) |\n",
      "+=========================+======================+\n",
      "| SleepDuration(6-9hours) |               0.8212 |\n",
      "+-------------------------+----------------------+\n",
      "| SleepDuration(<6hours)  |               0.1382 |\n",
      "+-------------------------+----------------------+\n",
      "| SleepDuration(>9hours)  |               0.0406 |\n",
      "+-------------------------+----------------------+\n",
      "+-------------------------+----------------------+\n",
      "| SleepDuration           |   phi(SleepDuration) |\n",
      "+=========================+======================+\n",
      "| SleepDuration(6-9hours) |               0.8162 |\n",
      "+-------------------------+----------------------+\n",
      "| SleepDuration(<6hours)  |               0.1404 |\n",
      "+-------------------------+----------------------+\n",
      "| SleepDuration(>9hours)  |               0.0434 |\n",
      "+-------------------------+----------------------+\n",
      "+-------------------------+----------------------+\n",
      "| SleepDuration           |   phi(SleepDuration) |\n",
      "+=========================+======================+\n",
      "| SleepDuration(6-9hours) |               0.7491 |\n",
      "+-------------------------+----------------------+\n",
      "| SleepDuration(<6hours)  |               0.1702 |\n",
      "+-------------------------+----------------------+\n",
      "| SleepDuration(>9hours)  |               0.0807 |\n",
      "+-------------------------+----------------------+\n",
      "+-------------------------+----------------------+\n",
      "| SleepDuration           |   phi(SleepDuration) |\n",
      "+=========================+======================+\n",
      "| SleepDuration(6-9hours) |               0.7455 |\n",
      "+-------------------------+----------------------+\n",
      "| SleepDuration(<6hours)  |               0.1718 |\n",
      "+-------------------------+----------------------+\n",
      "| SleepDuration(>9hours)  |               0.0827 |\n",
      "+-------------------------+----------------------+\n"
     ]
    }
   ],
   "source": [
    "infer = VariableElimination(bm_resampled) # We can not easily decode the data...\n",
    "\n",
    "for Age in df_resampled['Age'].unique(): \n",
    "    print(infer.query(['SleepDuration'], evidence={'Age': Age}))"
   ]
  },
  {
   "cell_type": "markdown",
   "metadata": {},
   "source": [
    "Inference with smote isn't working due to an issue with the way we are encoding our values."
   ]
  },
  {
   "cell_type": "markdown",
   "metadata": {},
   "source": [
    "# Evaluating The Network"
   ]
  },
  {
   "cell_type": "markdown",
   "metadata": {},
   "source": [
    "## No Smote"
   ]
  },
  {
   "cell_type": "code",
   "execution_count": 28,
   "metadata": {},
   "outputs": [
    {
     "data": {
      "application/vnd.jupyter.widget-view+json": {
       "model_id": "f8cdc56a38794f8983731107b5f2dd9b",
       "version_major": 2,
       "version_minor": 0
      },
      "text/plain": [
       "  0%|          | 0/808 [00:00<?, ?it/s]"
      ]
     },
     "metadata": {},
     "output_type": "display_data"
    },
    {
     "name": "stdout",
     "output_type": "stream",
     "text": [
      "              precision    recall  f1-score   support\n",
      "\n",
      "          No       0.95      1.00      0.98      1224\n",
      "         Yes       0.00      0.00      0.00        58\n",
      "\n",
      "    accuracy                           0.95      1282\n",
      "   macro avg       0.48      0.50      0.49      1282\n",
      "weighted avg       0.91      0.95      0.93      1282\n",
      "\n",
      "[[1224    0]\n",
      " [  58    0]]\n"
     ]
    }
   ],
   "source": [
    "X_test_diabetes = df_test.drop(columns='Diabetes')\n",
    "y_test_diabetes = df_test['Diabetes']\n",
    "\n",
    "X_train_diabetes = df_train.drop(columns='Diabetes')\n",
    "y_train_diabetes = df_test['Diabetes']\n",
    "\n",
    "y_pred = bm.predict(X_test_diabetes)\n",
    "\n",
    "print(classification_report(y_test_diabetes, y_pred, zero_division=False))\n",
    "print(confusion_matrix(y_test_diabetes, y_pred))"
   ]
  },
  {
   "cell_type": "code",
   "execution_count": 29,
   "metadata": {},
   "outputs": [
    {
     "data": {
      "application/vnd.jupyter.widget-view+json": {
       "model_id": "eec86888e9534b96bee72e6a3691aca4",
       "version_major": 2,
       "version_minor": 0
      },
      "text/plain": [
       "  0%|          | 0/741 [00:00<?, ?it/s]"
      ]
     },
     "metadata": {},
     "output_type": "display_data"
    },
    {
     "name": "stdout",
     "output_type": "stream",
     "text": [
      "              precision    recall  f1-score   support\n",
      "\n",
      "          No       0.83      0.99      0.90      1052\n",
      "         Yes       0.64      0.07      0.13       230\n",
      "\n",
      "    accuracy                           0.83      1282\n",
      "   macro avg       0.73      0.53      0.51      1282\n",
      "weighted avg       0.80      0.83      0.76      1282\n",
      "\n",
      "[[1043    9]\n",
      " [ 214   16]]\n"
     ]
    }
   ],
   "source": [
    "X_test_hypertension = df_test.drop(columns='Hypertension')\n",
    "y_test_hypertension = df_test['Hypertension']\n",
    "y_pred = bm.predict(X_test_hypertension)\n",
    "\n",
    "print(classification_report(y_test_hypertension, y_pred))\n",
    "print(confusion_matrix(y_test_hypertension, y_pred))\n"
   ]
  },
  {
   "cell_type": "code",
   "execution_count": 30,
   "metadata": {},
   "outputs": [
    {
     "data": {
      "application/vnd.jupyter.widget-view+json": {
       "model_id": "dcd2b606bb1b4548ae761117abd31d94",
       "version_major": 2,
       "version_minor": 0
      },
      "text/plain": [
       "  0%|          | 0/704 [00:00<?, ?it/s]"
      ]
     },
     "metadata": {},
     "output_type": "display_data"
    },
    {
     "name": "stdout",
     "output_type": "stream",
     "text": [
      "              precision    recall  f1-score   support\n",
      "\n",
      "          No       0.70      0.88      0.78       795\n",
      "         Yes       0.66      0.37      0.47       487\n",
      "\n",
      "    accuracy                           0.69      1282\n",
      "   macro avg       0.68      0.63      0.63      1282\n",
      "weighted avg       0.68      0.69      0.66      1282\n",
      "\n",
      "[[701  94]\n",
      " [307 180]]\n"
     ]
    }
   ],
   "source": [
    "X_test_cholesterolemia = df_test.drop(columns='Hypercholesterolemia')\n",
    "y_test_cholesterolemia = df_test['Hypercholesterolemia']\n",
    "y_pred = bm.predict(X_test_cholesterolemia)\n",
    "print(classification_report(y_test_cholesterolemia, y_pred))\n",
    "print(confusion_matrix(y_test_cholesterolemia, y_pred))"
   ]
  },
  {
   "cell_type": "markdown",
   "metadata": {},
   "source": [
    "## With SMOTE"
   ]
  },
  {
   "cell_type": "code",
   "execution_count": 31,
   "metadata": {},
   "outputs": [],
   "source": [
    "X_test_diabetes = df_test.drop(columns='Diabetes')\n",
    "y_test_diabetes = df_test['Diabetes']"
   ]
  },
  {
   "cell_type": "code",
   "execution_count": 32,
   "metadata": {},
   "outputs": [
    {
     "data": {
      "application/vnd.jupyter.widget-view+json": {
       "model_id": "27d62be5f4cf43bbb33d02a15098342d",
       "version_major": 2,
       "version_minor": 0
      },
      "text/plain": [
       "  0%|          | 0/808 [00:00<?, ?it/s]"
      ]
     },
     "metadata": {},
     "output_type": "display_data"
    },
    {
     "name": "stdout",
     "output_type": "stream",
     "text": [
      "              precision    recall  f1-score   support\n",
      "\n",
      "          No       0.96      0.97      0.96      1224\n",
      "         Yes       0.16      0.12      0.14        58\n",
      "\n",
      "    accuracy                           0.93      1282\n",
      "   macro avg       0.56      0.55      0.55      1282\n",
      "weighted avg       0.92      0.93      0.93      1282\n",
      "\n",
      "[[1187   37]\n",
      " [  51    7]]\n"
     ]
    }
   ],
   "source": [
    "X_resampled_diabetes = df_resampled.drop(columns='Diabetes')\n",
    "y_test_diabetes = df_test['Diabetes']\n",
    "\n",
    "y_pred = bm_resampled.predict(X_test_diabetes)\n",
    "\n",
    "print(classification_report(y_test_diabetes, y_pred, zero_division=False))\n",
    "print(confusion_matrix(y_test_diabetes, y_pred))"
   ]
  },
  {
   "cell_type": "code",
   "execution_count": 33,
   "metadata": {},
   "outputs": [
    {
     "data": {
      "application/vnd.jupyter.widget-view+json": {
       "model_id": "f2d57f8ae58f412eaa4ccfb50fffff3f",
       "version_major": 2,
       "version_minor": 0
      },
      "text/plain": [
       "  0%|          | 0/741 [00:00<?, ?it/s]"
      ]
     },
     "metadata": {},
     "output_type": "display_data"
    },
    {
     "name": "stdout",
     "output_type": "stream",
     "text": [
      "              precision    recall  f1-score   support\n",
      "\n",
      "          No       0.83      0.98      0.90      1052\n",
      "         Yes       0.52      0.07      0.13       230\n",
      "\n",
      "    accuracy                           0.82      1282\n",
      "   macro avg       0.67      0.53      0.51      1282\n",
      "weighted avg       0.77      0.82      0.76      1282\n",
      "\n",
      "[[1036   16]\n",
      " [ 213   17]]\n"
     ]
    }
   ],
   "source": [
    "X_test_hypertension = df_test.drop(columns='Hypertension')\n",
    "y_test_hypertension = df_test['Hypertension']\n",
    "y_pred = bm_resampled.predict(X_test_hypertension)\n",
    "\n",
    "print(classification_report(y_test_hypertension, y_pred))\n",
    "print(confusion_matrix(y_test_hypertension, y_pred))\n"
   ]
  },
  {
   "cell_type": "code",
   "execution_count": 34,
   "metadata": {},
   "outputs": [
    {
     "data": {
      "application/vnd.jupyter.widget-view+json": {
       "model_id": "46a9b4b9de434e2f9c4a9b87b19ab1e8",
       "version_major": 2,
       "version_minor": 0
      },
      "text/plain": [
       "  0%|          | 0/704 [00:00<?, ?it/s]"
      ]
     },
     "metadata": {},
     "output_type": "display_data"
    },
    {
     "name": "stdout",
     "output_type": "stream",
     "text": [
      "              precision    recall  f1-score   support\n",
      "\n",
      "          No       0.69      0.89      0.78       795\n",
      "         Yes       0.67      0.36      0.47       487\n",
      "\n",
      "    accuracy                           0.69      1282\n",
      "   macro avg       0.68      0.63      0.62      1282\n",
      "weighted avg       0.69      0.69      0.66      1282\n",
      "\n",
      "[[710  85]\n",
      " [313 174]]\n"
     ]
    }
   ],
   "source": [
    "X_test_cholesterolemia = df_test.drop(columns='Hypercholesterolemia')\n",
    "y_test_cholesterolemia = df_test['Hypercholesterolemia']\n",
    "y_pred = bm_resampled.predict(X_test_cholesterolemia)\n",
    "print(classification_report(y_test_cholesterolemia, y_pred))\n",
    "print(confusion_matrix(y_test_cholesterolemia, y_pred))"
   ]
  },
  {
   "cell_type": "code",
   "execution_count": 35,
   "metadata": {},
   "outputs": [
    {
     "data": {
      "text/plain": [
       "Age                     1282\n",
       "Anxiety                 1282\n",
       "BodyMassIndex           1282\n",
       "Depression              1282\n",
       "Diabetes                1282\n",
       "EducationLevel          1282\n",
       "Hypercholesterolemia    1282\n",
       "Hypertension            1282\n",
       "PhysicalActivity        1282\n",
       "Sex                     1282\n",
       "SleepDuration           1282\n",
       "SmokerProfile           1282\n",
       "SocioeconomicStatus     1282\n",
       "dtype: int64"
      ]
     },
     "execution_count": 35,
     "metadata": {},
     "output_type": "execute_result"
    }
   ],
   "source": [
    "df_test.count()"
   ]
  },
  {
   "cell_type": "code",
   "execution_count": 36,
   "metadata": {},
   "outputs": [
    {
     "data": {
      "text/plain": [
       "Age                     3845\n",
       "Anxiety                 3845\n",
       "BodyMassIndex           3845\n",
       "Depression              3845\n",
       "Diabetes                3845\n",
       "EducationLevel          3845\n",
       "Hypercholesterolemia    3845\n",
       "Hypertension            3845\n",
       "PhysicalActivity        3845\n",
       "Sex                     3845\n",
       "SleepDuration           3845\n",
       "SmokerProfile           3845\n",
       "SocioeconomicStatus     3845\n",
       "dtype: int64"
      ]
     },
     "execution_count": 36,
     "metadata": {},
     "output_type": "execute_result"
    }
   ],
   "source": [
    "df_train.count()"
   ]
  },
  {
   "cell_type": "code",
   "execution_count": 37,
   "metadata": {},
   "outputs": [
    {
     "data": {
      "text/plain": [
       "Age                     4402\n",
       "Anxiety                 4402\n",
       "BodyMassIndex           4402\n",
       "Depression              4402\n",
       "EducationLevel          4402\n",
       "Hypercholesterolemia    4402\n",
       "Hypertension            4402\n",
       "PhysicalActivity        4402\n",
       "Sex                     4402\n",
       "SleepDuration           4402\n",
       "SmokerProfile           4402\n",
       "SocioeconomicStatus     4402\n",
       "Diabetes                4402\n",
       "dtype: int64"
      ]
     },
     "execution_count": 37,
     "metadata": {},
     "output_type": "execute_result"
    }
   ],
   "source": [
    "df_resampled.count()"
   ]
  },
  {
   "cell_type": "code",
   "execution_count": null,
   "metadata": {},
   "outputs": [],
   "source": []
  }
 ],
 "metadata": {
  "kernelspec": {
   "display_name": "base",
   "language": "python",
   "name": "python3"
  },
  "language_info": {
   "codemirror_mode": {
    "name": "ipython",
    "version": 3
   },
   "file_extension": ".py",
   "mimetype": "text/x-python",
   "name": "python",
   "nbconvert_exporter": "python",
   "pygments_lexer": "ipython3",
   "version": "3.12.2"
  }
 },
 "nbformat": 4,
 "nbformat_minor": 2
}
